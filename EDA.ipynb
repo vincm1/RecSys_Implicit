{
  "nbformat": 4,
  "nbformat_minor": 0,
  "metadata": {
    "colab": {
      "provenance": [],
      "mount_file_id": "10c3aky6ZZRPlxdFKV5LPcy_o3Cz1VS3t",
      "authorship_tag": "ABX9TyMKJxqlN+uDtlJf4JyzqwnJ",
      "include_colab_link": true
    },
    "kernelspec": {
      "name": "python3",
      "display_name": "Python 3"
    },
    "language_info": {
      "name": "python"
    }
  },
  "cells": [
    {
      "cell_type": "markdown",
      "metadata": {
        "id": "view-in-github",
        "colab_type": "text"
      },
      "source": [
        "<a href=\"https://colab.research.google.com/github/vincm1/RecSys_Implicit/blob/master/EDA.ipynb\" target=\"_parent\"><img src=\"https://colab.research.google.com/assets/colab-badge.svg\" alt=\"Open In Colab\"/></a>"
      ]
    },
    {
      "cell_type": "code",
      "execution_count": 1,
      "metadata": {
        "id": "ckSO5DJ6tr_e"
      },
      "outputs": [],
      "source": [
        "import zipfile\n",
        "import pickle\n",
        "import numpy as np\n",
        "import seaborn as sns\n",
        "import matplotlib.pyplot as plt\n",
        "import pandas as pd"
      ]
    },
    {
      "cell_type": "code",
      "source": [
        "df_zip = zipfile.ZipFile('/content/drive/MyDrive/RecSys/Orders_Nov22_Jun23.zip')\n",
        "df = pd.read_csv(df_zip.open('Bericht 1.csv'), delimiter=\";\")"
      ],
      "metadata": {
        "colab": {
          "base_uri": "https://localhost:8080/"
        },
        "id": "qN212aDkt0LW",
        "outputId": "4e123ce1-8b92-423a-a229-769c934f19b6"
      },
      "execution_count": 2,
      "outputs": [
        {
          "output_type": "stream",
          "name": "stderr",
          "text": [
            "<ipython-input-2-6f4658781373>:2: DtypeWarning: Columns (2,4) have mixed types. Specify dtype option on import or set low_memory=False.\n",
            "  df = pd.read_csv(df_zip.open('Bericht 1.csv'), delimiter=\";\")\n"
          ]
        }
      ]
    },
    {
      "cell_type": "code",
      "source": [
        "len(df)"
      ],
      "metadata": {
        "colab": {
          "base_uri": "https://localhost:8080/"
        },
        "id": "AJdrqwLiwS82",
        "outputId": "49947b21-d9dc-4b5a-fa91-960e56d52bd9"
      },
      "execution_count": 3,
      "outputs": [
        {
          "output_type": "execute_result",
          "data": {
            "text/plain": [
              "2220299"
            ]
          },
          "metadata": {},
          "execution_count": 3
        }
      ]
    },
    {
      "cell_type": "code",
      "source": [
        "# dropping all retours indicated by negative sales\n",
        "df_2 = df[df[\"Qty Shipped\"] >= 0]"
      ],
      "metadata": {
        "id": "IEPNhs3Oud1U"
      },
      "execution_count": 5,
      "outputs": []
    },
    {
      "cell_type": "code",
      "source": [
        "# dropping customer name due to privacy reasons\n",
        "df_2 = df_2[['Order Nbr', 'Entry Date', 'Entry DateTime', 'FiscalMonth',\n",
        "       'BranchCustomerNbr', 'BusinessUnitLevel2', 'KDGroup',\n",
        "       'Sku', 'Product Descr1', 'Product Descr2', 'ProductGroup',\n",
        "       'ProductGroupMasterDescription', 'ProductGroupDescription',\n",
        "       'ProductGroup2ndDescription', 'Sales', 'Qty Shipped']]"
      ],
      "metadata": {
        "id": "T0RJj3dQ4N5Q"
      },
      "execution_count": 6,
      "outputs": []
    },
    {
      "cell_type": "code",
      "source": [
        "len(df_2)"
      ],
      "metadata": {
        "colab": {
          "base_uri": "https://localhost:8080/"
        },
        "id": "ZZi8U84QOHoo",
        "outputId": "add2dbe3-89a7-487f-eae7-324a7432ed72"
      },
      "execution_count": 7,
      "outputs": [
        {
          "output_type": "execute_result",
          "data": {
            "text/plain": [
              "2142816"
            ]
          },
          "metadata": {},
          "execution_count": 7
        }
      ]
    },
    {
      "cell_type": "code",
      "source": [
        "len(df_2[\"Order Nbr\"].unique())"
      ],
      "metadata": {
        "colab": {
          "base_uri": "https://localhost:8080/"
        },
        "id": "3lVuD2vv0yVl",
        "outputId": "8b9108a9-464f-4c96-9cb7-94b73cfd08c5"
      },
      "execution_count": 8,
      "outputs": [
        {
          "output_type": "execute_result",
          "data": {
            "text/plain": [
              "371053"
            ]
          },
          "metadata": {},
          "execution_count": 8
        }
      ]
    },
    {
      "cell_type": "code",
      "source": [
        "len(df_2[\"BranchCustomerNbr\"].unique())"
      ],
      "metadata": {
        "colab": {
          "base_uri": "https://localhost:8080/"
        },
        "id": "3W2O6qse1JKf",
        "outputId": "17dd2178-94d2-4cdb-fb23-2137d24aeed5"
      },
      "execution_count": 9,
      "outputs": [
        {
          "output_type": "execute_result",
          "data": {
            "text/plain": [
              "17634"
            ]
          },
          "metadata": {},
          "execution_count": 9
        }
      ]
    },
    {
      "cell_type": "code",
      "source": [
        "len(df_2[\"Sku\"].unique())"
      ],
      "metadata": {
        "colab": {
          "base_uri": "https://localhost:8080/"
        },
        "id": "9cz4n3qs2v_4",
        "outputId": "9ea8d76d-18f0-416b-e218-e48372bb05d1"
      },
      "execution_count": 10,
      "outputs": [
        {
          "output_type": "execute_result",
          "data": {
            "text/plain": [
              "76110"
            ]
          },
          "metadata": {},
          "execution_count": 10
        }
      ]
    }
  ]
}