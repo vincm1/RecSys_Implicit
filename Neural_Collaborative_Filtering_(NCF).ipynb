{
  "nbformat": 4,
  "nbformat_minor": 0,
  "metadata": {
    "colab": {
      "provenance": [],
      "gpuType": "V100",
      "machine_shape": "hm",
      "mount_file_id": "17ETxG4vwtC4Q-QQkSC0OoMm8NNiZSLOH",
      "authorship_tag": "ABX9TyP+BxCZR+w4IS2R1metMIWl",
      "include_colab_link": true
    },
    "kernelspec": {
      "name": "python3",
      "display_name": "Python 3"
    },
    "language_info": {
      "name": "python"
    },
    "accelerator": "GPU"
  },
  "cells": [
    {
      "cell_type": "markdown",
      "metadata": {
        "id": "view-in-github",
        "colab_type": "text"
      },
      "source": [
        "<a href=\"https://colab.research.google.com/github/vincm1/RecSys_Implicit/blob/master/Neural_Collaborative_Filtering_(NCF).ipynb\" target=\"_parent\"><img src=\"https://colab.research.google.com/assets/colab-badge.svg\" alt=\"Open In Colab\"/></a>"
      ]
    },
    {
      "cell_type": "code",
      "source": [
        "!pip install LibRecommender"
      ],
      "metadata": {
        "colab": {
          "base_uri": "https://localhost:8080/"
        },
        "id": "g0eprXf9ucgf",
        "outputId": "8b205366-0180-411a-9990-9c374eecc77e"
      },
      "execution_count": 1,
      "outputs": [
        {
          "output_type": "stream",
          "name": "stdout",
          "text": [
            "Requirement already satisfied: LibRecommender in /usr/local/lib/python3.10/dist-packages (1.3.0)\n",
            "Requirement already satisfied: gensim>=4.0.0 in /usr/local/lib/python3.10/dist-packages (from LibRecommender) (4.3.1)\n",
            "Requirement already satisfied: tqdm in /usr/local/lib/python3.10/dist-packages (from LibRecommender) (4.66.0)\n",
            "Requirement already satisfied: numpy>=1.18.5 in /usr/local/lib/python3.10/dist-packages (from gensim>=4.0.0->LibRecommender) (1.23.5)\n",
            "Requirement already satisfied: scipy>=1.7.0 in /usr/local/lib/python3.10/dist-packages (from gensim>=4.0.0->LibRecommender) (1.10.1)\n",
            "Requirement already satisfied: smart-open>=1.8.1 in /usr/local/lib/python3.10/dist-packages (from gensim>=4.0.0->LibRecommender) (6.3.0)\n"
          ]
        }
      ]
    },
    {
      "cell_type": "markdown",
      "source": [
        "# Neural Collaborative Filtering (NCF)\n",
        "\n",
        "This notebook tries to implement a NCF based RecSys for implicit transaction data of IT Hard- and Software purchases. Based on 6 months transaction data."
      ],
      "metadata": {
        "id": "mT8nuAFSrM-G"
      }
    },
    {
      "cell_type": "code",
      "source": [
        "import os\n",
        "import datetime\n",
        "import zipfile\n",
        "\n",
        "import numpy as np\n",
        "import pandas as pd\n",
        "import tensorflow as tf\n",
        "from tensorflow import keras\n",
        "\n",
        "from pathlib import Path\n",
        "import warnings\n",
        "warnings.filterwarnings(\"ignore\")"
      ],
      "metadata": {
        "id": "4o2HQsSRrpcq"
      },
      "execution_count": 2,
      "outputs": []
    },
    {
      "cell_type": "markdown",
      "source": [
        "# Data Preprocessing"
      ],
      "metadata": {
        "id": "8gdTGMdori2D"
      }
    },
    {
      "cell_type": "code",
      "execution_count": 3,
      "metadata": {
        "id": "okpcyaVRrGsB"
      },
      "outputs": [],
      "source": [
        "df_zip = zipfile.ZipFile('/content/drive/MyDrive/Colab Notebooks/RecSys/Orders_Nov22_Jun23.zip')\n",
        "df = pd.read_csv(df_zip.open('Bericht 1.csv'), delimiter=\";\")"
      ]
    },
    {
      "cell_type": "code",
      "source": [
        "df.head()"
      ],
      "metadata": {
        "id": "HZniroYThlbm",
        "colab": {
          "base_uri": "https://localhost:8080/",
          "height": 441
        },
        "outputId": "6b1a1192-7a2e-4204-8907-700664670e87"
      },
      "execution_count": 4,
      "outputs": [
        {
          "output_type": "execute_result",
          "data": {
            "text/plain": [
              "  Order Nbr Entry Date Entry DateTime FiscalMonth BranchCustomerNbr  \\\n",
              "0   1547606   01.11.22            NaN    2022FM11          15515778   \n",
              "1   1547615   01.11.22            NaN    2022FM11          15509465   \n",
              "2   1547616   01.11.22            NaN    2022FM11          15509465   \n",
              "3   1547617   01.11.22            NaN    2022FM11          15509465   \n",
              "4   1547688   01.11.22            NaN    2022FM11          15865338   \n",
              "\n",
              "                    CustomerName   BusinessUnitLevel2 KDGroup      Sku  \\\n",
              "0           NET-S M. CHMIELEWSKI  Export Channel (DE)          9433B9X   \n",
              "1  DIGITAL RIVER IRELAND LIMITED  Export Channel (DE)    DIRL  CB31510   \n",
              "2  DIGITAL RIVER IRELAND LIMITED  Export Channel (DE)    DIRL  CE63791   \n",
              "3  DIGITAL RIVER IRELAND LIMITED  Export Channel (DE)    DIRL  CC36816   \n",
              "4           DISTRELEC SCHWEIZ AG  Export Channel (DE)          J151410   \n",
              "\n",
              "                   Product Descr1                   Product Descr2  \\\n",
              "0               INK CARTRIDGE SPS  BLACK 370ML 600 DPI INKJET BULK   \n",
              "1            LENOVO KEYBOARD PACK                   FOR TAB P11-DE   \n",
              "2   TP L13 YOGA G3 R7P 5875U 16GB      512GB SSD 13.3 WUXGA W10PDG   \n",
              "3  THINKBOOK 13S G3 R5 5600U 16GB        512GB SSD 13.3 WUXGA W11P   \n",
              "4    USB2.0 A TO B CABLE 5M BLACK    M/M 100PCT COPPER CONDUCTOR .   \n",
              "\n",
              "   ProductGroup ProductGroupMasterDescription      ProductGroupDescription  \\\n",
              "0          1037                   Consumables                          Ink   \n",
              "1           641                 Input Devices          Keyboards & Keypads   \n",
              "2            11              Computer Systems  Portable/Notebook Computers   \n",
              "3            11              Computer Systems  Portable/Notebook Computers   \n",
              "4          1206                        Cables        Usb Cables & Adapters   \n",
              "\n",
              "  ProductGroup2ndDescription       Sales  Qty Shipped  \n",
              "0                   Supplies      -15,33         -1.0  \n",
              "1     Printers & Peripherals     -104,61         -1.0  \n",
              "2                     System   -1.232,13         -1.0  \n",
              "3                     System     -824,73         -1.0  \n",
              "4     Printers & Peripherals       -6,60         -3.0  "
            ],
            "text/html": [
              "\n",
              "\n",
              "  <div id=\"df-81f2e1b7-0d94-4939-ac1c-77c4188f258c\">\n",
              "    <div class=\"colab-df-container\">\n",
              "      <div>\n",
              "<style scoped>\n",
              "    .dataframe tbody tr th:only-of-type {\n",
              "        vertical-align: middle;\n",
              "    }\n",
              "\n",
              "    .dataframe tbody tr th {\n",
              "        vertical-align: top;\n",
              "    }\n",
              "\n",
              "    .dataframe thead th {\n",
              "        text-align: right;\n",
              "    }\n",
              "</style>\n",
              "<table border=\"1\" class=\"dataframe\">\n",
              "  <thead>\n",
              "    <tr style=\"text-align: right;\">\n",
              "      <th></th>\n",
              "      <th>Order Nbr</th>\n",
              "      <th>Entry Date</th>\n",
              "      <th>Entry DateTime</th>\n",
              "      <th>FiscalMonth</th>\n",
              "      <th>BranchCustomerNbr</th>\n",
              "      <th>CustomerName</th>\n",
              "      <th>BusinessUnitLevel2</th>\n",
              "      <th>KDGroup</th>\n",
              "      <th>Sku</th>\n",
              "      <th>Product Descr1</th>\n",
              "      <th>Product Descr2</th>\n",
              "      <th>ProductGroup</th>\n",
              "      <th>ProductGroupMasterDescription</th>\n",
              "      <th>ProductGroupDescription</th>\n",
              "      <th>ProductGroup2ndDescription</th>\n",
              "      <th>Sales</th>\n",
              "      <th>Qty Shipped</th>\n",
              "    </tr>\n",
              "  </thead>\n",
              "  <tbody>\n",
              "    <tr>\n",
              "      <th>0</th>\n",
              "      <td>1547606</td>\n",
              "      <td>01.11.22</td>\n",
              "      <td>NaN</td>\n",
              "      <td>2022FM11</td>\n",
              "      <td>15515778</td>\n",
              "      <td>NET-S M. CHMIELEWSKI</td>\n",
              "      <td>Export Channel (DE)</td>\n",
              "      <td></td>\n",
              "      <td>9433B9X</td>\n",
              "      <td>INK CARTRIDGE SPS</td>\n",
              "      <td>BLACK 370ML 600 DPI INKJET BULK</td>\n",
              "      <td>1037</td>\n",
              "      <td>Consumables</td>\n",
              "      <td>Ink</td>\n",
              "      <td>Supplies</td>\n",
              "      <td>-15,33</td>\n",
              "      <td>-1.0</td>\n",
              "    </tr>\n",
              "    <tr>\n",
              "      <th>1</th>\n",
              "      <td>1547615</td>\n",
              "      <td>01.11.22</td>\n",
              "      <td>NaN</td>\n",
              "      <td>2022FM11</td>\n",
              "      <td>15509465</td>\n",
              "      <td>DIGITAL RIVER IRELAND LIMITED</td>\n",
              "      <td>Export Channel (DE)</td>\n",
              "      <td>DIRL</td>\n",
              "      <td>CB31510</td>\n",
              "      <td>LENOVO KEYBOARD PACK</td>\n",
              "      <td>FOR TAB P11-DE</td>\n",
              "      <td>641</td>\n",
              "      <td>Input Devices</td>\n",
              "      <td>Keyboards &amp; Keypads</td>\n",
              "      <td>Printers &amp; Peripherals</td>\n",
              "      <td>-104,61</td>\n",
              "      <td>-1.0</td>\n",
              "    </tr>\n",
              "    <tr>\n",
              "      <th>2</th>\n",
              "      <td>1547616</td>\n",
              "      <td>01.11.22</td>\n",
              "      <td>NaN</td>\n",
              "      <td>2022FM11</td>\n",
              "      <td>15509465</td>\n",
              "      <td>DIGITAL RIVER IRELAND LIMITED</td>\n",
              "      <td>Export Channel (DE)</td>\n",
              "      <td>DIRL</td>\n",
              "      <td>CE63791</td>\n",
              "      <td>TP L13 YOGA G3 R7P 5875U 16GB</td>\n",
              "      <td>512GB SSD 13.3 WUXGA W10PDG</td>\n",
              "      <td>11</td>\n",
              "      <td>Computer Systems</td>\n",
              "      <td>Portable/Notebook Computers</td>\n",
              "      <td>System</td>\n",
              "      <td>-1.232,13</td>\n",
              "      <td>-1.0</td>\n",
              "    </tr>\n",
              "    <tr>\n",
              "      <th>3</th>\n",
              "      <td>1547617</td>\n",
              "      <td>01.11.22</td>\n",
              "      <td>NaN</td>\n",
              "      <td>2022FM11</td>\n",
              "      <td>15509465</td>\n",
              "      <td>DIGITAL RIVER IRELAND LIMITED</td>\n",
              "      <td>Export Channel (DE)</td>\n",
              "      <td>DIRL</td>\n",
              "      <td>CC36816</td>\n",
              "      <td>THINKBOOK 13S G3 R5 5600U 16GB</td>\n",
              "      <td>512GB SSD 13.3 WUXGA W11P</td>\n",
              "      <td>11</td>\n",
              "      <td>Computer Systems</td>\n",
              "      <td>Portable/Notebook Computers</td>\n",
              "      <td>System</td>\n",
              "      <td>-824,73</td>\n",
              "      <td>-1.0</td>\n",
              "    </tr>\n",
              "    <tr>\n",
              "      <th>4</th>\n",
              "      <td>1547688</td>\n",
              "      <td>01.11.22</td>\n",
              "      <td>NaN</td>\n",
              "      <td>2022FM11</td>\n",
              "      <td>15865338</td>\n",
              "      <td>DISTRELEC SCHWEIZ AG</td>\n",
              "      <td>Export Channel (DE)</td>\n",
              "      <td></td>\n",
              "      <td>J151410</td>\n",
              "      <td>USB2.0 A TO B CABLE 5M BLACK</td>\n",
              "      <td>M/M 100PCT COPPER CONDUCTOR .</td>\n",
              "      <td>1206</td>\n",
              "      <td>Cables</td>\n",
              "      <td>Usb Cables &amp; Adapters</td>\n",
              "      <td>Printers &amp; Peripherals</td>\n",
              "      <td>-6,60</td>\n",
              "      <td>-3.0</td>\n",
              "    </tr>\n",
              "  </tbody>\n",
              "</table>\n",
              "</div>\n",
              "      <button class=\"colab-df-convert\" onclick=\"convertToInteractive('df-81f2e1b7-0d94-4939-ac1c-77c4188f258c')\"\n",
              "              title=\"Convert this dataframe to an interactive table.\"\n",
              "              style=\"display:none;\">\n",
              "\n",
              "  <svg xmlns=\"http://www.w3.org/2000/svg\" height=\"24px\"viewBox=\"0 0 24 24\"\n",
              "       width=\"24px\">\n",
              "    <path d=\"M0 0h24v24H0V0z\" fill=\"none\"/>\n",
              "    <path d=\"M18.56 5.44l.94 2.06.94-2.06 2.06-.94-2.06-.94-.94-2.06-.94 2.06-2.06.94zm-11 1L8.5 8.5l.94-2.06 2.06-.94-2.06-.94L8.5 2.5l-.94 2.06-2.06.94zm10 10l.94 2.06.94-2.06 2.06-.94-2.06-.94-.94-2.06-.94 2.06-2.06.94z\"/><path d=\"M17.41 7.96l-1.37-1.37c-.4-.4-.92-.59-1.43-.59-.52 0-1.04.2-1.43.59L10.3 9.45l-7.72 7.72c-.78.78-.78 2.05 0 2.83L4 21.41c.39.39.9.59 1.41.59.51 0 1.02-.2 1.41-.59l7.78-7.78 2.81-2.81c.8-.78.8-2.07 0-2.86zM5.41 20L4 18.59l7.72-7.72 1.47 1.35L5.41 20z\"/>\n",
              "  </svg>\n",
              "      </button>\n",
              "\n",
              "\n",
              "\n",
              "    <div id=\"df-4434a50f-a6d7-4eae-bca9-05ad8f50b832\">\n",
              "      <button class=\"colab-df-quickchart\" onclick=\"quickchart('df-4434a50f-a6d7-4eae-bca9-05ad8f50b832')\"\n",
              "              title=\"Suggest charts.\"\n",
              "              style=\"display:none;\">\n",
              "\n",
              "<svg xmlns=\"http://www.w3.org/2000/svg\" height=\"24px\"viewBox=\"0 0 24 24\"\n",
              "     width=\"24px\">\n",
              "    <g>\n",
              "        <path d=\"M19 3H5c-1.1 0-2 .9-2 2v14c0 1.1.9 2 2 2h14c1.1 0 2-.9 2-2V5c0-1.1-.9-2-2-2zM9 17H7v-7h2v7zm4 0h-2V7h2v10zm4 0h-2v-4h2v4z\"/>\n",
              "    </g>\n",
              "</svg>\n",
              "      </button>\n",
              "    </div>\n",
              "\n",
              "<style>\n",
              "  .colab-df-quickchart {\n",
              "    background-color: #E8F0FE;\n",
              "    border: none;\n",
              "    border-radius: 50%;\n",
              "    cursor: pointer;\n",
              "    display: none;\n",
              "    fill: #1967D2;\n",
              "    height: 32px;\n",
              "    padding: 0 0 0 0;\n",
              "    width: 32px;\n",
              "  }\n",
              "\n",
              "  .colab-df-quickchart:hover {\n",
              "    background-color: #E2EBFA;\n",
              "    box-shadow: 0px 1px 2px rgba(60, 64, 67, 0.3), 0px 1px 3px 1px rgba(60, 64, 67, 0.15);\n",
              "    fill: #174EA6;\n",
              "  }\n",
              "\n",
              "  [theme=dark] .colab-df-quickchart {\n",
              "    background-color: #3B4455;\n",
              "    fill: #D2E3FC;\n",
              "  }\n",
              "\n",
              "  [theme=dark] .colab-df-quickchart:hover {\n",
              "    background-color: #434B5C;\n",
              "    box-shadow: 0px 1px 3px 1px rgba(0, 0, 0, 0.15);\n",
              "    filter: drop-shadow(0px 1px 2px rgba(0, 0, 0, 0.3));\n",
              "    fill: #FFFFFF;\n",
              "  }\n",
              "</style>\n",
              "\n",
              "    <script>\n",
              "      async function quickchart(key) {\n",
              "        const containerElement = document.querySelector('#' + key);\n",
              "        const charts = await google.colab.kernel.invokeFunction(\n",
              "            'suggestCharts', [key], {});\n",
              "      }\n",
              "    </script>\n",
              "\n",
              "      <script>\n",
              "\n",
              "function displayQuickchartButton(domScope) {\n",
              "  let quickchartButtonEl =\n",
              "    domScope.querySelector('#df-4434a50f-a6d7-4eae-bca9-05ad8f50b832 button.colab-df-quickchart');\n",
              "  quickchartButtonEl.style.display =\n",
              "    google.colab.kernel.accessAllowed ? 'block' : 'none';\n",
              "}\n",
              "\n",
              "        displayQuickchartButton(document);\n",
              "      </script>\n",
              "      <style>\n",
              "    .colab-df-container {\n",
              "      display:flex;\n",
              "      flex-wrap:wrap;\n",
              "      gap: 12px;\n",
              "    }\n",
              "\n",
              "    .colab-df-convert {\n",
              "      background-color: #E8F0FE;\n",
              "      border: none;\n",
              "      border-radius: 50%;\n",
              "      cursor: pointer;\n",
              "      display: none;\n",
              "      fill: #1967D2;\n",
              "      height: 32px;\n",
              "      padding: 0 0 0 0;\n",
              "      width: 32px;\n",
              "    }\n",
              "\n",
              "    .colab-df-convert:hover {\n",
              "      background-color: #E2EBFA;\n",
              "      box-shadow: 0px 1px 2px rgba(60, 64, 67, 0.3), 0px 1px 3px 1px rgba(60, 64, 67, 0.15);\n",
              "      fill: #174EA6;\n",
              "    }\n",
              "\n",
              "    [theme=dark] .colab-df-convert {\n",
              "      background-color: #3B4455;\n",
              "      fill: #D2E3FC;\n",
              "    }\n",
              "\n",
              "    [theme=dark] .colab-df-convert:hover {\n",
              "      background-color: #434B5C;\n",
              "      box-shadow: 0px 1px 3px 1px rgba(0, 0, 0, 0.15);\n",
              "      filter: drop-shadow(0px 1px 2px rgba(0, 0, 0, 0.3));\n",
              "      fill: #FFFFFF;\n",
              "    }\n",
              "  </style>\n",
              "\n",
              "      <script>\n",
              "        const buttonEl =\n",
              "          document.querySelector('#df-81f2e1b7-0d94-4939-ac1c-77c4188f258c button.colab-df-convert');\n",
              "        buttonEl.style.display =\n",
              "          google.colab.kernel.accessAllowed ? 'block' : 'none';\n",
              "\n",
              "        async function convertToInteractive(key) {\n",
              "          const element = document.querySelector('#df-81f2e1b7-0d94-4939-ac1c-77c4188f258c');\n",
              "          const dataTable =\n",
              "            await google.colab.kernel.invokeFunction('convertToInteractive',\n",
              "                                                     [key], {});\n",
              "          if (!dataTable) return;\n",
              "\n",
              "          const docLinkHtml = 'Like what you see? Visit the ' +\n",
              "            '<a target=\"_blank\" href=https://colab.research.google.com/notebooks/data_table.ipynb>data table notebook</a>'\n",
              "            + ' to learn more about interactive tables.';\n",
              "          element.innerHTML = '';\n",
              "          dataTable['output_type'] = 'display_data';\n",
              "          await google.colab.output.renderOutput(dataTable, element);\n",
              "          const docLink = document.createElement('div');\n",
              "          docLink.innerHTML = docLinkHtml;\n",
              "          element.appendChild(docLink);\n",
              "        }\n",
              "      </script>\n",
              "    </div>\n",
              "  </div>\n"
            ]
          },
          "metadata": {},
          "execution_count": 4
        }
      ]
    },
    {
      "cell_type": "code",
      "source": [
        "print(len(df), len(df[\"BranchCustomerNbr\"].unique()), len(df[\"Sku\"].unique()))"
      ],
      "metadata": {
        "id": "WXG-euAWscrt",
        "colab": {
          "base_uri": "https://localhost:8080/"
        },
        "outputId": "bca3f0a3-2dcb-43c3-f5b2-87594641e27d"
      },
      "execution_count": 5,
      "outputs": [
        {
          "output_type": "stream",
          "name": "stdout",
          "text": [
            "2220299 17697 77401\n"
          ]
        }
      ]
    },
    {
      "cell_type": "markdown",
      "source": [
        "# Data Preprocessing"
      ],
      "metadata": {
        "id": "WRoQuZMxseqA"
      }
    },
    {
      "cell_type": "code",
      "source": [
        "# converting the customerid to string\n",
        "df[\"BranchCustomerNbr\"] = df[\"BranchCustomerNbr\"].astype(str)\n",
        "# converting the skuid to string\n",
        "df[\"Sku\"] = df[\"Sku\"].astype(str)\n",
        "# Entry Date to date\n",
        "df['Entry Date'] = pd.to_datetime(df['Entry Date'], format='%d.%m.%y')\n",
        "# dropping retours (orders with negative Qty shipped) and zero Qty shipped orders\n",
        "df = df[df[\"Qty Shipped\"] > 0]\n",
        "# dropping backlog invoices, Specified date to filter the rows\n",
        "specific_date = pd.to_datetime('2022-11-01')\n",
        "# Filter the DataFrame to keep only the rows that are before or equal to the specific date\n",
        "df = df[df[\"Entry Date\"] >= specific_date]\n",
        "#insert purchase indication column\n",
        "df[\"purchase\"] = 1"
      ],
      "metadata": {
        "id": "wdW2kcprlIb0"
      },
      "execution_count": 6,
      "outputs": []
    },
    {
      "cell_type": "code",
      "source": [
        "print(len(df), len(df[\"BranchCustomerNbr\"].unique()), len(df[\"Sku\"].unique()))"
      ],
      "metadata": {
        "id": "PLfQEu5esl-m",
        "colab": {
          "base_uri": "https://localhost:8080/"
        },
        "outputId": "515fbfd5-6fe0-40c9-e5be-44d8d62115f0"
      },
      "execution_count": 7,
      "outputs": [
        {
          "output_type": "stream",
          "name": "stdout",
          "text": [
            "2028956 13894 75643\n"
          ]
        }
      ]
    },
    {
      "cell_type": "code",
      "source": [
        "# add column that represent sku count\n",
        "def sku_count(df_pl):\n",
        "\n",
        "  df_pl['sku_count'] = df_pl.groupby('BranchCustomerNbr')['Sku'].transform('nunique')\n",
        "\n",
        "  return df_pl"
      ],
      "metadata": {
        "id": "RvQQV0ftspSf"
      },
      "execution_count": 8,
      "outputs": []
    },
    {
      "cell_type": "code",
      "source": [
        "df = sku_count(df)"
      ],
      "metadata": {
        "id": "vnst-d5nsqjM"
      },
      "execution_count": 9,
      "outputs": []
    },
    {
      "cell_type": "code",
      "source": [
        "# drop customers that only purchased 1 SKU\n",
        "df = df[df[\"sku_count\"] > 1]"
      ],
      "metadata": {
        "id": "VS2j3Ah-ssxl"
      },
      "execution_count": 10,
      "outputs": []
    },
    {
      "cell_type": "code",
      "source": [
        "print(len(df), len(df[\"BranchCustomerNbr\"].unique()), len(df[\"Sku\"].unique()))"
      ],
      "metadata": {
        "id": "B6_bx3HbszJC",
        "colab": {
          "base_uri": "https://localhost:8080/"
        },
        "outputId": "beed6786-c587-4c4b-e1be-62d20583fd06"
      },
      "execution_count": 11,
      "outputs": [
        {
          "output_type": "stream",
          "name": "stdout",
          "text": [
            "2025544 11328 75495\n"
          ]
        }
      ]
    },
    {
      "cell_type": "code",
      "source": [
        "# Create a numeric user_id and sku_id column\n",
        "df['BranchCustomerNbr'] = df['BranchCustomerNbr'].astype(\"category\")\n",
        "df['Sku'] = df['Sku'].astype(\"category\")\n",
        "df['bcn_id'] = df['BranchCustomerNbr'].cat.codes\n",
        "df['sku_id'] = df['Sku'].cat.codes"
      ],
      "metadata": {
        "id": "KOtgA1Vjslo8"
      },
      "execution_count": 12,
      "outputs": []
    },
    {
      "cell_type": "code",
      "source": [
        "users = df.bcn_id.unique()\n",
        "skus = df.sku_id.unique()\n",
        "print(len(users), len(skus))"
      ],
      "metadata": {
        "id": "mlWZ9niNs4eA",
        "colab": {
          "base_uri": "https://localhost:8080/"
        },
        "outputId": "9d8cfb52-9a43-48ed-a016-ba728ab64739"
      },
      "execution_count": 13,
      "outputs": [
        {
          "output_type": "stream",
          "name": "stdout",
          "text": [
            "11328 75495\n"
          ]
        }
      ]
    },
    {
      "cell_type": "code",
      "source": [
        "df_2 = df.groupby(['bcn_id', 'sku_id']).agg({\n",
        "                                        'Qty Shipped':'sum',\n",
        "                                        'purchase': 'sum'}).reset_index()\n",
        "df_2[\"purch_bin\"] = 1"
      ],
      "metadata": {
        "id": "gInlnjgttUZJ"
      },
      "execution_count": 14,
      "outputs": []
    },
    {
      "cell_type": "markdown",
      "source": [
        "## Train test split"
      ],
      "metadata": {
        "id": "ssX8EVmSbitY"
      }
    },
    {
      "cell_type": "code",
      "source": [
        "from libreco.data import split_by_num, random_split\n",
        "from libreco.data import DatasetFeat"
      ],
      "metadata": {
        "id": "FfMey0yvuiyK"
      },
      "execution_count": 15,
      "outputs": []
    },
    {
      "cell_type": "code",
      "source": [
        "df_2 = df_2.rename(columns={\"bcn_id\":\"user\", \"sku_id\":\"item\", \"purchase\":\"label\"})"
      ],
      "metadata": {
        "id": "bbqchAgvx8_8"
      },
      "execution_count": 16,
      "outputs": []
    },
    {
      "cell_type": "code",
      "source": [
        "train, test, eval = random_split(df_2[[\"user\", \"item\", \"label\"]], multi_ratios=[0.9,0.05,0.05])"
      ],
      "metadata": {
        "id": "o6pTIUd9uLUp"
      },
      "execution_count": 17,
      "outputs": []
    },
    {
      "cell_type": "code",
      "source": [
        "train, data_info = DatasetFeat.build_trainset(train)\n",
        "eval = DatasetFeat.build_evalset(eval)\n",
        "test = DatasetFeat.build_testset(test)"
      ],
      "metadata": {
        "id": "fkI-TuL01f6i"
      },
      "execution_count": 18,
      "outputs": []
    },
    {
      "cell_type": "code",
      "source": [
        "data_info"
      ],
      "metadata": {
        "id": "VjqrfarX1oQq",
        "colab": {
          "base_uri": "https://localhost:8080/"
        },
        "outputId": "121d2484-4d3d-4e5c-a96c-8a78e23a9dc2"
      },
      "execution_count": 19,
      "outputs": [
        {
          "output_type": "execute_result",
          "data": {
            "text/plain": [
              "n_users: 11302, n_items: 71957, data density: 0.0600 %"
            ]
          },
          "metadata": {},
          "execution_count": 19
        }
      ]
    },
    {
      "cell_type": "markdown",
      "source": [
        "# LibRec"
      ],
      "metadata": {
        "id": "pA5DChqSzPx0"
      }
    },
    {
      "cell_type": "code",
      "source": [
        "from libreco.algorithms import NCF\n",
        "from libreco.evaluation import evaluate\n",
        "from libreco.data import random_split, DatasetPure"
      ],
      "metadata": {
        "id": "nJBqrtwFzRzO",
        "colab": {
          "base_uri": "https://localhost:8080/"
        },
        "outputId": "173a0419-4e7c-4dac-c845-6d3e3ccdb457"
      },
      "execution_count": 20,
      "outputs": [
        {
          "output_type": "stream",
          "name": "stderr",
          "text": [
            "WARNING:tensorflow:From /usr/local/lib/python3.10/dist-packages/tensorflow/python/compat/v2_compat.py:107: disable_resource_variables (from tensorflow.python.ops.variable_scope) is deprecated and will be removed in a future version.\n",
            "Instructions for updating:\n",
            "non-resource variables are not supported in the long term\n"
          ]
        }
      ]
    },
    {
      "cell_type": "code",
      "source": [
        "metrics = [\n",
        "        \"loss\",\n",
        "        \"balanced_accuracy\",\n",
        "        \"roc_auc\",\n",
        "        \"precision\",\n",
        "        \"recall\",\n",
        "        \"map\",\n",
        "        \"ndcg\",\n",
        "    ]"
      ],
      "metadata": {
        "id": "iZL_SqnU0AaV"
      },
      "execution_count": 21,
      "outputs": []
    },
    {
      "cell_type": "code",
      "source": [
        "model = NCF(\n",
        "    \"ranking\",\n",
        "    data_info=data_info,\n",
        "    loss_type=\"cross_entropy\",\n",
        "    embed_size=16,\n",
        "    n_epochs=10,\n",
        "    lr=0.001,\n",
        "    batch_size=256,\n",
        "    sampler=\"random\",\n",
        "    num_neg=10,\n",
        "    dropout_rate=0.5,\n",
        "    hidden_units=(128, 64, 32)\n",
        ")"
      ],
      "metadata": {
        "id": "YJGC5bH-zPEp"
      },
      "execution_count": 23,
      "outputs": []
    },
    {
      "cell_type": "code",
      "source": [
        "model.fit(train,\n",
        "          neg_sampling=True,\n",
        "          shuffle=True,\n",
        "          verbose=2,\n",
        "          eval_data=eval,\n",
        "          metrics=metrics)"
      ],
      "metadata": {
        "id": "8as5147s3Hp0",
        "colab": {
          "base_uri": "https://localhost:8080/"
        },
        "outputId": "d4889710-6aa6-458c-c9ae-b9e4e0e3d09b"
      },
      "execution_count": 24,
      "outputs": [
        {
          "output_type": "stream",
          "name": "stderr",
          "text": [
            "WARNING:tensorflow:From /usr/local/lib/python3.10/dist-packages/keras/layers/normalization/batch_normalization.py:581: _colocate_with (from tensorflow.python.framework.ops) is deprecated and will be removed in a future version.\n",
            "Instructions for updating:\n",
            "Colocations handled automatically by placer.\n"
          ]
        },
        {
          "output_type": "stream",
          "name": "stdout",
          "text": [
            "Training start time: \u001b[35m2023-08-15 14:20:21\u001b[0m\n"
          ]
        },
        {
          "output_type": "stream",
          "name": "stderr",
          "text": [
            "train: 100%|██████████| 21203/21203 [01:39<00:00, 214.17it/s]\n"
          ]
        },
        {
          "output_type": "stream",
          "name": "stdout",
          "text": [
            "Epoch 1 elapsed: 99.006s\n",
            "\t \u001b[32mtrain_loss: 0.2123\u001b[0m\n"
          ]
        },
        {
          "output_type": "stream",
          "name": "stderr",
          "text": [
            "eval_pointwise: 100%|██████████| 34/34 [00:00<00:00, 212.08it/s]\n",
            "eval_listwise: 100%|██████████| 4730/4730 [00:25<00:00, 188.41it/s]\n"
          ]
        },
        {
          "output_type": "stream",
          "name": "stdout",
          "text": [
            "\t eval log_loss: 0.1788\n",
            "\t eval balanced_accuracy: 0.6766\n",
            "\t eval roc_auc: 0.9078\n",
            "\t eval precision@10: 0.0315\n",
            "\t eval recall@10: 0.0361\n",
            "\t eval map@10: 0.0590\n",
            "\t eval ndcg@10: 0.0776\n",
            "==============================\n"
          ]
        },
        {
          "output_type": "stream",
          "name": "stderr",
          "text": [
            "train: 100%|██████████| 21203/21203 [01:39<00:00, 212.26it/s]\n"
          ]
        },
        {
          "output_type": "stream",
          "name": "stdout",
          "text": [
            "Epoch 2 elapsed: 99.897s\n",
            "\t \u001b[32mtrain_loss: 0.183\u001b[0m\n"
          ]
        },
        {
          "output_type": "stream",
          "name": "stderr",
          "text": [
            "eval_pointwise: 100%|██████████| 34/34 [00:00<00:00, 391.60it/s]\n",
            "eval_listwise: 100%|██████████| 4730/4730 [00:23<00:00, 199.97it/s]\n"
          ]
        },
        {
          "output_type": "stream",
          "name": "stdout",
          "text": [
            "\t eval log_loss: 0.1625\n",
            "\t eval balanced_accuracy: 0.7162\n",
            "\t eval roc_auc: 0.9282\n",
            "\t eval precision@10: 0.0352\n",
            "\t eval recall@10: 0.0423\n",
            "\t eval map@10: 0.0669\n",
            "\t eval ndcg@10: 0.0891\n",
            "==============================\n"
          ]
        },
        {
          "output_type": "stream",
          "name": "stderr",
          "text": [
            "train: 100%|██████████| 21203/21203 [01:39<00:00, 212.27it/s]\n"
          ]
        },
        {
          "output_type": "stream",
          "name": "stdout",
          "text": [
            "Epoch 3 elapsed: 99.891s\n",
            "\t \u001b[32mtrain_loss: 0.1668\u001b[0m\n"
          ]
        },
        {
          "output_type": "stream",
          "name": "stderr",
          "text": [
            "eval_pointwise: 100%|██████████| 34/34 [00:00<00:00, 380.39it/s]\n",
            "eval_listwise: 100%|██████████| 4730/4730 [00:24<00:00, 194.73it/s]\n"
          ]
        },
        {
          "output_type": "stream",
          "name": "stdout",
          "text": [
            "\t eval log_loss: 0.1546\n",
            "\t eval balanced_accuracy: 0.7414\n",
            "\t eval roc_auc: 0.9358\n",
            "\t eval precision@10: 0.0351\n",
            "\t eval recall@10: 0.0481\n",
            "\t eval map@10: 0.0722\n",
            "\t eval ndcg@10: 0.0965\n",
            "==============================\n"
          ]
        },
        {
          "output_type": "stream",
          "name": "stderr",
          "text": [
            "train: 100%|██████████| 21203/21203 [01:37<00:00, 216.58it/s]\n"
          ]
        },
        {
          "output_type": "stream",
          "name": "stdout",
          "text": [
            "Epoch 4 elapsed: 97.908s\n",
            "\t \u001b[32mtrain_loss: 0.1563\u001b[0m\n"
          ]
        },
        {
          "output_type": "stream",
          "name": "stderr",
          "text": [
            "eval_pointwise: 100%|██████████| 34/34 [00:00<00:00, 432.30it/s]\n",
            "eval_listwise: 100%|██████████| 4730/4730 [00:24<00:00, 190.78it/s]\n"
          ]
        },
        {
          "output_type": "stream",
          "name": "stdout",
          "text": [
            "\t eval log_loss: 0.1508\n",
            "\t eval balanced_accuracy: 0.7464\n",
            "\t eval roc_auc: 0.9401\n",
            "\t eval precision@10: 0.0376\n",
            "\t eval recall@10: 0.0483\n",
            "\t eval map@10: 0.0719\n",
            "\t eval ndcg@10: 0.0968\n",
            "==============================\n"
          ]
        },
        {
          "output_type": "stream",
          "name": "stderr",
          "text": [
            "train: 100%|██████████| 21203/21203 [01:39<00:00, 213.26it/s]\n"
          ]
        },
        {
          "output_type": "stream",
          "name": "stdout",
          "text": [
            "Epoch 5 elapsed: 99.433s\n",
            "\t \u001b[32mtrain_loss: 0.1481\u001b[0m\n"
          ]
        },
        {
          "output_type": "stream",
          "name": "stderr",
          "text": [
            "eval_pointwise: 100%|██████████| 34/34 [00:00<00:00, 429.29it/s]\n",
            "eval_listwise: 100%|██████████| 4730/4730 [00:23<00:00, 200.18it/s]\n"
          ]
        },
        {
          "output_type": "stream",
          "name": "stdout",
          "text": [
            "\t eval log_loss: 0.1485\n",
            "\t eval balanced_accuracy: 0.7605\n",
            "\t eval roc_auc: 0.9421\n",
            "\t eval precision@10: 0.0368\n",
            "\t eval recall@10: 0.0533\n",
            "\t eval map@10: 0.0704\n",
            "\t eval ndcg@10: 0.0970\n",
            "==============================\n"
          ]
        },
        {
          "output_type": "stream",
          "name": "stderr",
          "text": [
            "train: 100%|██████████| 21203/21203 [01:39<00:00, 213.15it/s]\n"
          ]
        },
        {
          "output_type": "stream",
          "name": "stdout",
          "text": [
            "Epoch 6 elapsed: 99.477s\n",
            "\t \u001b[32mtrain_loss: 0.1411\u001b[0m\n"
          ]
        },
        {
          "output_type": "stream",
          "name": "stderr",
          "text": [
            "eval_pointwise: 100%|██████████| 34/34 [00:00<00:00, 445.26it/s]\n",
            "eval_listwise: 100%|██████████| 4730/4730 [00:24<00:00, 196.58it/s]\n"
          ]
        },
        {
          "output_type": "stream",
          "name": "stdout",
          "text": [
            "\t eval log_loss: 0.1483\n",
            "\t eval balanced_accuracy: 0.7620\n",
            "\t eval roc_auc: 0.9420\n",
            "\t eval precision@10: 0.0399\n",
            "\t eval recall@10: 0.0584\n",
            "\t eval map@10: 0.0773\n",
            "\t eval ndcg@10: 0.1043\n",
            "==============================\n"
          ]
        },
        {
          "output_type": "stream",
          "name": "stderr",
          "text": [
            "train: 100%|██████████| 21203/21203 [01:38<00:00, 214.61it/s]\n"
          ]
        },
        {
          "output_type": "stream",
          "name": "stdout",
          "text": [
            "Epoch 7 elapsed: 98.804s\n",
            "\t \u001b[32mtrain_loss: 0.1349\u001b[0m\n"
          ]
        },
        {
          "output_type": "stream",
          "name": "stderr",
          "text": [
            "eval_pointwise: 100%|██████████| 34/34 [00:00<00:00, 417.61it/s]\n",
            "eval_listwise: 100%|██████████| 4730/4730 [00:24<00:00, 195.25it/s]\n"
          ]
        },
        {
          "output_type": "stream",
          "name": "stdout",
          "text": [
            "\t eval log_loss: 0.1474\n",
            "\t eval balanced_accuracy: 0.7666\n",
            "\t eval roc_auc: 0.9439\n",
            "\t eval precision@10: 0.0396\n",
            "\t eval recall@10: 0.0548\n",
            "\t eval map@10: 0.0776\n",
            "\t eval ndcg@10: 0.1041\n",
            "==============================\n"
          ]
        },
        {
          "output_type": "stream",
          "name": "stderr",
          "text": [
            "train: 100%|██████████| 21203/21203 [01:39<00:00, 212.97it/s]\n"
          ]
        },
        {
          "output_type": "stream",
          "name": "stdout",
          "text": [
            "Epoch 8 elapsed: 99.564s\n",
            "\t \u001b[32mtrain_loss: 0.13\u001b[0m\n"
          ]
        },
        {
          "output_type": "stream",
          "name": "stderr",
          "text": [
            "eval_pointwise: 100%|██████████| 34/34 [00:00<00:00, 444.33it/s]\n",
            "eval_listwise: 100%|██████████| 4730/4730 [00:23<00:00, 202.32it/s]\n"
          ]
        },
        {
          "output_type": "stream",
          "name": "stdout",
          "text": [
            "\t eval log_loss: 0.1490\n",
            "\t eval balanced_accuracy: 0.7645\n",
            "\t eval roc_auc: 0.9428\n",
            "\t eval precision@10: 0.0416\n",
            "\t eval recall@10: 0.0614\n",
            "\t eval map@10: 0.0801\n",
            "\t eval ndcg@10: 0.1085\n",
            "==============================\n"
          ]
        },
        {
          "output_type": "stream",
          "name": "stderr",
          "text": [
            "train: 100%|██████████| 21203/21203 [01:39<00:00, 212.88it/s]\n"
          ]
        },
        {
          "output_type": "stream",
          "name": "stdout",
          "text": [
            "Epoch 9 elapsed: 99.605s\n",
            "\t \u001b[32mtrain_loss: 0.125\u001b[0m\n"
          ]
        },
        {
          "output_type": "stream",
          "name": "stderr",
          "text": [
            "eval_pointwise: 100%|██████████| 34/34 [00:00<00:00, 435.70it/s]\n",
            "eval_listwise: 100%|██████████| 4730/4730 [00:24<00:00, 193.48it/s]\n"
          ]
        },
        {
          "output_type": "stream",
          "name": "stdout",
          "text": [
            "\t eval log_loss: 0.1495\n",
            "\t eval balanced_accuracy: 0.7694\n",
            "\t eval roc_auc: 0.9436\n",
            "\t eval precision@10: 0.0431\n",
            "\t eval recall@10: 0.0615\n",
            "\t eval map@10: 0.0808\n",
            "\t eval ndcg@10: 0.1092\n",
            "==============================\n"
          ]
        },
        {
          "output_type": "stream",
          "name": "stderr",
          "text": [
            "train: 100%|██████████| 21203/21203 [01:37<00:00, 216.88it/s]\n"
          ]
        },
        {
          "output_type": "stream",
          "name": "stdout",
          "text": [
            "Epoch 10 elapsed: 97.770s\n",
            "\t \u001b[32mtrain_loss: 0.121\u001b[0m\n"
          ]
        },
        {
          "output_type": "stream",
          "name": "stderr",
          "text": [
            "eval_pointwise: 100%|██████████| 34/34 [00:00<00:00, 372.35it/s]\n",
            "eval_listwise: 100%|██████████| 4730/4730 [00:24<00:00, 194.86it/s]\n"
          ]
        },
        {
          "output_type": "stream",
          "name": "stdout",
          "text": [
            "\t eval log_loss: 0.1497\n",
            "\t eval balanced_accuracy: 0.7713\n",
            "\t eval roc_auc: 0.9425\n",
            "\t eval precision@10: 0.0404\n",
            "\t eval recall@10: 0.0607\n",
            "\t eval map@10: 0.0808\n",
            "\t eval ndcg@10: 0.1082\n",
            "==============================\n"
          ]
        }
      ]
    },
    {
      "cell_type": "code",
      "source": [
        "eval_result = evaluate(model=model,\n",
        "        data=test,\n",
        "        neg_sampling=True,\n",
        "        eval_batch_size=2048,\n",
        "        k=10,\n",
        "        metrics=metrics)"
      ],
      "metadata": {
        "id": "RUJj5mgf3xL5",
        "colab": {
          "base_uri": "https://localhost:8080/"
        },
        "outputId": "cac41079-f4ce-4a00-ec50-fc1b9e0b5614"
      },
      "execution_count": 25,
      "outputs": [
        {
          "output_type": "stream",
          "name": "stderr",
          "text": [
            "eval_pointwise: 100%|██████████| 136/136 [00:00<00:00, 640.10it/s]\n",
            "eval_listwise: 100%|██████████| 4697/4697 [00:23<00:00, 202.16it/s]\n"
          ]
        }
      ]
    },
    {
      "cell_type": "code",
      "source": [
        "eval_result_2 = evaluate(model=model,\n",
        "        data=eval,\n",
        "        neg_sampling=True,\n",
        "        eval_batch_size=2048,\n",
        "        k=10,\n",
        "        metrics=metrics)"
      ],
      "metadata": {
        "id": "7W0w0Vb2L4Gu",
        "colab": {
          "base_uri": "https://localhost:8080/"
        },
        "outputId": "b1dd9151-aaf9-46a5-c615-9a20722e3f45"
      },
      "execution_count": 26,
      "outputs": [
        {
          "output_type": "stream",
          "name": "stderr",
          "text": [
            "eval_pointwise: 100%|██████████| 136/136 [00:00<00:00, 576.56it/s]\n",
            "eval_listwise: 100%|██████████| 4730/4730 [00:24<00:00, 196.61it/s]\n"
          ]
        }
      ]
    },
    {
      "cell_type": "code",
      "source": [
        "eval_result"
      ],
      "metadata": {
        "id": "EriiasrK42LK",
        "colab": {
          "base_uri": "https://localhost:8080/"
        },
        "outputId": "57f4d56f-8cea-4775-d342-682cef598377"
      },
      "execution_count": 27,
      "outputs": [
        {
          "output_type": "execute_result",
          "data": {
            "text/plain": [
              "{'loss': 0.1494828754153262,\n",
              " 'balanced_accuracy': 0.7703235771713731,\n",
              " 'roc_auc': 0.9424415164068418,\n",
              " 'precision': 0.04175005322546306,\n",
              " 'recall': 0.0663707796663832,\n",
              " 'map': 0.08059820313104193,\n",
              " 'ndcg': 0.11071078857440515}"
            ]
          },
          "metadata": {},
          "execution_count": 27
        }
      ]
    },
    {
      "cell_type": "code",
      "source": [
        "eval_result_2"
      ],
      "metadata": {
        "id": "ulq31yQkRZF6",
        "colab": {
          "base_uri": "https://localhost:8080/"
        },
        "outputId": "d7fb8f23-811a-4998-ed99-9675f48ec8c6"
      },
      "execution_count": 28,
      "outputs": [
        {
          "output_type": "execute_result",
          "data": {
            "text/plain": [
              "{'loss': 0.14970442245751894,\n",
              " 'balanced_accuracy': 0.7713274932614556,\n",
              " 'roc_auc': 0.9425378327518891,\n",
              " 'precision': 0.040359408033826635,\n",
              " 'recall': 0.06070015149034597,\n",
              " 'map': 0.0807687729376567,\n",
              " 'ndcg': 0.10815454766923806}"
            ]
          },
          "metadata": {},
          "execution_count": 28
        }
      ]
    },
    {
      "cell_type": "markdown",
      "source": [
        "## Recommendations"
      ],
      "metadata": {
        "id": "hdcILRUnSLYL"
      }
    },
    {
      "cell_type": "code",
      "source": [
        "sku_list = df[[\"sku_id\", \"Sku\", \"Product Descr1\", \"ProductGroupDescription\", \"ProductGroupMasterDescription\"]].drop_duplicates()"
      ],
      "metadata": {
        "id": "-2gRapNle0PW"
      },
      "execution_count": 29,
      "outputs": []
    },
    {
      "cell_type": "code",
      "source": [
        "from libreco.recommendation import rank_recommendations\n",
        "from google.colab import files"
      ],
      "metadata": {
        "id": "n3XzONUMS2s3"
      },
      "execution_count": 30,
      "outputs": []
    },
    {
      "cell_type": "code",
      "source": [
        "# randomly selected userids on two clusters, see ALS repo\n",
        "user_id_bcn = \"44508633\"\n",
        "user_id_2_bcn = \"44510285\""
      ],
      "metadata": {
        "id": "k3M5agWl9g0m"
      },
      "execution_count": 31,
      "outputs": []
    },
    {
      "cell_type": "code",
      "source": [
        "df.loc[df['BranchCustomerNbr'] == user_id_bcn]"
      ],
      "metadata": {
        "id": "dDcjgXwgHzH_",
        "colab": {
          "base_uri": "https://localhost:8080/",
          "height": 758
        },
        "outputId": "e6e726a6-e6d5-4a9c-c1e3-f68ab9d23462"
      },
      "execution_count": 32,
      "outputs": [
        {
          "output_type": "execute_result",
          "data": {
            "text/plain": [
              "        Order Nbr Entry Date       Entry DateTime FiscalMonth  \\\n",
              "205345    4458274 2023-06-13  13.06.2023 16:23:58    2023FM06   \n",
              "283407    4413628 2023-06-01  01.06.2023 16:48:33    2023FM06   \n",
              "931271    4414530 2023-03-13  13.03.2023 18:17:59    2023FM03   \n",
              "1148618   4409909 2023-02-15  16.02.2023 08:41:25    2023FM02   \n",
              "1542910   4418779 2023-01-04  04.01.2023 16:25:26    2023FM01   \n",
              "1542911   4418779 2023-01-18  04.01.2023 16:25:26    2023FM01   \n",
              "1821121   4409513 2022-12-07  07.12.2022 16:38:08    2022FM12   \n",
              "2010661   4418760 2022-11-21  21.11.2022 16:17:27    2022FM12   \n",
              "\n",
              "        BranchCustomerNbr           CustomerName BusinessUnitLevel2 KDGroup  \\\n",
              "205345           44508633  GBM GESELLSCHAFT FUER        SMB Channel      MI   \n",
              "283407           44508633  GBM GESELLSCHAFT FUER        SMB Channel      MI   \n",
              "931271           44508633  GBM GESELLSCHAFT FUER        SMB Channel      MI   \n",
              "1148618          44508633  GBM GESELLSCHAFT FUER        SMB Channel      MI   \n",
              "1542910          44508633  GBM GESELLSCHAFT FUER        SMB Channel      MI   \n",
              "1542911          44508633  GBM GESELLSCHAFT FUER        SMB Channel      MI   \n",
              "1821121          44508633  GBM GESELLSCHAFT FUER        SMB Channel      MI   \n",
              "2010661          44508633  GBM GESELLSCHAFT FUER        SMB Channel      MI   \n",
              "\n",
              "             Sku                  Product Descr1  ... ProductGroup  \\\n",
              "205345   F613010                 128GB MSATA SSD  ...          517   \n",
              "283407   342C151        4GB 2666MHZ DDR4 NON-ECC  ...          913   \n",
              "931271   CF96638  WD PURPLE 4TB 256MB 3.5IN SATA  ...          520   \n",
              "1148618  T380760          SYSTEM POWER 9 700W CM  ...           34   \n",
              "1542910  CC03824    8GB DDR4-2666MHZ CL15 SODIMM  ...          913   \n",
              "1542911  CG34643          TX-2202A 54.6CM 21.5IN  ...          372   \n",
              "1821121  CA75922   K243YBMIX 60.5CM (23.8IN) TFT  ...          372   \n",
              "2010661  T380549               PURE WINGS 2 80MM  ...           30   \n",
              "\n",
              "         ProductGroupMasterDescription          ProductGroupDescription  \\\n",
              "205345    Hard Drives & Optical Drives          Solid State Drive (Ssd)   \n",
              "283407           Memory and Processors                   Generic Memory   \n",
              "931271    Hard Drives & Optical Drives                  Hard Drive Sata   \n",
              "1148618               Computer Systems                   Power Supplies   \n",
              "1542910          Memory and Processors                   Generic Memory   \n",
              "1542911                        Display                 Led Small Format   \n",
              "1821121                        Display                 Led Small Format   \n",
              "2010661               Computer Systems  Computer Cooling Systems & Fans   \n",
              "\n",
              "        ProductGroup2ndDescription     Sales Qty Shipped  purchase  sku_count  \\\n",
              "205345                  Components     16,32         1.0         1          8   \n",
              "283407                  Components    675,00        50.0         1          8   \n",
              "931271                  Components    664,96         8.0         1          8   \n",
              "1148618                     System    674,90        10.0         1          8   \n",
              "1542910                 Components     36,30         2.0         1          8   \n",
              "1542911     Printers & Peripherals  6.159,90        10.0         1          8   \n",
              "1821121     Printers & Peripherals    375,64         4.0         1          8   \n",
              "2010661                     System     36,96         6.0         1          8   \n",
              "\n",
              "         bcn_id  sku_id  \n",
              "205345     5865   64636  \n",
              "283407     5865   12016  \n",
              "931271     5865   53566  \n",
              "1148618    5865   68787  \n",
              "1542910    5865   33050  \n",
              "1542911    5865   57133  \n",
              "1821121    5865   26983  \n",
              "2010661    5865   68737  \n",
              "\n",
              "[8 rows x 21 columns]"
            ],
            "text/html": [
              "\n",
              "\n",
              "  <div id=\"df-a4bc6d01-88f7-49e7-b81c-25b61cfded69\">\n",
              "    <div class=\"colab-df-container\">\n",
              "      <div>\n",
              "<style scoped>\n",
              "    .dataframe tbody tr th:only-of-type {\n",
              "        vertical-align: middle;\n",
              "    }\n",
              "\n",
              "    .dataframe tbody tr th {\n",
              "        vertical-align: top;\n",
              "    }\n",
              "\n",
              "    .dataframe thead th {\n",
              "        text-align: right;\n",
              "    }\n",
              "</style>\n",
              "<table border=\"1\" class=\"dataframe\">\n",
              "  <thead>\n",
              "    <tr style=\"text-align: right;\">\n",
              "      <th></th>\n",
              "      <th>Order Nbr</th>\n",
              "      <th>Entry Date</th>\n",
              "      <th>Entry DateTime</th>\n",
              "      <th>FiscalMonth</th>\n",
              "      <th>BranchCustomerNbr</th>\n",
              "      <th>CustomerName</th>\n",
              "      <th>BusinessUnitLevel2</th>\n",
              "      <th>KDGroup</th>\n",
              "      <th>Sku</th>\n",
              "      <th>Product Descr1</th>\n",
              "      <th>...</th>\n",
              "      <th>ProductGroup</th>\n",
              "      <th>ProductGroupMasterDescription</th>\n",
              "      <th>ProductGroupDescription</th>\n",
              "      <th>ProductGroup2ndDescription</th>\n",
              "      <th>Sales</th>\n",
              "      <th>Qty Shipped</th>\n",
              "      <th>purchase</th>\n",
              "      <th>sku_count</th>\n",
              "      <th>bcn_id</th>\n",
              "      <th>sku_id</th>\n",
              "    </tr>\n",
              "  </thead>\n",
              "  <tbody>\n",
              "    <tr>\n",
              "      <th>205345</th>\n",
              "      <td>4458274</td>\n",
              "      <td>2023-06-13</td>\n",
              "      <td>13.06.2023 16:23:58</td>\n",
              "      <td>2023FM06</td>\n",
              "      <td>44508633</td>\n",
              "      <td>GBM GESELLSCHAFT FUER</td>\n",
              "      <td>SMB Channel</td>\n",
              "      <td>MI</td>\n",
              "      <td>F613010</td>\n",
              "      <td>128GB MSATA SSD</td>\n",
              "      <td>...</td>\n",
              "      <td>517</td>\n",
              "      <td>Hard Drives &amp; Optical Drives</td>\n",
              "      <td>Solid State Drive (Ssd)</td>\n",
              "      <td>Components</td>\n",
              "      <td>16,32</td>\n",
              "      <td>1.0</td>\n",
              "      <td>1</td>\n",
              "      <td>8</td>\n",
              "      <td>5865</td>\n",
              "      <td>64636</td>\n",
              "    </tr>\n",
              "    <tr>\n",
              "      <th>283407</th>\n",
              "      <td>4413628</td>\n",
              "      <td>2023-06-01</td>\n",
              "      <td>01.06.2023 16:48:33</td>\n",
              "      <td>2023FM06</td>\n",
              "      <td>44508633</td>\n",
              "      <td>GBM GESELLSCHAFT FUER</td>\n",
              "      <td>SMB Channel</td>\n",
              "      <td>MI</td>\n",
              "      <td>342C151</td>\n",
              "      <td>4GB 2666MHZ DDR4 NON-ECC</td>\n",
              "      <td>...</td>\n",
              "      <td>913</td>\n",
              "      <td>Memory and Processors</td>\n",
              "      <td>Generic Memory</td>\n",
              "      <td>Components</td>\n",
              "      <td>675,00</td>\n",
              "      <td>50.0</td>\n",
              "      <td>1</td>\n",
              "      <td>8</td>\n",
              "      <td>5865</td>\n",
              "      <td>12016</td>\n",
              "    </tr>\n",
              "    <tr>\n",
              "      <th>931271</th>\n",
              "      <td>4414530</td>\n",
              "      <td>2023-03-13</td>\n",
              "      <td>13.03.2023 18:17:59</td>\n",
              "      <td>2023FM03</td>\n",
              "      <td>44508633</td>\n",
              "      <td>GBM GESELLSCHAFT FUER</td>\n",
              "      <td>SMB Channel</td>\n",
              "      <td>MI</td>\n",
              "      <td>CF96638</td>\n",
              "      <td>WD PURPLE 4TB 256MB 3.5IN SATA</td>\n",
              "      <td>...</td>\n",
              "      <td>520</td>\n",
              "      <td>Hard Drives &amp; Optical Drives</td>\n",
              "      <td>Hard Drive Sata</td>\n",
              "      <td>Components</td>\n",
              "      <td>664,96</td>\n",
              "      <td>8.0</td>\n",
              "      <td>1</td>\n",
              "      <td>8</td>\n",
              "      <td>5865</td>\n",
              "      <td>53566</td>\n",
              "    </tr>\n",
              "    <tr>\n",
              "      <th>1148618</th>\n",
              "      <td>4409909</td>\n",
              "      <td>2023-02-15</td>\n",
              "      <td>16.02.2023 08:41:25</td>\n",
              "      <td>2023FM02</td>\n",
              "      <td>44508633</td>\n",
              "      <td>GBM GESELLSCHAFT FUER</td>\n",
              "      <td>SMB Channel</td>\n",
              "      <td>MI</td>\n",
              "      <td>T380760</td>\n",
              "      <td>SYSTEM POWER 9 700W CM</td>\n",
              "      <td>...</td>\n",
              "      <td>34</td>\n",
              "      <td>Computer Systems</td>\n",
              "      <td>Power Supplies</td>\n",
              "      <td>System</td>\n",
              "      <td>674,90</td>\n",
              "      <td>10.0</td>\n",
              "      <td>1</td>\n",
              "      <td>8</td>\n",
              "      <td>5865</td>\n",
              "      <td>68787</td>\n",
              "    </tr>\n",
              "    <tr>\n",
              "      <th>1542910</th>\n",
              "      <td>4418779</td>\n",
              "      <td>2023-01-04</td>\n",
              "      <td>04.01.2023 16:25:26</td>\n",
              "      <td>2023FM01</td>\n",
              "      <td>44508633</td>\n",
              "      <td>GBM GESELLSCHAFT FUER</td>\n",
              "      <td>SMB Channel</td>\n",
              "      <td>MI</td>\n",
              "      <td>CC03824</td>\n",
              "      <td>8GB DDR4-2666MHZ CL15 SODIMM</td>\n",
              "      <td>...</td>\n",
              "      <td>913</td>\n",
              "      <td>Memory and Processors</td>\n",
              "      <td>Generic Memory</td>\n",
              "      <td>Components</td>\n",
              "      <td>36,30</td>\n",
              "      <td>2.0</td>\n",
              "      <td>1</td>\n",
              "      <td>8</td>\n",
              "      <td>5865</td>\n",
              "      <td>33050</td>\n",
              "    </tr>\n",
              "    <tr>\n",
              "      <th>1542911</th>\n",
              "      <td>4418779</td>\n",
              "      <td>2023-01-18</td>\n",
              "      <td>04.01.2023 16:25:26</td>\n",
              "      <td>2023FM01</td>\n",
              "      <td>44508633</td>\n",
              "      <td>GBM GESELLSCHAFT FUER</td>\n",
              "      <td>SMB Channel</td>\n",
              "      <td>MI</td>\n",
              "      <td>CG34643</td>\n",
              "      <td>TX-2202A 54.6CM 21.5IN</td>\n",
              "      <td>...</td>\n",
              "      <td>372</td>\n",
              "      <td>Display</td>\n",
              "      <td>Led Small Format</td>\n",
              "      <td>Printers &amp; Peripherals</td>\n",
              "      <td>6.159,90</td>\n",
              "      <td>10.0</td>\n",
              "      <td>1</td>\n",
              "      <td>8</td>\n",
              "      <td>5865</td>\n",
              "      <td>57133</td>\n",
              "    </tr>\n",
              "    <tr>\n",
              "      <th>1821121</th>\n",
              "      <td>4409513</td>\n",
              "      <td>2022-12-07</td>\n",
              "      <td>07.12.2022 16:38:08</td>\n",
              "      <td>2022FM12</td>\n",
              "      <td>44508633</td>\n",
              "      <td>GBM GESELLSCHAFT FUER</td>\n",
              "      <td>SMB Channel</td>\n",
              "      <td>MI</td>\n",
              "      <td>CA75922</td>\n",
              "      <td>K243YBMIX 60.5CM (23.8IN) TFT</td>\n",
              "      <td>...</td>\n",
              "      <td>372</td>\n",
              "      <td>Display</td>\n",
              "      <td>Led Small Format</td>\n",
              "      <td>Printers &amp; Peripherals</td>\n",
              "      <td>375,64</td>\n",
              "      <td>4.0</td>\n",
              "      <td>1</td>\n",
              "      <td>8</td>\n",
              "      <td>5865</td>\n",
              "      <td>26983</td>\n",
              "    </tr>\n",
              "    <tr>\n",
              "      <th>2010661</th>\n",
              "      <td>4418760</td>\n",
              "      <td>2022-11-21</td>\n",
              "      <td>21.11.2022 16:17:27</td>\n",
              "      <td>2022FM12</td>\n",
              "      <td>44508633</td>\n",
              "      <td>GBM GESELLSCHAFT FUER</td>\n",
              "      <td>SMB Channel</td>\n",
              "      <td>MI</td>\n",
              "      <td>T380549</td>\n",
              "      <td>PURE WINGS 2 80MM</td>\n",
              "      <td>...</td>\n",
              "      <td>30</td>\n",
              "      <td>Computer Systems</td>\n",
              "      <td>Computer Cooling Systems &amp; Fans</td>\n",
              "      <td>System</td>\n",
              "      <td>36,96</td>\n",
              "      <td>6.0</td>\n",
              "      <td>1</td>\n",
              "      <td>8</td>\n",
              "      <td>5865</td>\n",
              "      <td>68737</td>\n",
              "    </tr>\n",
              "  </tbody>\n",
              "</table>\n",
              "<p>8 rows × 21 columns</p>\n",
              "</div>\n",
              "      <button class=\"colab-df-convert\" onclick=\"convertToInteractive('df-a4bc6d01-88f7-49e7-b81c-25b61cfded69')\"\n",
              "              title=\"Convert this dataframe to an interactive table.\"\n",
              "              style=\"display:none;\">\n",
              "\n",
              "  <svg xmlns=\"http://www.w3.org/2000/svg\" height=\"24px\"viewBox=\"0 0 24 24\"\n",
              "       width=\"24px\">\n",
              "    <path d=\"M0 0h24v24H0V0z\" fill=\"none\"/>\n",
              "    <path d=\"M18.56 5.44l.94 2.06.94-2.06 2.06-.94-2.06-.94-.94-2.06-.94 2.06-2.06.94zm-11 1L8.5 8.5l.94-2.06 2.06-.94-2.06-.94L8.5 2.5l-.94 2.06-2.06.94zm10 10l.94 2.06.94-2.06 2.06-.94-2.06-.94-.94-2.06-.94 2.06-2.06.94z\"/><path d=\"M17.41 7.96l-1.37-1.37c-.4-.4-.92-.59-1.43-.59-.52 0-1.04.2-1.43.59L10.3 9.45l-7.72 7.72c-.78.78-.78 2.05 0 2.83L4 21.41c.39.39.9.59 1.41.59.51 0 1.02-.2 1.41-.59l7.78-7.78 2.81-2.81c.8-.78.8-2.07 0-2.86zM5.41 20L4 18.59l7.72-7.72 1.47 1.35L5.41 20z\"/>\n",
              "  </svg>\n",
              "      </button>\n",
              "\n",
              "\n",
              "\n",
              "    <div id=\"df-da414a83-20d8-4ccc-941b-d9054bf72a9c\">\n",
              "      <button class=\"colab-df-quickchart\" onclick=\"quickchart('df-da414a83-20d8-4ccc-941b-d9054bf72a9c')\"\n",
              "              title=\"Suggest charts.\"\n",
              "              style=\"display:none;\">\n",
              "\n",
              "<svg xmlns=\"http://www.w3.org/2000/svg\" height=\"24px\"viewBox=\"0 0 24 24\"\n",
              "     width=\"24px\">\n",
              "    <g>\n",
              "        <path d=\"M19 3H5c-1.1 0-2 .9-2 2v14c0 1.1.9 2 2 2h14c1.1 0 2-.9 2-2V5c0-1.1-.9-2-2-2zM9 17H7v-7h2v7zm4 0h-2V7h2v10zm4 0h-2v-4h2v4z\"/>\n",
              "    </g>\n",
              "</svg>\n",
              "      </button>\n",
              "    </div>\n",
              "\n",
              "<style>\n",
              "  .colab-df-quickchart {\n",
              "    background-color: #E8F0FE;\n",
              "    border: none;\n",
              "    border-radius: 50%;\n",
              "    cursor: pointer;\n",
              "    display: none;\n",
              "    fill: #1967D2;\n",
              "    height: 32px;\n",
              "    padding: 0 0 0 0;\n",
              "    width: 32px;\n",
              "  }\n",
              "\n",
              "  .colab-df-quickchart:hover {\n",
              "    background-color: #E2EBFA;\n",
              "    box-shadow: 0px 1px 2px rgba(60, 64, 67, 0.3), 0px 1px 3px 1px rgba(60, 64, 67, 0.15);\n",
              "    fill: #174EA6;\n",
              "  }\n",
              "\n",
              "  [theme=dark] .colab-df-quickchart {\n",
              "    background-color: #3B4455;\n",
              "    fill: #D2E3FC;\n",
              "  }\n",
              "\n",
              "  [theme=dark] .colab-df-quickchart:hover {\n",
              "    background-color: #434B5C;\n",
              "    box-shadow: 0px 1px 3px 1px rgba(0, 0, 0, 0.15);\n",
              "    filter: drop-shadow(0px 1px 2px rgba(0, 0, 0, 0.3));\n",
              "    fill: #FFFFFF;\n",
              "  }\n",
              "</style>\n",
              "\n",
              "    <script>\n",
              "      async function quickchart(key) {\n",
              "        const containerElement = document.querySelector('#' + key);\n",
              "        const charts = await google.colab.kernel.invokeFunction(\n",
              "            'suggestCharts', [key], {});\n",
              "      }\n",
              "    </script>\n",
              "\n",
              "      <script>\n",
              "\n",
              "function displayQuickchartButton(domScope) {\n",
              "  let quickchartButtonEl =\n",
              "    domScope.querySelector('#df-da414a83-20d8-4ccc-941b-d9054bf72a9c button.colab-df-quickchart');\n",
              "  quickchartButtonEl.style.display =\n",
              "    google.colab.kernel.accessAllowed ? 'block' : 'none';\n",
              "}\n",
              "\n",
              "        displayQuickchartButton(document);\n",
              "      </script>\n",
              "      <style>\n",
              "    .colab-df-container {\n",
              "      display:flex;\n",
              "      flex-wrap:wrap;\n",
              "      gap: 12px;\n",
              "    }\n",
              "\n",
              "    .colab-df-convert {\n",
              "      background-color: #E8F0FE;\n",
              "      border: none;\n",
              "      border-radius: 50%;\n",
              "      cursor: pointer;\n",
              "      display: none;\n",
              "      fill: #1967D2;\n",
              "      height: 32px;\n",
              "      padding: 0 0 0 0;\n",
              "      width: 32px;\n",
              "    }\n",
              "\n",
              "    .colab-df-convert:hover {\n",
              "      background-color: #E2EBFA;\n",
              "      box-shadow: 0px 1px 2px rgba(60, 64, 67, 0.3), 0px 1px 3px 1px rgba(60, 64, 67, 0.15);\n",
              "      fill: #174EA6;\n",
              "    }\n",
              "\n",
              "    [theme=dark] .colab-df-convert {\n",
              "      background-color: #3B4455;\n",
              "      fill: #D2E3FC;\n",
              "    }\n",
              "\n",
              "    [theme=dark] .colab-df-convert:hover {\n",
              "      background-color: #434B5C;\n",
              "      box-shadow: 0px 1px 3px 1px rgba(0, 0, 0, 0.15);\n",
              "      filter: drop-shadow(0px 1px 2px rgba(0, 0, 0, 0.3));\n",
              "      fill: #FFFFFF;\n",
              "    }\n",
              "  </style>\n",
              "\n",
              "      <script>\n",
              "        const buttonEl =\n",
              "          document.querySelector('#df-a4bc6d01-88f7-49e7-b81c-25b61cfded69 button.colab-df-convert');\n",
              "        buttonEl.style.display =\n",
              "          google.colab.kernel.accessAllowed ? 'block' : 'none';\n",
              "\n",
              "        async function convertToInteractive(key) {\n",
              "          const element = document.querySelector('#df-a4bc6d01-88f7-49e7-b81c-25b61cfded69');\n",
              "          const dataTable =\n",
              "            await google.colab.kernel.invokeFunction('convertToInteractive',\n",
              "                                                     [key], {});\n",
              "          if (!dataTable) return;\n",
              "\n",
              "          const docLinkHtml = 'Like what you see? Visit the ' +\n",
              "            '<a target=\"_blank\" href=https://colab.research.google.com/notebooks/data_table.ipynb>data table notebook</a>'\n",
              "            + ' to learn more about interactive tables.';\n",
              "          element.innerHTML = '';\n",
              "          dataTable['output_type'] = 'display_data';\n",
              "          await google.colab.output.renderOutput(dataTable, element);\n",
              "          const docLink = document.createElement('div');\n",
              "          docLink.innerHTML = docLinkHtml;\n",
              "          element.appendChild(docLink);\n",
              "        }\n",
              "      </script>\n",
              "    </div>\n",
              "  </div>\n"
            ]
          },
          "metadata": {},
          "execution_count": 32
        }
      ]
    },
    {
      "cell_type": "code",
      "source": [
        "# find the bcn_id by bcn id\n",
        "user_id = df.loc[df['BranchCustomerNbr'] == user_id_bcn, 'bcn_id'].head(1).values[0]\n",
        "user_id_2 = df.loc[df['BranchCustomerNbr'] == user_id_2_bcn, 'bcn_id'].head(1).values[0]\n",
        "print(user_id)\n",
        "print(user_id_2)"
      ],
      "metadata": {
        "id": "YMRTB8kr9k4h",
        "colab": {
          "base_uri": "https://localhost:8080/"
        },
        "outputId": "dd321c89-79b6-4333-80be-ee66bf42e915"
      },
      "execution_count": 33,
      "outputs": [
        {
          "output_type": "stream",
          "name": "stdout",
          "text": [
            "5865\n",
            "5990\n"
          ]
        }
      ]
    },
    {
      "cell_type": "code",
      "source": [
        "num_recommendations = 10\n",
        "recs = model.recommend_user(user=user_id, n_rec=num_recommendations)\n",
        "recs\n",
        "# # # Extract item IDs from recommendations\n",
        "# model_recs = []\n",
        "# for i in recs[1]:\n",
        "#   model_recs.append(i)\n",
        "# model_recs\n",
        "# # # # Calculate predicted scores using the model\n",
        "# model_preds = model.predict(user_id, model_recs)\n",
        "# model_preds\n",
        "# # # # Rank the recommendations\n",
        "# ranks = rank_recommendations(recs, n_rec=10, n_items=len(recs[1]), user_ids=[user_id], model_preds=recs[1], user_consumed)"
      ],
      "metadata": {
        "id": "KOBEBtHRSNXd",
        "colab": {
          "base_uri": "https://localhost:8080/"
        },
        "outputId": "61b73dc7-9e7b-47bb-e92c-4a6c53a5a096"
      },
      "execution_count": 34,
      "outputs": [
        {
          "output_type": "execute_result",
          "data": {
            "text/plain": [
              "{5865: array([ 2882, 49003, 26802, 65692, 12009, 47259, 68789, 12660, 68788,\n",
              "        33046])}"
            ]
          },
          "metadata": {},
          "execution_count": 34
        }
      ]
    },
    {
      "cell_type": "code",
      "source": [
        "#recs[user_id]\n",
        "rec_tab = pd.DataFrame(data=[recs[user_id]])\n",
        "rec_tab = rec_tab.T.rename(columns={0:\"sku_id\"})\n",
        "rec_tab = rec_tab.merge(sku_list, on=\"sku_id\", how=\"left\")\n",
        "rec_tab.to_csv(f'{user_id}_NCF_FREQ_REC.csv')\n",
        "files.download(f'{user_id}_NCF_FREQ_REC.csv')"
      ],
      "metadata": {
        "id": "xz9VOXjAeNPe",
        "colab": {
          "base_uri": "https://localhost:8080/",
          "height": 17
        },
        "outputId": "0a5bc0ee-e30c-46d4-803e-f9172be0fdd3"
      },
      "execution_count": 35,
      "outputs": [
        {
          "output_type": "display_data",
          "data": {
            "text/plain": [
              "<IPython.core.display.Javascript object>"
            ],
            "application/javascript": [
              "\n",
              "    async function download(id, filename, size) {\n",
              "      if (!google.colab.kernel.accessAllowed) {\n",
              "        return;\n",
              "      }\n",
              "      const div = document.createElement('div');\n",
              "      const label = document.createElement('label');\n",
              "      label.textContent = `Downloading \"${filename}\": `;\n",
              "      div.appendChild(label);\n",
              "      const progress = document.createElement('progress');\n",
              "      progress.max = size;\n",
              "      div.appendChild(progress);\n",
              "      document.body.appendChild(div);\n",
              "\n",
              "      const buffers = [];\n",
              "      let downloaded = 0;\n",
              "\n",
              "      const channel = await google.colab.kernel.comms.open(id);\n",
              "      // Send a message to notify the kernel that we're ready.\n",
              "      channel.send({})\n",
              "\n",
              "      for await (const message of channel.messages) {\n",
              "        // Send a message to notify the kernel that we're ready.\n",
              "        channel.send({})\n",
              "        if (message.buffers) {\n",
              "          for (const buffer of message.buffers) {\n",
              "            buffers.push(buffer);\n",
              "            downloaded += buffer.byteLength;\n",
              "            progress.value = downloaded;\n",
              "          }\n",
              "        }\n",
              "      }\n",
              "      const blob = new Blob(buffers, {type: 'application/binary'});\n",
              "      const a = document.createElement('a');\n",
              "      a.href = window.URL.createObjectURL(blob);\n",
              "      a.download = filename;\n",
              "      div.appendChild(a);\n",
              "      a.click();\n",
              "      div.remove();\n",
              "    }\n",
              "  "
            ]
          },
          "metadata": {}
        },
        {
          "output_type": "display_data",
          "data": {
            "text/plain": [
              "<IPython.core.display.Javascript object>"
            ],
            "application/javascript": [
              "download(\"download_6be29f1d-c041-486a-8791-7a5d5154827c\", \"5865_NCF_FREQ_REC.csv\", 868)"
            ]
          },
          "metadata": {}
        }
      ]
    },
    {
      "cell_type": "code",
      "source": [
        "num_recommendations = 10\n",
        "recs_2 = model.recommend_user(user=user_id_2, n_rec=num_recommendations)"
      ],
      "metadata": {
        "id": "hgb0PT66eB7f"
      },
      "execution_count": 37,
      "outputs": []
    },
    {
      "cell_type": "code",
      "source": [
        "#recs[user_id]\n",
        "rec_tab_2 = pd.DataFrame(data=[recs_2[user_id_2]])\n",
        "rec_tab_2 = rec_tab_2.T.rename(columns={0:\"sku_id\"})\n",
        "rec_tab_2 = rec_tab_2.merge(sku_list, on=\"sku_id\", how=\"left\")\n",
        "rec_tab_2.to_csv(f'{user_id_2}_NCF_FREQ_REC.csv')\n",
        "files.download(f'{user_id_2}_NCF_FREQ_REC.csv')"
      ],
      "metadata": {
        "id": "Zc2rfxzJfheV",
        "colab": {
          "base_uri": "https://localhost:8080/",
          "height": 17
        },
        "outputId": "511cc7c0-0861-4e95-94f6-7e4d665ddd42"
      },
      "execution_count": 38,
      "outputs": [
        {
          "output_type": "display_data",
          "data": {
            "text/plain": [
              "<IPython.core.display.Javascript object>"
            ],
            "application/javascript": [
              "\n",
              "    async function download(id, filename, size) {\n",
              "      if (!google.colab.kernel.accessAllowed) {\n",
              "        return;\n",
              "      }\n",
              "      const div = document.createElement('div');\n",
              "      const label = document.createElement('label');\n",
              "      label.textContent = `Downloading \"${filename}\": `;\n",
              "      div.appendChild(label);\n",
              "      const progress = document.createElement('progress');\n",
              "      progress.max = size;\n",
              "      div.appendChild(progress);\n",
              "      document.body.appendChild(div);\n",
              "\n",
              "      const buffers = [];\n",
              "      let downloaded = 0;\n",
              "\n",
              "      const channel = await google.colab.kernel.comms.open(id);\n",
              "      // Send a message to notify the kernel that we're ready.\n",
              "      channel.send({})\n",
              "\n",
              "      for await (const message of channel.messages) {\n",
              "        // Send a message to notify the kernel that we're ready.\n",
              "        channel.send({})\n",
              "        if (message.buffers) {\n",
              "          for (const buffer of message.buffers) {\n",
              "            buffers.push(buffer);\n",
              "            downloaded += buffer.byteLength;\n",
              "            progress.value = downloaded;\n",
              "          }\n",
              "        }\n",
              "      }\n",
              "      const blob = new Blob(buffers, {type: 'application/binary'});\n",
              "      const a = document.createElement('a');\n",
              "      a.href = window.URL.createObjectURL(blob);\n",
              "      a.download = filename;\n",
              "      div.appendChild(a);\n",
              "      a.click();\n",
              "      div.remove();\n",
              "    }\n",
              "  "
            ]
          },
          "metadata": {}
        },
        {
          "output_type": "display_data",
          "data": {
            "text/plain": [
              "<IPython.core.display.Javascript object>"
            ],
            "application/javascript": [
              "download(\"download_65d6d7d4-ca43-4aa0-b2de-856ed723bf22\", \"5990_NCF_FREQ_REC.csv\", 822)"
            ]
          },
          "metadata": {}
        }
      ]
    }
  ]
}