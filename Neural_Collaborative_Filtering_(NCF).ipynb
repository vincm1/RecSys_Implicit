{
  "nbformat": 4,
  "nbformat_minor": 0,
  "metadata": {
    "colab": {
      "provenance": [],
      "mount_file_id": "1konqxGL0Iag2QW1988BCFLHJECzfFioJ",
      "authorship_tag": "ABX9TyOn1FP74s9yePOKTe+/soLN",
      "include_colab_link": true
    },
    "kernelspec": {
      "name": "python3",
      "display_name": "Python 3"
    },
    "language_info": {
      "name": "python"
    }
  },
  "cells": [
    {
      "cell_type": "markdown",
      "metadata": {
        "id": "view-in-github",
        "colab_type": "text"
      },
      "source": [
        "<a href=\"https://colab.research.google.com/github/vincm1/RecSys_Implicit/blob/master/Neural_Collaborative_Filtering_(NCF).ipynb\" target=\"_parent\"><img src=\"https://colab.research.google.com/assets/colab-badge.svg\" alt=\"Open In Colab\"/></a>"
      ]
    },
    {
      "cell_type": "markdown",
      "source": [
        "# Neural Collaborative Filtering (NCF)\n",
        "\n",
        "This notebook tries to implement a NCF based RecSys for implicit transaction data of IT Hard- and Software purchases. Based on 6 months transaction data."
      ],
      "metadata": {
        "id": "mT8nuAFSrM-G"
      }
    },
    {
      "cell_type": "code",
      "source": [
        "import zipfile\n",
        "import time\n",
        "import pickle\n",
        "import numpy as np\n",
        "import seaborn as sns\n",
        "import matplotlib.pyplot as plt\n",
        "import pandas as pd\n",
        "\n",
        "import scipy.sparse as sparse\n",
        "\n",
        "from datetime import datetime, timedelta"
      ],
      "metadata": {
        "id": "4o2HQsSRrpcq"
      },
      "execution_count": 1,
      "outputs": []
    },
    {
      "cell_type": "markdown",
      "source": [
        "# Data Preprocessing"
      ],
      "metadata": {
        "id": "8gdTGMdori2D"
      }
    },
    {
      "cell_type": "code",
      "execution_count": 3,
      "metadata": {
        "colab": {
          "base_uri": "https://localhost:8080/"
        },
        "id": "okpcyaVRrGsB",
        "outputId": "317eaa13-3162-485b-d940-b9a426fe766c"
      },
      "outputs": [
        {
          "output_type": "stream",
          "name": "stderr",
          "text": [
            "<ipython-input-3-6f4658781373>:2: DtypeWarning: Columns (2,4) have mixed types. Specify dtype option on import or set low_memory=False.\n",
            "  df = pd.read_csv(df_zip.open('Bericht 1.csv'), delimiter=\";\")\n"
          ]
        }
      ],
      "source": [
        "df_zip = zipfile.ZipFile('/content/drive/MyDrive/RecSys/Orders_Nov22_Jun23.zip')\n",
        "df = pd.read_csv(df_zip.open('Bericht 1.csv'), delimiter=\";\")"
      ]
    }
  ]
}