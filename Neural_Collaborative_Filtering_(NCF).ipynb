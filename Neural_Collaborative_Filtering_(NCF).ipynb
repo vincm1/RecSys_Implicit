{
  "nbformat": 4,
  "nbformat_minor": 0,
  "metadata": {
    "colab": {
      "provenance": [],
      "gpuType": "V100",
      "machine_shape": "hm",
      "mount_file_id": "1konqxGL0Iag2QW1988BCFLHJECzfFioJ",
      "authorship_tag": "ABX9TyPTfgnR3yJtZk2c/d5u67A3",
      "include_colab_link": true
    },
    "kernelspec": {
      "name": "python3",
      "display_name": "Python 3"
    },
    "language_info": {
      "name": "python"
    },
    "accelerator": "GPU"
  },
  "cells": [
    {
      "cell_type": "markdown",
      "metadata": {
        "id": "view-in-github",
        "colab_type": "text"
      },
      "source": [
        "<a href=\"https://colab.research.google.com/github/vincm1/RecSys_Implicit/blob/master/Neural_Collaborative_Filtering_(NCF).ipynb\" target=\"_parent\"><img src=\"https://colab.research.google.com/assets/colab-badge.svg\" alt=\"Open In Colab\"/></a>"
      ]
    },
    {
      "cell_type": "code",
      "source": [
        "!pip install tensorflow-ranking\n",
        "!pip install lightfm\n",
        "!pip install LibRecommender"
      ],
      "metadata": {
        "colab": {
          "base_uri": "https://localhost:8080/"
        },
        "id": "g0eprXf9ucgf",
        "outputId": "7cf6bfd0-26df-4863-c8e2-3f2ffde9a8ab"
      },
      "execution_count": 1,
      "outputs": [
        {
          "output_type": "stream",
          "name": "stdout",
          "text": [
            "Requirement already satisfied: tensorflow-ranking in /usr/local/lib/python3.10/dist-packages (0.5.2)\n",
            "Requirement already satisfied: absl-py>=0.1.6 in /usr/local/lib/python3.10/dist-packages (from tensorflow-ranking) (1.4.0)\n",
            "Requirement already satisfied: numpy==1.23.2 in /usr/local/lib/python3.10/dist-packages (from tensorflow-ranking) (1.23.2)\n",
            "Requirement already satisfied: six>=1.10.0 in /usr/local/lib/python3.10/dist-packages (from tensorflow-ranking) (1.16.0)\n",
            "Requirement already satisfied: tensorflow-serving-api<3.0.0,>=2.0.0 in /usr/local/lib/python3.10/dist-packages (from tensorflow-ranking) (2.13.0)\n",
            "Requirement already satisfied: grpcio<2.0,>=1.24.3 in /usr/local/lib/python3.10/dist-packages (from tensorflow-serving-api<3.0.0,>=2.0.0->tensorflow-ranking) (1.56.2)\n",
            "Requirement already satisfied: protobuf!=4.21.0,!=4.21.1,!=4.21.2,!=4.21.3,!=4.21.4,!=4.21.5,<5.0.0dev,>=3.20.3 in /usr/local/lib/python3.10/dist-packages (from tensorflow-serving-api<3.0.0,>=2.0.0->tensorflow-ranking) (3.20.3)\n",
            "Requirement already satisfied: tensorflow<3,>=2.13.0 in /usr/local/lib/python3.10/dist-packages (from tensorflow-serving-api<3.0.0,>=2.0.0->tensorflow-ranking) (2.13.0)\n",
            "Requirement already satisfied: astunparse>=1.6.0 in /usr/local/lib/python3.10/dist-packages (from tensorflow<3,>=2.13.0->tensorflow-serving-api<3.0.0,>=2.0.0->tensorflow-ranking) (1.6.3)\n",
            "Requirement already satisfied: flatbuffers>=23.1.21 in /usr/local/lib/python3.10/dist-packages (from tensorflow<3,>=2.13.0->tensorflow-serving-api<3.0.0,>=2.0.0->tensorflow-ranking) (23.5.26)\n",
            "Requirement already satisfied: gast<=0.4.0,>=0.2.1 in /usr/local/lib/python3.10/dist-packages (from tensorflow<3,>=2.13.0->tensorflow-serving-api<3.0.0,>=2.0.0->tensorflow-ranking) (0.4.0)\n",
            "Requirement already satisfied: google-pasta>=0.1.1 in /usr/local/lib/python3.10/dist-packages (from tensorflow<3,>=2.13.0->tensorflow-serving-api<3.0.0,>=2.0.0->tensorflow-ranking) (0.2.0)\n",
            "Requirement already satisfied: h5py>=2.9.0 in /usr/local/lib/python3.10/dist-packages (from tensorflow<3,>=2.13.0->tensorflow-serving-api<3.0.0,>=2.0.0->tensorflow-ranking) (3.8.0)\n",
            "Requirement already satisfied: keras<2.14,>=2.13.1 in /usr/local/lib/python3.10/dist-packages (from tensorflow<3,>=2.13.0->tensorflow-serving-api<3.0.0,>=2.0.0->tensorflow-ranking) (2.13.1)\n",
            "Requirement already satisfied: libclang>=13.0.0 in /usr/local/lib/python3.10/dist-packages (from tensorflow<3,>=2.13.0->tensorflow-serving-api<3.0.0,>=2.0.0->tensorflow-ranking) (16.0.6)\n",
            "Requirement already satisfied: opt-einsum>=2.3.2 in /usr/local/lib/python3.10/dist-packages (from tensorflow<3,>=2.13.0->tensorflow-serving-api<3.0.0,>=2.0.0->tensorflow-ranking) (3.3.0)\n",
            "Requirement already satisfied: packaging in /usr/local/lib/python3.10/dist-packages (from tensorflow<3,>=2.13.0->tensorflow-serving-api<3.0.0,>=2.0.0->tensorflow-ranking) (23.1)\n",
            "Requirement already satisfied: setuptools in /usr/local/lib/python3.10/dist-packages (from tensorflow<3,>=2.13.0->tensorflow-serving-api<3.0.0,>=2.0.0->tensorflow-ranking) (67.7.2)\n",
            "Requirement already satisfied: tensorboard<2.14,>=2.13 in /usr/local/lib/python3.10/dist-packages (from tensorflow<3,>=2.13.0->tensorflow-serving-api<3.0.0,>=2.0.0->tensorflow-ranking) (2.13.0)\n",
            "Requirement already satisfied: tensorflow-estimator<2.14,>=2.13.0 in /usr/local/lib/python3.10/dist-packages (from tensorflow<3,>=2.13.0->tensorflow-serving-api<3.0.0,>=2.0.0->tensorflow-ranking) (2.13.0)\n",
            "Requirement already satisfied: termcolor>=1.1.0 in /usr/local/lib/python3.10/dist-packages (from tensorflow<3,>=2.13.0->tensorflow-serving-api<3.0.0,>=2.0.0->tensorflow-ranking) (2.3.0)\n",
            "Requirement already satisfied: typing-extensions<4.6.0,>=3.6.6 in /usr/local/lib/python3.10/dist-packages (from tensorflow<3,>=2.13.0->tensorflow-serving-api<3.0.0,>=2.0.0->tensorflow-ranking) (4.5.0)\n",
            "Requirement already satisfied: wrapt>=1.11.0 in /usr/local/lib/python3.10/dist-packages (from tensorflow<3,>=2.13.0->tensorflow-serving-api<3.0.0,>=2.0.0->tensorflow-ranking) (1.14.1)\n",
            "Requirement already satisfied: tensorflow-io-gcs-filesystem>=0.23.1 in /usr/local/lib/python3.10/dist-packages (from tensorflow<3,>=2.13.0->tensorflow-serving-api<3.0.0,>=2.0.0->tensorflow-ranking) (0.33.0)\n",
            "Requirement already satisfied: wheel<1.0,>=0.23.0 in /usr/local/lib/python3.10/dist-packages (from astunparse>=1.6.0->tensorflow<3,>=2.13.0->tensorflow-serving-api<3.0.0,>=2.0.0->tensorflow-ranking) (0.41.0)\n",
            "Requirement already satisfied: google-auth<3,>=1.6.3 in /usr/local/lib/python3.10/dist-packages (from tensorboard<2.14,>=2.13->tensorflow<3,>=2.13.0->tensorflow-serving-api<3.0.0,>=2.0.0->tensorflow-ranking) (2.17.3)\n",
            "Requirement already satisfied: google-auth-oauthlib<1.1,>=0.5 in /usr/local/lib/python3.10/dist-packages (from tensorboard<2.14,>=2.13->tensorflow<3,>=2.13.0->tensorflow-serving-api<3.0.0,>=2.0.0->tensorflow-ranking) (1.0.0)\n",
            "Requirement already satisfied: markdown>=2.6.8 in /usr/local/lib/python3.10/dist-packages (from tensorboard<2.14,>=2.13->tensorflow<3,>=2.13.0->tensorflow-serving-api<3.0.0,>=2.0.0->tensorflow-ranking) (3.4.4)\n",
            "Requirement already satisfied: requests<3,>=2.21.0 in /usr/local/lib/python3.10/dist-packages (from tensorboard<2.14,>=2.13->tensorflow<3,>=2.13.0->tensorflow-serving-api<3.0.0,>=2.0.0->tensorflow-ranking) (2.31.0)\n",
            "Requirement already satisfied: tensorboard-data-server<0.8.0,>=0.7.0 in /usr/local/lib/python3.10/dist-packages (from tensorboard<2.14,>=2.13->tensorflow<3,>=2.13.0->tensorflow-serving-api<3.0.0,>=2.0.0->tensorflow-ranking) (0.7.1)\n",
            "Requirement already satisfied: werkzeug>=1.0.1 in /usr/local/lib/python3.10/dist-packages (from tensorboard<2.14,>=2.13->tensorflow<3,>=2.13.0->tensorflow-serving-api<3.0.0,>=2.0.0->tensorflow-ranking) (2.3.6)\n",
            "Requirement already satisfied: cachetools<6.0,>=2.0.0 in /usr/local/lib/python3.10/dist-packages (from google-auth<3,>=1.6.3->tensorboard<2.14,>=2.13->tensorflow<3,>=2.13.0->tensorflow-serving-api<3.0.0,>=2.0.0->tensorflow-ranking) (5.3.1)\n",
            "Requirement already satisfied: pyasn1-modules>=0.2.1 in /usr/local/lib/python3.10/dist-packages (from google-auth<3,>=1.6.3->tensorboard<2.14,>=2.13->tensorflow<3,>=2.13.0->tensorflow-serving-api<3.0.0,>=2.0.0->tensorflow-ranking) (0.3.0)\n",
            "Requirement already satisfied: rsa<5,>=3.1.4 in /usr/local/lib/python3.10/dist-packages (from google-auth<3,>=1.6.3->tensorboard<2.14,>=2.13->tensorflow<3,>=2.13.0->tensorflow-serving-api<3.0.0,>=2.0.0->tensorflow-ranking) (4.9)\n",
            "Requirement already satisfied: requests-oauthlib>=0.7.0 in /usr/local/lib/python3.10/dist-packages (from google-auth-oauthlib<1.1,>=0.5->tensorboard<2.14,>=2.13->tensorflow<3,>=2.13.0->tensorflow-serving-api<3.0.0,>=2.0.0->tensorflow-ranking) (1.3.1)\n",
            "Requirement already satisfied: charset-normalizer<4,>=2 in /usr/local/lib/python3.10/dist-packages (from requests<3,>=2.21.0->tensorboard<2.14,>=2.13->tensorflow<3,>=2.13.0->tensorflow-serving-api<3.0.0,>=2.0.0->tensorflow-ranking) (3.2.0)\n",
            "Requirement already satisfied: idna<4,>=2.5 in /usr/local/lib/python3.10/dist-packages (from requests<3,>=2.21.0->tensorboard<2.14,>=2.13->tensorflow<3,>=2.13.0->tensorflow-serving-api<3.0.0,>=2.0.0->tensorflow-ranking) (3.4)\n",
            "Requirement already satisfied: urllib3<3,>=1.21.1 in /usr/local/lib/python3.10/dist-packages (from requests<3,>=2.21.0->tensorboard<2.14,>=2.13->tensorflow<3,>=2.13.0->tensorflow-serving-api<3.0.0,>=2.0.0->tensorflow-ranking) (1.26.16)\n",
            "Requirement already satisfied: certifi>=2017.4.17 in /usr/local/lib/python3.10/dist-packages (from requests<3,>=2.21.0->tensorboard<2.14,>=2.13->tensorflow<3,>=2.13.0->tensorflow-serving-api<3.0.0,>=2.0.0->tensorflow-ranking) (2023.7.22)\n",
            "Requirement already satisfied: MarkupSafe>=2.1.1 in /usr/local/lib/python3.10/dist-packages (from werkzeug>=1.0.1->tensorboard<2.14,>=2.13->tensorflow<3,>=2.13.0->tensorflow-serving-api<3.0.0,>=2.0.0->tensorflow-ranking) (2.1.3)\n",
            "Requirement already satisfied: pyasn1<0.6.0,>=0.4.6 in /usr/local/lib/python3.10/dist-packages (from pyasn1-modules>=0.2.1->google-auth<3,>=1.6.3->tensorboard<2.14,>=2.13->tensorflow<3,>=2.13.0->tensorflow-serving-api<3.0.0,>=2.0.0->tensorflow-ranking) (0.5.0)\n",
            "Requirement already satisfied: oauthlib>=3.0.0 in /usr/local/lib/python3.10/dist-packages (from requests-oauthlib>=0.7.0->google-auth-oauthlib<1.1,>=0.5->tensorboard<2.14,>=2.13->tensorflow<3,>=2.13.0->tensorflow-serving-api<3.0.0,>=2.0.0->tensorflow-ranking) (3.2.2)\n",
            "Requirement already satisfied: lightfm in /usr/local/lib/python3.10/dist-packages (1.17)\n",
            "Requirement already satisfied: numpy in /usr/local/lib/python3.10/dist-packages (from lightfm) (1.23.2)\n",
            "Requirement already satisfied: scipy>=0.17.0 in /usr/local/lib/python3.10/dist-packages (from lightfm) (1.10.1)\n",
            "Requirement already satisfied: requests in /usr/local/lib/python3.10/dist-packages (from lightfm) (2.31.0)\n",
            "Requirement already satisfied: scikit-learn in /usr/local/lib/python3.10/dist-packages (from lightfm) (1.2.2)\n",
            "Requirement already satisfied: charset-normalizer<4,>=2 in /usr/local/lib/python3.10/dist-packages (from requests->lightfm) (3.2.0)\n",
            "Requirement already satisfied: idna<4,>=2.5 in /usr/local/lib/python3.10/dist-packages (from requests->lightfm) (3.4)\n",
            "Requirement already satisfied: urllib3<3,>=1.21.1 in /usr/local/lib/python3.10/dist-packages (from requests->lightfm) (1.26.16)\n",
            "Requirement already satisfied: certifi>=2017.4.17 in /usr/local/lib/python3.10/dist-packages (from requests->lightfm) (2023.7.22)\n",
            "Requirement already satisfied: joblib>=1.1.1 in /usr/local/lib/python3.10/dist-packages (from scikit-learn->lightfm) (1.3.1)\n",
            "Requirement already satisfied: threadpoolctl>=2.0.0 in /usr/local/lib/python3.10/dist-packages (from scikit-learn->lightfm) (3.2.0)\n",
            "Requirement already satisfied: LibRecommender in /usr/local/lib/python3.10/dist-packages (1.2.2)\n",
            "Requirement already satisfied: gensim>=4.0.0 in /usr/local/lib/python3.10/dist-packages (from LibRecommender) (4.3.1)\n",
            "Requirement already satisfied: tqdm in /usr/local/lib/python3.10/dist-packages (from LibRecommender) (4.65.0)\n",
            "Requirement already satisfied: numpy>=1.18.5 in /usr/local/lib/python3.10/dist-packages (from gensim>=4.0.0->LibRecommender) (1.23.2)\n",
            "Requirement already satisfied: scipy>=1.7.0 in /usr/local/lib/python3.10/dist-packages (from gensim>=4.0.0->LibRecommender) (1.10.1)\n",
            "Requirement already satisfied: smart-open>=1.8.1 in /usr/local/lib/python3.10/dist-packages (from gensim>=4.0.0->LibRecommender) (6.3.0)\n"
          ]
        }
      ]
    },
    {
      "cell_type": "markdown",
      "source": [
        "# Neural Collaborative Filtering (NCF)\n",
        "\n",
        "This notebook tries to implement a NCF based RecSys for implicit transaction data of IT Hard- and Software purchases. Based on 6 months transaction data."
      ],
      "metadata": {
        "id": "mT8nuAFSrM-G"
      }
    },
    {
      "cell_type": "code",
      "source": [
        "import os\n",
        "import datetime\n",
        "import zipfile\n",
        "\n",
        "import numpy as np\n",
        "import pandas as pd\n",
        "import lightfm\n",
        "import tensorflow as tf\n",
        "from tensorflow import keras\n",
        "\n",
        "from pathlib import Path\n",
        "import warnings\n",
        "warnings.filterwarnings(\"ignore\")"
      ],
      "metadata": {
        "id": "4o2HQsSRrpcq"
      },
      "execution_count": 2,
      "outputs": []
    },
    {
      "cell_type": "markdown",
      "source": [
        "# Data Preprocessing"
      ],
      "metadata": {
        "id": "8gdTGMdori2D"
      }
    },
    {
      "cell_type": "code",
      "execution_count": 3,
      "metadata": {
        "id": "okpcyaVRrGsB"
      },
      "outputs": [],
      "source": [
        "df_zip = zipfile.ZipFile('/content/drive/MyDrive/RecSys/Orders_Nov22_Jun23.zip')\n",
        "df = pd.read_csv(df_zip.open('Bericht 1.csv'), delimiter=\";\")"
      ]
    },
    {
      "cell_type": "code",
      "source": [
        "df.head()"
      ],
      "metadata": {
        "colab": {
          "base_uri": "https://localhost:8080/",
          "height": 548
        },
        "id": "HZniroYThlbm",
        "outputId": "4902ec21-f833-47f1-e4b5-ba7fdb60770d"
      },
      "execution_count": 6,
      "outputs": [
        {
          "output_type": "execute_result",
          "data": {
            "text/plain": [
              "  Order Nbr Entry Date Entry DateTime FiscalMonth BranchCustomerNbr  \\\n",
              "0   1547606   01.11.22            NaN    2022FM11          15515778   \n",
              "1   1547615   01.11.22            NaN    2022FM11          15509465   \n",
              "2   1547616   01.11.22            NaN    2022FM11          15509465   \n",
              "3   1547617   01.11.22            NaN    2022FM11          15509465   \n",
              "4   1547688   01.11.22            NaN    2022FM11          15865338   \n",
              "\n",
              "                    CustomerName   BusinessUnitLevel2 KDGroup      Sku  \\\n",
              "0           NET-S M. CHMIELEWSKI  Export Channel (DE)          9433B9X   \n",
              "1  DIGITAL RIVER IRELAND LIMITED  Export Channel (DE)    DIRL  CB31510   \n",
              "2  DIGITAL RIVER IRELAND LIMITED  Export Channel (DE)    DIRL  CE63791   \n",
              "3  DIGITAL RIVER IRELAND LIMITED  Export Channel (DE)    DIRL  CC36816   \n",
              "4           DISTRELEC SCHWEIZ AG  Export Channel (DE)          J151410   \n",
              "\n",
              "                   Product Descr1                   Product Descr2  \\\n",
              "0               INK CARTRIDGE SPS  BLACK 370ML 600 DPI INKJET BULK   \n",
              "1            LENOVO KEYBOARD PACK                   FOR TAB P11-DE   \n",
              "2   TP L13 YOGA G3 R7P 5875U 16GB      512GB SSD 13.3 WUXGA W10PDG   \n",
              "3  THINKBOOK 13S G3 R5 5600U 16GB        512GB SSD 13.3 WUXGA W11P   \n",
              "4    USB2.0 A TO B CABLE 5M BLACK    M/M 100PCT COPPER CONDUCTOR .   \n",
              "\n",
              "   ProductGroup ProductGroupMasterDescription      ProductGroupDescription  \\\n",
              "0          1037                   Consumables                          Ink   \n",
              "1           641                 Input Devices          Keyboards & Keypads   \n",
              "2            11              Computer Systems  Portable/Notebook Computers   \n",
              "3            11              Computer Systems  Portable/Notebook Computers   \n",
              "4          1206                        Cables        Usb Cables & Adapters   \n",
              "\n",
              "  ProductGroup2ndDescription       Sales  Qty Shipped  \n",
              "0                   Supplies      -15,33         -1.0  \n",
              "1     Printers & Peripherals     -104,61         -1.0  \n",
              "2                     System   -1.232,13         -1.0  \n",
              "3                     System     -824,73         -1.0  \n",
              "4     Printers & Peripherals       -6,60         -3.0  "
            ],
            "text/html": [
              "\n",
              "\n",
              "  <div id=\"df-7e012667-587d-46a9-a0ac-59229b04f63e\">\n",
              "    <div class=\"colab-df-container\">\n",
              "      <div>\n",
              "<style scoped>\n",
              "    .dataframe tbody tr th:only-of-type {\n",
              "        vertical-align: middle;\n",
              "    }\n",
              "\n",
              "    .dataframe tbody tr th {\n",
              "        vertical-align: top;\n",
              "    }\n",
              "\n",
              "    .dataframe thead th {\n",
              "        text-align: right;\n",
              "    }\n",
              "</style>\n",
              "<table border=\"1\" class=\"dataframe\">\n",
              "  <thead>\n",
              "    <tr style=\"text-align: right;\">\n",
              "      <th></th>\n",
              "      <th>Order Nbr</th>\n",
              "      <th>Entry Date</th>\n",
              "      <th>Entry DateTime</th>\n",
              "      <th>FiscalMonth</th>\n",
              "      <th>BranchCustomerNbr</th>\n",
              "      <th>CustomerName</th>\n",
              "      <th>BusinessUnitLevel2</th>\n",
              "      <th>KDGroup</th>\n",
              "      <th>Sku</th>\n",
              "      <th>Product Descr1</th>\n",
              "      <th>Product Descr2</th>\n",
              "      <th>ProductGroup</th>\n",
              "      <th>ProductGroupMasterDescription</th>\n",
              "      <th>ProductGroupDescription</th>\n",
              "      <th>ProductGroup2ndDescription</th>\n",
              "      <th>Sales</th>\n",
              "      <th>Qty Shipped</th>\n",
              "    </tr>\n",
              "  </thead>\n",
              "  <tbody>\n",
              "    <tr>\n",
              "      <th>0</th>\n",
              "      <td>1547606</td>\n",
              "      <td>01.11.22</td>\n",
              "      <td>NaN</td>\n",
              "      <td>2022FM11</td>\n",
              "      <td>15515778</td>\n",
              "      <td>NET-S M. CHMIELEWSKI</td>\n",
              "      <td>Export Channel (DE)</td>\n",
              "      <td></td>\n",
              "      <td>9433B9X</td>\n",
              "      <td>INK CARTRIDGE SPS</td>\n",
              "      <td>BLACK 370ML 600 DPI INKJET BULK</td>\n",
              "      <td>1037</td>\n",
              "      <td>Consumables</td>\n",
              "      <td>Ink</td>\n",
              "      <td>Supplies</td>\n",
              "      <td>-15,33</td>\n",
              "      <td>-1.0</td>\n",
              "    </tr>\n",
              "    <tr>\n",
              "      <th>1</th>\n",
              "      <td>1547615</td>\n",
              "      <td>01.11.22</td>\n",
              "      <td>NaN</td>\n",
              "      <td>2022FM11</td>\n",
              "      <td>15509465</td>\n",
              "      <td>DIGITAL RIVER IRELAND LIMITED</td>\n",
              "      <td>Export Channel (DE)</td>\n",
              "      <td>DIRL</td>\n",
              "      <td>CB31510</td>\n",
              "      <td>LENOVO KEYBOARD PACK</td>\n",
              "      <td>FOR TAB P11-DE</td>\n",
              "      <td>641</td>\n",
              "      <td>Input Devices</td>\n",
              "      <td>Keyboards &amp; Keypads</td>\n",
              "      <td>Printers &amp; Peripherals</td>\n",
              "      <td>-104,61</td>\n",
              "      <td>-1.0</td>\n",
              "    </tr>\n",
              "    <tr>\n",
              "      <th>2</th>\n",
              "      <td>1547616</td>\n",
              "      <td>01.11.22</td>\n",
              "      <td>NaN</td>\n",
              "      <td>2022FM11</td>\n",
              "      <td>15509465</td>\n",
              "      <td>DIGITAL RIVER IRELAND LIMITED</td>\n",
              "      <td>Export Channel (DE)</td>\n",
              "      <td>DIRL</td>\n",
              "      <td>CE63791</td>\n",
              "      <td>TP L13 YOGA G3 R7P 5875U 16GB</td>\n",
              "      <td>512GB SSD 13.3 WUXGA W10PDG</td>\n",
              "      <td>11</td>\n",
              "      <td>Computer Systems</td>\n",
              "      <td>Portable/Notebook Computers</td>\n",
              "      <td>System</td>\n",
              "      <td>-1.232,13</td>\n",
              "      <td>-1.0</td>\n",
              "    </tr>\n",
              "    <tr>\n",
              "      <th>3</th>\n",
              "      <td>1547617</td>\n",
              "      <td>01.11.22</td>\n",
              "      <td>NaN</td>\n",
              "      <td>2022FM11</td>\n",
              "      <td>15509465</td>\n",
              "      <td>DIGITAL RIVER IRELAND LIMITED</td>\n",
              "      <td>Export Channel (DE)</td>\n",
              "      <td>DIRL</td>\n",
              "      <td>CC36816</td>\n",
              "      <td>THINKBOOK 13S G3 R5 5600U 16GB</td>\n",
              "      <td>512GB SSD 13.3 WUXGA W11P</td>\n",
              "      <td>11</td>\n",
              "      <td>Computer Systems</td>\n",
              "      <td>Portable/Notebook Computers</td>\n",
              "      <td>System</td>\n",
              "      <td>-824,73</td>\n",
              "      <td>-1.0</td>\n",
              "    </tr>\n",
              "    <tr>\n",
              "      <th>4</th>\n",
              "      <td>1547688</td>\n",
              "      <td>01.11.22</td>\n",
              "      <td>NaN</td>\n",
              "      <td>2022FM11</td>\n",
              "      <td>15865338</td>\n",
              "      <td>DISTRELEC SCHWEIZ AG</td>\n",
              "      <td>Export Channel (DE)</td>\n",
              "      <td></td>\n",
              "      <td>J151410</td>\n",
              "      <td>USB2.0 A TO B CABLE 5M BLACK</td>\n",
              "      <td>M/M 100PCT COPPER CONDUCTOR .</td>\n",
              "      <td>1206</td>\n",
              "      <td>Cables</td>\n",
              "      <td>Usb Cables &amp; Adapters</td>\n",
              "      <td>Printers &amp; Peripherals</td>\n",
              "      <td>-6,60</td>\n",
              "      <td>-3.0</td>\n",
              "    </tr>\n",
              "  </tbody>\n",
              "</table>\n",
              "</div>\n",
              "      <button class=\"colab-df-convert\" onclick=\"convertToInteractive('df-7e012667-587d-46a9-a0ac-59229b04f63e')\"\n",
              "              title=\"Convert this dataframe to an interactive table.\"\n",
              "              style=\"display:none;\">\n",
              "\n",
              "  <svg xmlns=\"http://www.w3.org/2000/svg\" height=\"24px\"viewBox=\"0 0 24 24\"\n",
              "       width=\"24px\">\n",
              "    <path d=\"M0 0h24v24H0V0z\" fill=\"none\"/>\n",
              "    <path d=\"M18.56 5.44l.94 2.06.94-2.06 2.06-.94-2.06-.94-.94-2.06-.94 2.06-2.06.94zm-11 1L8.5 8.5l.94-2.06 2.06-.94-2.06-.94L8.5 2.5l-.94 2.06-2.06.94zm10 10l.94 2.06.94-2.06 2.06-.94-2.06-.94-.94-2.06-.94 2.06-2.06.94z\"/><path d=\"M17.41 7.96l-1.37-1.37c-.4-.4-.92-.59-1.43-.59-.52 0-1.04.2-1.43.59L10.3 9.45l-7.72 7.72c-.78.78-.78 2.05 0 2.83L4 21.41c.39.39.9.59 1.41.59.51 0 1.02-.2 1.41-.59l7.78-7.78 2.81-2.81c.8-.78.8-2.07 0-2.86zM5.41 20L4 18.59l7.72-7.72 1.47 1.35L5.41 20z\"/>\n",
              "  </svg>\n",
              "      </button>\n",
              "\n",
              "\n",
              "\n",
              "    <div id=\"df-5525bc2b-21ee-48b7-b9b4-17732c6b3f97\">\n",
              "      <button class=\"colab-df-quickchart\" onclick=\"quickchart('df-5525bc2b-21ee-48b7-b9b4-17732c6b3f97')\"\n",
              "              title=\"Suggest charts.\"\n",
              "              style=\"display:none;\">\n",
              "\n",
              "<svg xmlns=\"http://www.w3.org/2000/svg\" height=\"24px\"viewBox=\"0 0 24 24\"\n",
              "     width=\"24px\">\n",
              "    <g>\n",
              "        <path d=\"M19 3H5c-1.1 0-2 .9-2 2v14c0 1.1.9 2 2 2h14c1.1 0 2-.9 2-2V5c0-1.1-.9-2-2-2zM9 17H7v-7h2v7zm4 0h-2V7h2v10zm4 0h-2v-4h2v4z\"/>\n",
              "    </g>\n",
              "</svg>\n",
              "      </button>\n",
              "    </div>\n",
              "\n",
              "<style>\n",
              "  .colab-df-quickchart {\n",
              "    background-color: #E8F0FE;\n",
              "    border: none;\n",
              "    border-radius: 50%;\n",
              "    cursor: pointer;\n",
              "    display: none;\n",
              "    fill: #1967D2;\n",
              "    height: 32px;\n",
              "    padding: 0 0 0 0;\n",
              "    width: 32px;\n",
              "  }\n",
              "\n",
              "  .colab-df-quickchart:hover {\n",
              "    background-color: #E2EBFA;\n",
              "    box-shadow: 0px 1px 2px rgba(60, 64, 67, 0.3), 0px 1px 3px 1px rgba(60, 64, 67, 0.15);\n",
              "    fill: #174EA6;\n",
              "  }\n",
              "\n",
              "  [theme=dark] .colab-df-quickchart {\n",
              "    background-color: #3B4455;\n",
              "    fill: #D2E3FC;\n",
              "  }\n",
              "\n",
              "  [theme=dark] .colab-df-quickchart:hover {\n",
              "    background-color: #434B5C;\n",
              "    box-shadow: 0px 1px 3px 1px rgba(0, 0, 0, 0.15);\n",
              "    filter: drop-shadow(0px 1px 2px rgba(0, 0, 0, 0.3));\n",
              "    fill: #FFFFFF;\n",
              "  }\n",
              "</style>\n",
              "\n",
              "    <script>\n",
              "      async function quickchart(key) {\n",
              "        const containerElement = document.querySelector('#' + key);\n",
              "        const charts = await google.colab.kernel.invokeFunction(\n",
              "            'suggestCharts', [key], {});\n",
              "      }\n",
              "    </script>\n",
              "\n",
              "      <script>\n",
              "\n",
              "function displayQuickchartButton(domScope) {\n",
              "  let quickchartButtonEl =\n",
              "    domScope.querySelector('#df-5525bc2b-21ee-48b7-b9b4-17732c6b3f97 button.colab-df-quickchart');\n",
              "  quickchartButtonEl.style.display =\n",
              "    google.colab.kernel.accessAllowed ? 'block' : 'none';\n",
              "}\n",
              "\n",
              "        displayQuickchartButton(document);\n",
              "      </script>\n",
              "      <style>\n",
              "    .colab-df-container {\n",
              "      display:flex;\n",
              "      flex-wrap:wrap;\n",
              "      gap: 12px;\n",
              "    }\n",
              "\n",
              "    .colab-df-convert {\n",
              "      background-color: #E8F0FE;\n",
              "      border: none;\n",
              "      border-radius: 50%;\n",
              "      cursor: pointer;\n",
              "      display: none;\n",
              "      fill: #1967D2;\n",
              "      height: 32px;\n",
              "      padding: 0 0 0 0;\n",
              "      width: 32px;\n",
              "    }\n",
              "\n",
              "    .colab-df-convert:hover {\n",
              "      background-color: #E2EBFA;\n",
              "      box-shadow: 0px 1px 2px rgba(60, 64, 67, 0.3), 0px 1px 3px 1px rgba(60, 64, 67, 0.15);\n",
              "      fill: #174EA6;\n",
              "    }\n",
              "\n",
              "    [theme=dark] .colab-df-convert {\n",
              "      background-color: #3B4455;\n",
              "      fill: #D2E3FC;\n",
              "    }\n",
              "\n",
              "    [theme=dark] .colab-df-convert:hover {\n",
              "      background-color: #434B5C;\n",
              "      box-shadow: 0px 1px 3px 1px rgba(0, 0, 0, 0.15);\n",
              "      filter: drop-shadow(0px 1px 2px rgba(0, 0, 0, 0.3));\n",
              "      fill: #FFFFFF;\n",
              "    }\n",
              "  </style>\n",
              "\n",
              "      <script>\n",
              "        const buttonEl =\n",
              "          document.querySelector('#df-7e012667-587d-46a9-a0ac-59229b04f63e button.colab-df-convert');\n",
              "        buttonEl.style.display =\n",
              "          google.colab.kernel.accessAllowed ? 'block' : 'none';\n",
              "\n",
              "        async function convertToInteractive(key) {\n",
              "          const element = document.querySelector('#df-7e012667-587d-46a9-a0ac-59229b04f63e');\n",
              "          const dataTable =\n",
              "            await google.colab.kernel.invokeFunction('convertToInteractive',\n",
              "                                                     [key], {});\n",
              "          if (!dataTable) return;\n",
              "\n",
              "          const docLinkHtml = 'Like what you see? Visit the ' +\n",
              "            '<a target=\"_blank\" href=https://colab.research.google.com/notebooks/data_table.ipynb>data table notebook</a>'\n",
              "            + ' to learn more about interactive tables.';\n",
              "          element.innerHTML = '';\n",
              "          dataTable['output_type'] = 'display_data';\n",
              "          await google.colab.output.renderOutput(dataTable, element);\n",
              "          const docLink = document.createElement('div');\n",
              "          docLink.innerHTML = docLinkHtml;\n",
              "          element.appendChild(docLink);\n",
              "        }\n",
              "      </script>\n",
              "    </div>\n",
              "  </div>\n"
            ]
          },
          "metadata": {},
          "execution_count": 6
        }
      ]
    },
    {
      "cell_type": "code",
      "source": [
        "print(len(df), len(df[\"BranchCustomerNbr\"].unique()), len(df[\"Sku\"].unique()))"
      ],
      "metadata": {
        "colab": {
          "base_uri": "https://localhost:8080/"
        },
        "id": "WXG-euAWscrt",
        "outputId": "73baf357-0059-4b47-af9a-6a4b7d326804"
      },
      "execution_count": 7,
      "outputs": [
        {
          "output_type": "stream",
          "name": "stdout",
          "text": [
            "2220299 17697 77401\n"
          ]
        }
      ]
    },
    {
      "cell_type": "markdown",
      "source": [
        "# Data Preprocessing"
      ],
      "metadata": {
        "id": "WRoQuZMxseqA"
      }
    },
    {
      "cell_type": "code",
      "source": [
        "# converting the customerid to string\n",
        "df[\"BranchCustomerNbr\"] = df[\"BranchCustomerNbr\"].astype(str)\n",
        "# converting the skuid to string\n",
        "df[\"Sku\"] = df[\"Sku\"].astype(str)\n",
        "# Entry Date to date\n",
        "df['Entry Date'] = pd.to_datetime(df['Entry Date'], format='%d.%m.%y')\n",
        "# dropping retours (orders with negative Qty shipped) and zero Qty shipped orders\n",
        "df = df[df[\"Qty Shipped\"] > 0]\n",
        "# dropping backlog invoices, Specified date to filter the rows\n",
        "specific_date = pd.to_datetime('2022-11-01')\n",
        "# Filter the DataFrame to keep only the rows that are before or equal to the specific date\n",
        "df = df[df[\"Entry Date\"] >= specific_date]\n",
        "#insert purchase indication column\n",
        "df[\"purchase\"] = 1"
      ],
      "metadata": {
        "id": "wdW2kcprlIb0"
      },
      "execution_count": 8,
      "outputs": []
    },
    {
      "cell_type": "code",
      "source": [
        "print(len(df), len(df[\"BranchCustomerNbr\"].unique()), len(df[\"Sku\"].unique()))"
      ],
      "metadata": {
        "colab": {
          "base_uri": "https://localhost:8080/"
        },
        "id": "PLfQEu5esl-m",
        "outputId": "711f512d-aa7b-43a2-9e64-34150d5035fa"
      },
      "execution_count": 9,
      "outputs": [
        {
          "output_type": "stream",
          "name": "stdout",
          "text": [
            "2028956 13894 75643\n"
          ]
        }
      ]
    },
    {
      "cell_type": "code",
      "source": [
        "# add column that represent sku count\n",
        "def sku_count(df_pl):\n",
        "\n",
        "  df_pl['sku_count'] = df_pl.groupby('BranchCustomerNbr')['Sku'].transform('nunique')\n",
        "\n",
        "  return df_pl"
      ],
      "metadata": {
        "id": "RvQQV0ftspSf"
      },
      "execution_count": 10,
      "outputs": []
    },
    {
      "cell_type": "code",
      "source": [
        "df = sku_count(df)"
      ],
      "metadata": {
        "id": "vnst-d5nsqjM"
      },
      "execution_count": 11,
      "outputs": []
    },
    {
      "cell_type": "code",
      "source": [
        "# drop customers that only purchased 1 SKU\n",
        "df = df[df[\"sku_count\"] > 1]"
      ],
      "metadata": {
        "id": "VS2j3Ah-ssxl"
      },
      "execution_count": 12,
      "outputs": []
    },
    {
      "cell_type": "code",
      "source": [
        "print(len(df), len(df[\"BranchCustomerNbr\"].unique()), len(df[\"Sku\"].unique()))"
      ],
      "metadata": {
        "colab": {
          "base_uri": "https://localhost:8080/"
        },
        "id": "B6_bx3HbszJC",
        "outputId": "c8ddf63e-82e8-4f4b-e289-7a8620612d1c"
      },
      "execution_count": 13,
      "outputs": [
        {
          "output_type": "stream",
          "name": "stdout",
          "text": [
            "2025544 11328 75495\n"
          ]
        }
      ]
    },
    {
      "cell_type": "code",
      "source": [
        "# Create a numeric user_id and sku_id column\n",
        "df['BranchCustomerNbr'] = df['BranchCustomerNbr'].astype(\"category\")\n",
        "df['Sku'] = df['Sku'].astype(\"category\")\n",
        "df['bcn_id'] = df['BranchCustomerNbr'].cat.codes\n",
        "df['sku_id'] = df['Sku'].cat.codes"
      ],
      "metadata": {
        "id": "KOtgA1Vjslo8"
      },
      "execution_count": 14,
      "outputs": []
    },
    {
      "cell_type": "code",
      "source": [
        "users = df.bcn_id.unique()\n",
        "skus = df.sku_id.unique()\n",
        "print(len(users), len(skus))"
      ],
      "metadata": {
        "colab": {
          "base_uri": "https://localhost:8080/"
        },
        "id": "mlWZ9niNs4eA",
        "outputId": "5049c577-eb76-4be0-ffe5-c0b19116ef6e"
      },
      "execution_count": 15,
      "outputs": [
        {
          "output_type": "stream",
          "name": "stdout",
          "text": [
            "11328 75495\n"
          ]
        }
      ]
    },
    {
      "cell_type": "code",
      "source": [
        "df_2 = df.groupby(['bcn_id', 'sku_id']).agg({\n",
        "                                        'Qty Shipped':'sum',\n",
        "                                        'purchase': 'sum'}).reset_index()\n",
        "df_2[\"purch_bin\"] = 1"
      ],
      "metadata": {
        "id": "gInlnjgttUZJ"
      },
      "execution_count": 16,
      "outputs": []
    },
    {
      "cell_type": "markdown",
      "source": [
        "## Train test split"
      ],
      "metadata": {
        "id": "ssX8EVmSbitY"
      }
    },
    {
      "cell_type": "code",
      "source": [
        "from libreco.data import split_by_num, random_split\n",
        "from libreco.data import DatasetFeat"
      ],
      "metadata": {
        "colab": {
          "base_uri": "https://localhost:8080/"
        },
        "id": "FfMey0yvuiyK",
        "outputId": "95c4fa7c-ad1c-4729-f9ed-d6b9a885ccbb"
      },
      "execution_count": 17,
      "outputs": [
        {
          "output_type": "stream",
          "name": "stderr",
          "text": [
            "WARNING:tensorflow:From /usr/local/lib/python3.10/dist-packages/tensorflow/python/compat/v2_compat.py:107: disable_resource_variables (from tensorflow.python.ops.variable_scope) is deprecated and will be removed in a future version.\n",
            "Instructions for updating:\n",
            "non-resource variables are not supported in the long term\n"
          ]
        }
      ]
    },
    {
      "cell_type": "code",
      "source": [
        "df_2 = df_2.rename(columns={\"bcn_id\":\"user\", \"sku_id\":\"item\", \"purchase\":\"label\"})"
      ],
      "metadata": {
        "id": "bbqchAgvx8_8"
      },
      "execution_count": 18,
      "outputs": []
    },
    {
      "cell_type": "code",
      "source": [
        "train, test, eval = random_split(df_2[[\"user\", \"item\", \"label\"]], multi_ratios=[0.8,0.1,0.1])"
      ],
      "metadata": {
        "id": "o6pTIUd9uLUp"
      },
      "execution_count": 19,
      "outputs": []
    },
    {
      "cell_type": "code",
      "source": [
        "test"
      ],
      "metadata": {
        "colab": {
          "base_uri": "https://localhost:8080/",
          "height": 423
        },
        "id": "SxZkOaJSyN_V",
        "outputId": "4448d3d1-0cb7-4ab2-e36e-eef148c8b5eb"
      },
      "execution_count": 20,
      "outputs": [
        {
          "output_type": "execute_result",
          "data": {
            "text/plain": [
              "         user   item  label\n",
              "286347   3953  50569     12\n",
              "533376  10514  35614      2\n",
              "27969     333  40106      1\n",
              "226603   3250  71910      1\n",
              "295022   4120  29777      3\n",
              "...       ...    ...    ...\n",
              "443640   6615   8781      1\n",
              "114175   1765  40455     12\n",
              "123141   1776  67031      4\n",
              "10819     108  21407      1\n",
              "4857       57  15101      2\n",
              "\n",
              "[50260 rows x 3 columns]"
            ],
            "text/html": [
              "\n",
              "\n",
              "  <div id=\"df-f414de36-ee74-4389-9822-2e2196877277\">\n",
              "    <div class=\"colab-df-container\">\n",
              "      <div>\n",
              "<style scoped>\n",
              "    .dataframe tbody tr th:only-of-type {\n",
              "        vertical-align: middle;\n",
              "    }\n",
              "\n",
              "    .dataframe tbody tr th {\n",
              "        vertical-align: top;\n",
              "    }\n",
              "\n",
              "    .dataframe thead th {\n",
              "        text-align: right;\n",
              "    }\n",
              "</style>\n",
              "<table border=\"1\" class=\"dataframe\">\n",
              "  <thead>\n",
              "    <tr style=\"text-align: right;\">\n",
              "      <th></th>\n",
              "      <th>user</th>\n",
              "      <th>item</th>\n",
              "      <th>label</th>\n",
              "    </tr>\n",
              "  </thead>\n",
              "  <tbody>\n",
              "    <tr>\n",
              "      <th>286347</th>\n",
              "      <td>3953</td>\n",
              "      <td>50569</td>\n",
              "      <td>12</td>\n",
              "    </tr>\n",
              "    <tr>\n",
              "      <th>533376</th>\n",
              "      <td>10514</td>\n",
              "      <td>35614</td>\n",
              "      <td>2</td>\n",
              "    </tr>\n",
              "    <tr>\n",
              "      <th>27969</th>\n",
              "      <td>333</td>\n",
              "      <td>40106</td>\n",
              "      <td>1</td>\n",
              "    </tr>\n",
              "    <tr>\n",
              "      <th>226603</th>\n",
              "      <td>3250</td>\n",
              "      <td>71910</td>\n",
              "      <td>1</td>\n",
              "    </tr>\n",
              "    <tr>\n",
              "      <th>295022</th>\n",
              "      <td>4120</td>\n",
              "      <td>29777</td>\n",
              "      <td>3</td>\n",
              "    </tr>\n",
              "    <tr>\n",
              "      <th>...</th>\n",
              "      <td>...</td>\n",
              "      <td>...</td>\n",
              "      <td>...</td>\n",
              "    </tr>\n",
              "    <tr>\n",
              "      <th>443640</th>\n",
              "      <td>6615</td>\n",
              "      <td>8781</td>\n",
              "      <td>1</td>\n",
              "    </tr>\n",
              "    <tr>\n",
              "      <th>114175</th>\n",
              "      <td>1765</td>\n",
              "      <td>40455</td>\n",
              "      <td>12</td>\n",
              "    </tr>\n",
              "    <tr>\n",
              "      <th>123141</th>\n",
              "      <td>1776</td>\n",
              "      <td>67031</td>\n",
              "      <td>4</td>\n",
              "    </tr>\n",
              "    <tr>\n",
              "      <th>10819</th>\n",
              "      <td>108</td>\n",
              "      <td>21407</td>\n",
              "      <td>1</td>\n",
              "    </tr>\n",
              "    <tr>\n",
              "      <th>4857</th>\n",
              "      <td>57</td>\n",
              "      <td>15101</td>\n",
              "      <td>2</td>\n",
              "    </tr>\n",
              "  </tbody>\n",
              "</table>\n",
              "<p>50260 rows × 3 columns</p>\n",
              "</div>\n",
              "      <button class=\"colab-df-convert\" onclick=\"convertToInteractive('df-f414de36-ee74-4389-9822-2e2196877277')\"\n",
              "              title=\"Convert this dataframe to an interactive table.\"\n",
              "              style=\"display:none;\">\n",
              "\n",
              "  <svg xmlns=\"http://www.w3.org/2000/svg\" height=\"24px\"viewBox=\"0 0 24 24\"\n",
              "       width=\"24px\">\n",
              "    <path d=\"M0 0h24v24H0V0z\" fill=\"none\"/>\n",
              "    <path d=\"M18.56 5.44l.94 2.06.94-2.06 2.06-.94-2.06-.94-.94-2.06-.94 2.06-2.06.94zm-11 1L8.5 8.5l.94-2.06 2.06-.94-2.06-.94L8.5 2.5l-.94 2.06-2.06.94zm10 10l.94 2.06.94-2.06 2.06-.94-2.06-.94-.94-2.06-.94 2.06-2.06.94z\"/><path d=\"M17.41 7.96l-1.37-1.37c-.4-.4-.92-.59-1.43-.59-.52 0-1.04.2-1.43.59L10.3 9.45l-7.72 7.72c-.78.78-.78 2.05 0 2.83L4 21.41c.39.39.9.59 1.41.59.51 0 1.02-.2 1.41-.59l7.78-7.78 2.81-2.81c.8-.78.8-2.07 0-2.86zM5.41 20L4 18.59l7.72-7.72 1.47 1.35L5.41 20z\"/>\n",
              "  </svg>\n",
              "      </button>\n",
              "\n",
              "\n",
              "\n",
              "    <div id=\"df-67066be2-fab3-4c37-a329-dd21bca7bb2e\">\n",
              "      <button class=\"colab-df-quickchart\" onclick=\"quickchart('df-67066be2-fab3-4c37-a329-dd21bca7bb2e')\"\n",
              "              title=\"Suggest charts.\"\n",
              "              style=\"display:none;\">\n",
              "\n",
              "<svg xmlns=\"http://www.w3.org/2000/svg\" height=\"24px\"viewBox=\"0 0 24 24\"\n",
              "     width=\"24px\">\n",
              "    <g>\n",
              "        <path d=\"M19 3H5c-1.1 0-2 .9-2 2v14c0 1.1.9 2 2 2h14c1.1 0 2-.9 2-2V5c0-1.1-.9-2-2-2zM9 17H7v-7h2v7zm4 0h-2V7h2v10zm4 0h-2v-4h2v4z\"/>\n",
              "    </g>\n",
              "</svg>\n",
              "      </button>\n",
              "    </div>\n",
              "\n",
              "<style>\n",
              "  .colab-df-quickchart {\n",
              "    background-color: #E8F0FE;\n",
              "    border: none;\n",
              "    border-radius: 50%;\n",
              "    cursor: pointer;\n",
              "    display: none;\n",
              "    fill: #1967D2;\n",
              "    height: 32px;\n",
              "    padding: 0 0 0 0;\n",
              "    width: 32px;\n",
              "  }\n",
              "\n",
              "  .colab-df-quickchart:hover {\n",
              "    background-color: #E2EBFA;\n",
              "    box-shadow: 0px 1px 2px rgba(60, 64, 67, 0.3), 0px 1px 3px 1px rgba(60, 64, 67, 0.15);\n",
              "    fill: #174EA6;\n",
              "  }\n",
              "\n",
              "  [theme=dark] .colab-df-quickchart {\n",
              "    background-color: #3B4455;\n",
              "    fill: #D2E3FC;\n",
              "  }\n",
              "\n",
              "  [theme=dark] .colab-df-quickchart:hover {\n",
              "    background-color: #434B5C;\n",
              "    box-shadow: 0px 1px 3px 1px rgba(0, 0, 0, 0.15);\n",
              "    filter: drop-shadow(0px 1px 2px rgba(0, 0, 0, 0.3));\n",
              "    fill: #FFFFFF;\n",
              "  }\n",
              "</style>\n",
              "\n",
              "    <script>\n",
              "      async function quickchart(key) {\n",
              "        const containerElement = document.querySelector('#' + key);\n",
              "        const charts = await google.colab.kernel.invokeFunction(\n",
              "            'suggestCharts', [key], {});\n",
              "      }\n",
              "    </script>\n",
              "\n",
              "      <script>\n",
              "\n",
              "function displayQuickchartButton(domScope) {\n",
              "  let quickchartButtonEl =\n",
              "    domScope.querySelector('#df-67066be2-fab3-4c37-a329-dd21bca7bb2e button.colab-df-quickchart');\n",
              "  quickchartButtonEl.style.display =\n",
              "    google.colab.kernel.accessAllowed ? 'block' : 'none';\n",
              "}\n",
              "\n",
              "        displayQuickchartButton(document);\n",
              "      </script>\n",
              "      <style>\n",
              "    .colab-df-container {\n",
              "      display:flex;\n",
              "      flex-wrap:wrap;\n",
              "      gap: 12px;\n",
              "    }\n",
              "\n",
              "    .colab-df-convert {\n",
              "      background-color: #E8F0FE;\n",
              "      border: none;\n",
              "      border-radius: 50%;\n",
              "      cursor: pointer;\n",
              "      display: none;\n",
              "      fill: #1967D2;\n",
              "      height: 32px;\n",
              "      padding: 0 0 0 0;\n",
              "      width: 32px;\n",
              "    }\n",
              "\n",
              "    .colab-df-convert:hover {\n",
              "      background-color: #E2EBFA;\n",
              "      box-shadow: 0px 1px 2px rgba(60, 64, 67, 0.3), 0px 1px 3px 1px rgba(60, 64, 67, 0.15);\n",
              "      fill: #174EA6;\n",
              "    }\n",
              "\n",
              "    [theme=dark] .colab-df-convert {\n",
              "      background-color: #3B4455;\n",
              "      fill: #D2E3FC;\n",
              "    }\n",
              "\n",
              "    [theme=dark] .colab-df-convert:hover {\n",
              "      background-color: #434B5C;\n",
              "      box-shadow: 0px 1px 3px 1px rgba(0, 0, 0, 0.15);\n",
              "      filter: drop-shadow(0px 1px 2px rgba(0, 0, 0, 0.3));\n",
              "      fill: #FFFFFF;\n",
              "    }\n",
              "  </style>\n",
              "\n",
              "      <script>\n",
              "        const buttonEl =\n",
              "          document.querySelector('#df-f414de36-ee74-4389-9822-2e2196877277 button.colab-df-convert');\n",
              "        buttonEl.style.display =\n",
              "          google.colab.kernel.accessAllowed ? 'block' : 'none';\n",
              "\n",
              "        async function convertToInteractive(key) {\n",
              "          const element = document.querySelector('#df-f414de36-ee74-4389-9822-2e2196877277');\n",
              "          const dataTable =\n",
              "            await google.colab.kernel.invokeFunction('convertToInteractive',\n",
              "                                                     [key], {});\n",
              "          if (!dataTable) return;\n",
              "\n",
              "          const docLinkHtml = 'Like what you see? Visit the ' +\n",
              "            '<a target=\"_blank\" href=https://colab.research.google.com/notebooks/data_table.ipynb>data table notebook</a>'\n",
              "            + ' to learn more about interactive tables.';\n",
              "          element.innerHTML = '';\n",
              "          dataTable['output_type'] = 'display_data';\n",
              "          await google.colab.output.renderOutput(dataTable, element);\n",
              "          const docLink = document.createElement('div');\n",
              "          docLink.innerHTML = docLinkHtml;\n",
              "          element.appendChild(docLink);\n",
              "        }\n",
              "      </script>\n",
              "    </div>\n",
              "  </div>\n"
            ]
          },
          "metadata": {},
          "execution_count": 20
        }
      ]
    },
    {
      "cell_type": "code",
      "source": [
        "train, data_info = DatasetFeat.build_trainset(train)\n",
        "eval = DatasetFeat.build_evalset(eval)\n",
        "test = DatasetFeat.build_testset(test)"
      ],
      "metadata": {
        "id": "fkI-TuL01f6i"
      },
      "execution_count": 21,
      "outputs": []
    },
    {
      "cell_type": "code",
      "source": [
        "data_info"
      ],
      "metadata": {
        "colab": {
          "base_uri": "https://localhost:8080/"
        },
        "id": "VjqrfarX1oQq",
        "outputId": "471ed2e9-4a10-4a32-c271-9f08a2cd05d0"
      },
      "execution_count": 22,
      "outputs": [
        {
          "output_type": "execute_result",
          "data": {
            "text/plain": [
              "n_users: 11226, n_items: 68327, data density: 0.0565 %"
            ]
          },
          "metadata": {},
          "execution_count": 22
        }
      ]
    },
    {
      "cell_type": "markdown",
      "source": [
        "# LibRec"
      ],
      "metadata": {
        "id": "pA5DChqSzPx0"
      }
    },
    {
      "cell_type": "code",
      "source": [
        "from libreco.algorithms import NCF\n",
        "from libreco.evaluation import evaluate\n",
        "from libreco.data import random_split, DatasetPure"
      ],
      "metadata": {
        "id": "nJBqrtwFzRzO"
      },
      "execution_count": 23,
      "outputs": []
    },
    {
      "cell_type": "code",
      "source": [
        "metrics = [\n",
        "        \"loss\",\n",
        "        \"balanced_accuracy\",\n",
        "        \"roc_auc\",\n",
        "        \"precision\",\n",
        "        \"recall\",\n",
        "        \"map\",\n",
        "        \"ndcg\",\n",
        "    ]"
      ],
      "metadata": {
        "id": "iZL_SqnU0AaV"
      },
      "execution_count": 24,
      "outputs": []
    },
    {
      "cell_type": "code",
      "source": [
        "model = NCF(\n",
        "    \"ranking\",\n",
        "    data_info=data_info,\n",
        "    loss_type=\"cross_entropy\",\n",
        "    embed_size=64,\n",
        "    n_epochs=10,\n",
        "    lr=0.01,\n",
        "    batch_size=256,\n",
        "    sampler=\"random\",\n",
        "    num_neg=10,\n",
        "    dropout_rate=0.5,\n",
        "    hidden_units=(128, 64, 32, 16)\n",
        ")"
      ],
      "metadata": {
        "id": "YJGC5bH-zPEp"
      },
      "execution_count": 25,
      "outputs": []
    },
    {
      "cell_type": "code",
      "source": [
        "model.fit(train,\n",
        "          neg_sampling=True,\n",
        "          shuffle=True,\n",
        "          verbose=2,\n",
        "          eval_data=eval,\n",
        "          metrics=metrics)"
      ],
      "metadata": {
        "colab": {
          "base_uri": "https://localhost:8080/"
        },
        "id": "8as5147s3Hp0",
        "outputId": "1333015f-dbc3-47d2-a443-c11696a606e5"
      },
      "execution_count": 26,
      "outputs": [
        {
          "output_type": "stream",
          "name": "stderr",
          "text": [
            "WARNING:tensorflow:From /usr/local/lib/python3.10/dist-packages/keras/src/layers/normalization/batch_normalization.py:883: _colocate_with (from tensorflow.python.framework.ops) is deprecated and will be removed in a future version.\n",
            "Instructions for updating:\n",
            "Colocations handled automatically by placer.\n"
          ]
        },
        {
          "output_type": "stream",
          "name": "stdout",
          "text": [
            "Training start time: \u001b[35m2023-08-10 16:02:21\u001b[0m\n"
          ]
        },
        {
          "output_type": "stream",
          "name": "stderr",
          "text": [
            "train: 100%|██████████| 18847/18847 [01:54<00:00, 165.09it/s]\n"
          ]
        },
        {
          "output_type": "stream",
          "name": "stdout",
          "text": [
            "Epoch 1 elapsed: 114.167s\n",
            "\t \u001b[32mtrain_loss: 0.2056\u001b[0m\n",
            "random neg item sampling elapsed: 0.263s\n"
          ]
        },
        {
          "output_type": "stream",
          "name": "stderr",
          "text": [
            "eval_pointwise: 100%|██████████| 68/68 [00:00<00:00, 304.53it/s]\n",
            "eval_listwise: 100%|██████████| 6378/6378 [00:33<00:00, 189.12it/s]\n"
          ]
        },
        {
          "output_type": "stream",
          "name": "stdout",
          "text": [
            "\t eval log_loss: 0.1566\n",
            "\t eval balanced_accuracy: 0.7455\n",
            "\t eval roc_auc: 0.9297\n",
            "\t eval precision@10: 0.0366\n",
            "\t eval recall@10: 0.0416\n",
            "\t eval map@10: 0.0740\n",
            "\t eval ndcg@10: 0.0990\n",
            "==============================\n"
          ]
        },
        {
          "output_type": "stream",
          "name": "stderr",
          "text": [
            "train: 100%|██████████| 18847/18847 [01:43<00:00, 182.48it/s]\n"
          ]
        },
        {
          "output_type": "stream",
          "name": "stdout",
          "text": [
            "Epoch 2 elapsed: 103.289s\n",
            "\t \u001b[32mtrain_loss: 0.1603\u001b[0m\n"
          ]
        },
        {
          "output_type": "stream",
          "name": "stderr",
          "text": [
            "eval_pointwise: 100%|██████████| 68/68 [00:00<00:00, 373.72it/s]\n",
            "eval_listwise: 100%|██████████| 6378/6378 [00:33<00:00, 187.93it/s]\n"
          ]
        },
        {
          "output_type": "stream",
          "name": "stdout",
          "text": [
            "\t eval log_loss: 0.1473\n",
            "\t eval balanced_accuracy: 0.7572\n",
            "\t eval roc_auc: 0.9408\n",
            "\t eval precision@10: 0.0426\n",
            "\t eval recall@10: 0.0586\n",
            "\t eval map@10: 0.0888\n",
            "\t eval ndcg@10: 0.1183\n",
            "==============================\n"
          ]
        },
        {
          "output_type": "stream",
          "name": "stderr",
          "text": [
            "train: 100%|██████████| 18847/18847 [01:42<00:00, 184.04it/s]\n"
          ]
        },
        {
          "output_type": "stream",
          "name": "stdout",
          "text": [
            "Epoch 3 elapsed: 102.413s\n",
            "\t \u001b[32mtrain_loss: 0.1321\u001b[0m\n"
          ]
        },
        {
          "output_type": "stream",
          "name": "stderr",
          "text": [
            "eval_pointwise: 100%|██████████| 68/68 [00:00<00:00, 359.59it/s]\n",
            "eval_listwise: 100%|██████████| 6378/6378 [00:34<00:00, 187.38it/s]\n"
          ]
        },
        {
          "output_type": "stream",
          "name": "stdout",
          "text": [
            "\t eval log_loss: 0.1488\n",
            "\t eval balanced_accuracy: 0.7614\n",
            "\t eval roc_auc: 0.9374\n",
            "\t eval precision@10: 0.0407\n",
            "\t eval recall@10: 0.0677\n",
            "\t eval map@10: 0.0860\n",
            "\t eval ndcg@10: 0.1172\n",
            "==============================\n"
          ]
        },
        {
          "output_type": "stream",
          "name": "stderr",
          "text": [
            "train: 100%|██████████| 18847/18847 [01:41<00:00, 185.48it/s]\n"
          ]
        },
        {
          "output_type": "stream",
          "name": "stdout",
          "text": [
            "Epoch 4 elapsed: 101.617s\n",
            "\t \u001b[32mtrain_loss: 0.1092\u001b[0m\n"
          ]
        },
        {
          "output_type": "stream",
          "name": "stderr",
          "text": [
            "eval_pointwise: 100%|██████████| 68/68 [00:00<00:00, 445.87it/s]\n",
            "eval_listwise: 100%|██████████| 6378/6378 [00:33<00:00, 190.26it/s]\n"
          ]
        },
        {
          "output_type": "stream",
          "name": "stdout",
          "text": [
            "\t eval log_loss: 0.1586\n",
            "\t eval balanced_accuracy: 0.7589\n",
            "\t eval roc_auc: 0.9289\n",
            "\t eval precision@10: 0.0419\n",
            "\t eval recall@10: 0.0682\n",
            "\t eval map@10: 0.0894\n",
            "\t eval ndcg@10: 0.1204\n",
            "==============================\n"
          ]
        },
        {
          "output_type": "stream",
          "name": "stderr",
          "text": [
            "train: 100%|██████████| 18847/18847 [01:41<00:00, 186.39it/s]\n"
          ]
        },
        {
          "output_type": "stream",
          "name": "stdout",
          "text": [
            "Epoch 5 elapsed: 101.122s\n",
            "\t \u001b[32mtrain_loss: 0.0919\u001b[0m\n"
          ]
        },
        {
          "output_type": "stream",
          "name": "stderr",
          "text": [
            "eval_pointwise: 100%|██████████| 68/68 [00:00<00:00, 417.57it/s]\n",
            "eval_listwise: 100%|██████████| 6378/6378 [00:33<00:00, 189.52it/s]\n"
          ]
        },
        {
          "output_type": "stream",
          "name": "stdout",
          "text": [
            "\t eval log_loss: 0.1741\n",
            "\t eval balanced_accuracy: 0.7523\n",
            "\t eval roc_auc: 0.9257\n",
            "\t eval precision@10: 0.0419\n",
            "\t eval recall@10: 0.0730\n",
            "\t eval map@10: 0.0887\n",
            "\t eval ndcg@10: 0.1211\n",
            "==============================\n"
          ]
        },
        {
          "output_type": "stream",
          "name": "stderr",
          "text": [
            "train: 100%|██████████| 18847/18847 [01:41<00:00, 185.80it/s]\n"
          ]
        },
        {
          "output_type": "stream",
          "name": "stdout",
          "text": [
            "Epoch 6 elapsed: 101.442s\n",
            "\t \u001b[32mtrain_loss: 0.0807\u001b[0m\n"
          ]
        },
        {
          "output_type": "stream",
          "name": "stderr",
          "text": [
            "eval_pointwise: 100%|██████████| 68/68 [00:00<00:00, 397.78it/s]\n",
            "eval_listwise: 100%|██████████| 6378/6378 [00:33<00:00, 187.78it/s]\n"
          ]
        },
        {
          "output_type": "stream",
          "name": "stdout",
          "text": [
            "\t eval log_loss: 0.1836\n",
            "\t eval balanced_accuracy: 0.7446\n",
            "\t eval roc_auc: 0.9231\n",
            "\t eval precision@10: 0.0439\n",
            "\t eval recall@10: 0.0769\n",
            "\t eval map@10: 0.0926\n",
            "\t eval ndcg@10: 0.1249\n",
            "==============================\n"
          ]
        },
        {
          "output_type": "stream",
          "name": "stderr",
          "text": [
            "train: 100%|██████████| 18847/18847 [01:41<00:00, 185.77it/s]\n"
          ]
        },
        {
          "output_type": "stream",
          "name": "stdout",
          "text": [
            "Epoch 7 elapsed: 101.459s\n",
            "\t \u001b[32mtrain_loss: 0.0733\u001b[0m\n"
          ]
        },
        {
          "output_type": "stream",
          "name": "stderr",
          "text": [
            "eval_pointwise: 100%|██████████| 68/68 [00:00<00:00, 387.47it/s]\n",
            "eval_listwise: 100%|██████████| 6378/6378 [00:34<00:00, 185.67it/s]\n"
          ]
        },
        {
          "output_type": "stream",
          "name": "stdout",
          "text": [
            "\t eval log_loss: 0.2090\n",
            "\t eval balanced_accuracy: 0.7269\n",
            "\t eval roc_auc: 0.9141\n",
            "\t eval precision@10: 0.0418\n",
            "\t eval recall@10: 0.0788\n",
            "\t eval map@10: 0.0917\n",
            "\t eval ndcg@10: 0.1238\n",
            "==============================\n"
          ]
        },
        {
          "output_type": "stream",
          "name": "stderr",
          "text": [
            "train: 100%|██████████| 18847/18847 [01:43<00:00, 182.85it/s]\n"
          ]
        },
        {
          "output_type": "stream",
          "name": "stdout",
          "text": [
            "Epoch 8 elapsed: 103.084s\n",
            "\t \u001b[32mtrain_loss: 0.0689\u001b[0m\n"
          ]
        },
        {
          "output_type": "stream",
          "name": "stderr",
          "text": [
            "eval_pointwise: 100%|██████████| 68/68 [00:00<00:00, 456.57it/s]\n",
            "eval_listwise: 100%|██████████| 6378/6378 [00:34<00:00, 184.20it/s]\n"
          ]
        },
        {
          "output_type": "stream",
          "name": "stdout",
          "text": [
            "\t eval log_loss: 0.2066\n",
            "\t eval balanced_accuracy: 0.7333\n",
            "\t eval roc_auc: 0.9122\n",
            "\t eval precision@10: 0.0443\n",
            "\t eval recall@10: 0.0816\n",
            "\t eval map@10: 0.0948\n",
            "\t eval ndcg@10: 0.1285\n",
            "==============================\n"
          ]
        },
        {
          "output_type": "stream",
          "name": "stderr",
          "text": [
            "train: 100%|██████████| 18847/18847 [01:43<00:00, 182.28it/s]\n"
          ]
        },
        {
          "output_type": "stream",
          "name": "stdout",
          "text": [
            "Epoch 9 elapsed: 103.403s\n",
            "\t \u001b[32mtrain_loss: 0.0652\u001b[0m\n"
          ]
        },
        {
          "output_type": "stream",
          "name": "stderr",
          "text": [
            "eval_pointwise: 100%|██████████| 68/68 [00:00<00:00, 433.09it/s]\n",
            "eval_listwise: 100%|██████████| 6378/6378 [00:34<00:00, 185.56it/s]\n"
          ]
        },
        {
          "output_type": "stream",
          "name": "stdout",
          "text": [
            "\t eval log_loss: 0.2224\n",
            "\t eval balanced_accuracy: 0.7223\n",
            "\t eval roc_auc: 0.9036\n",
            "\t eval precision@10: 0.0423\n",
            "\t eval recall@10: 0.0828\n",
            "\t eval map@10: 0.0955\n",
            "\t eval ndcg@10: 0.1288\n",
            "==============================\n"
          ]
        },
        {
          "output_type": "stream",
          "name": "stderr",
          "text": [
            "train: 100%|██████████| 18847/18847 [01:43<00:00, 182.90it/s]\n"
          ]
        },
        {
          "output_type": "stream",
          "name": "stdout",
          "text": [
            "Epoch 10 elapsed: 103.053s\n",
            "\t \u001b[32mtrain_loss: 0.0627\u001b[0m\n"
          ]
        },
        {
          "output_type": "stream",
          "name": "stderr",
          "text": [
            "eval_pointwise: 100%|██████████| 68/68 [00:00<00:00, 405.86it/s]\n",
            "eval_listwise: 100%|██████████| 6378/6378 [00:33<00:00, 187.67it/s]\n"
          ]
        },
        {
          "output_type": "stream",
          "name": "stdout",
          "text": [
            "\t eval log_loss: 0.2262\n",
            "\t eval balanced_accuracy: 0.7270\n",
            "\t eval roc_auc: 0.9033\n",
            "\t eval precision@10: 0.0419\n",
            "\t eval recall@10: 0.0834\n",
            "\t eval map@10: 0.0916\n",
            "\t eval ndcg@10: 0.1256\n",
            "==============================\n"
          ]
        }
      ]
    },
    {
      "cell_type": "code",
      "source": [
        "eval_result = evaluate(model=model,\n",
        "        data=test,\n",
        "        neg_sampling=True,\n",
        "        eval_batch_size=2048,\n",
        "        k=10,\n",
        "        metrics=metrics)"
      ],
      "metadata": {
        "colab": {
          "base_uri": "https://localhost:8080/"
        },
        "id": "RUJj5mgf3xL5",
        "outputId": "cbf71a3e-8a7b-4650-feda-9464f5278de2"
      },
      "execution_count": 27,
      "outputs": [
        {
          "output_type": "stream",
          "name": "stdout",
          "text": [
            "random neg item sampling elapsed: 0.274s\n"
          ]
        },
        {
          "output_type": "stream",
          "name": "stderr",
          "text": [
            "eval_pointwise: 100%|██████████| 270/270 [00:00<00:00, 530.33it/s]\n",
            "eval_listwise: 100%|██████████| 6365/6365 [00:36<00:00, 174.69it/s]\n"
          ]
        }
      ]
    },
    {
      "cell_type": "code",
      "source": [
        "eval_result_2 = evaluate(model=model,\n",
        "        data=eval,\n",
        "        neg_sampling=True,\n",
        "        eval_batch_size=2048,\n",
        "        k=10,\n",
        "        metrics=metrics)"
      ],
      "metadata": {
        "colab": {
          "base_uri": "https://localhost:8080/"
        },
        "id": "7W0w0Vb2L4Gu",
        "outputId": "b1a6bc21-bc9f-4a6a-83f1-ea01c8a86861"
      },
      "execution_count": 31,
      "outputs": [
        {
          "output_type": "stream",
          "name": "stderr",
          "text": [
            "eval_pointwise: 100%|██████████| 270/270 [00:00<00:00, 649.09it/s]\n",
            "eval_listwise: 100%|██████████| 6378/6378 [00:34<00:00, 187.37it/s]\n"
          ]
        }
      ]
    },
    {
      "cell_type": "code",
      "source": [
        "eval_result"
      ],
      "metadata": {
        "colab": {
          "base_uri": "https://localhost:8080/"
        },
        "id": "EriiasrK42LK",
        "outputId": "d248b468-0d74-478b-8fc3-3de602be2a1f"
      },
      "execution_count": 29,
      "outputs": [
        {
          "output_type": "execute_result",
          "data": {
            "text/plain": [
              "{'loss': 0.22616448168659567,\n",
              " 'balanced_accuracy': 0.7269985262487055,\n",
              " 'roc_auc': 0.9032840754404702,\n",
              " 'precision': 0.04186265286923801,\n",
              " 'recall': 0.08337867745768121,\n",
              " 'map': 0.09164034518334102,\n",
              " 'ndcg': 0.12555834430053095}"
            ]
          },
          "metadata": {},
          "execution_count": 29
        }
      ]
    },
    {
      "cell_type": "code",
      "source": [
        "eval_result_2"
      ],
      "metadata": {
        "colab": {
          "base_uri": "https://localhost:8080/"
        },
        "id": "ulq31yQkRZF6",
        "outputId": "3b7bd2e0-57ff-49be-8560-c15ca0132456"
      },
      "execution_count": 32,
      "outputs": [
        {
          "output_type": "execute_result",
          "data": {
            "text/plain": [
              "{'loss': 0.22616448168659567,\n",
              " 'balanced_accuracy': 0.7269985262487055,\n",
              " 'roc_auc': 0.9032840754404702,\n",
              " 'precision': 0.04186265286923801,\n",
              " 'recall': 0.08337867745768121,\n",
              " 'map': 0.09164034518334102,\n",
              " 'ndcg': 0.12555834430053095}"
            ]
          },
          "metadata": {},
          "execution_count": 32
        }
      ]
    },
    {
      "cell_type": "markdown",
      "source": [
        "## Recommendations"
      ],
      "metadata": {
        "id": "hdcILRUnSLYL"
      }
    },
    {
      "cell_type": "code",
      "source": [
        "sku_list = df[[\"sku_id\", \"Sku\", \"Product Descr1\", \"ProductGroupDescription\", \"ProductGroupMasterDescription\"]].drop_duplicates()"
      ],
      "metadata": {
        "id": "-2gRapNle0PW"
      },
      "execution_count": 103,
      "outputs": []
    },
    {
      "cell_type": "code",
      "source": [
        "from libreco.recommendation import rank_recommendations\n",
        "from google.colab import files"
      ],
      "metadata": {
        "id": "n3XzONUMS2s3"
      },
      "execution_count": 105,
      "outputs": []
    },
    {
      "cell_type": "code",
      "source": [
        "user_id = 3472\n",
        "num_recommendations = 10\n",
        "recs = model.recommend_user(user=user_id, n_rec=num_recommendations)\n",
        "recs\n",
        "# # # Extract item IDs from recommendations\n",
        "# model_recs = []\n",
        "# for i in recs[1]:\n",
        "#   model_recs.append(i)\n",
        "# model_recs\n",
        "# # # # Calculate predicted scores using the model\n",
        "# model_preds = model.predict(user_id, model_recs)\n",
        "# model_preds\n",
        "# # # # Rank the recommendations\n",
        "# ranks = rank_recommendations(recs, n_rec=10, n_items=len(recs[1]), user_ids=[user_id], model_preds=recs[1], user_consumed)"
      ],
      "metadata": {
        "colab": {
          "base_uri": "https://localhost:8080/"
        },
        "id": "KOBEBtHRSNXd",
        "outputId": "5bfe7100-e200-474c-93e8-8b39d8c7824a"
      },
      "execution_count": 93,
      "outputs": [
        {
          "output_type": "execute_result",
          "data": {
            "text/plain": [
              "{3472: array([35160, 75202, 75197, 44147, 44154, 68123, 21853, 34933, 45356,\n",
              "        40939])}"
            ]
          },
          "metadata": {},
          "execution_count": 93
        }
      ]
    },
    {
      "cell_type": "code",
      "source": [
        "#recs[user_id]\n",
        "rec_tab = pd.DataFrame(data=[recs[user_id]])\n",
        "rec_tab = rec_tab.T.rename(columns={0:\"sku_id\"})\n",
        "rec_tab = rec_tab.merge(sku_list, on=\"sku_id\", how=\"left\")\n",
        "rec_tab.to_csv(f'{user_id}_NCF_FREQ_REC.csv')\n",
        "files.download(f'{user_id}_NCF_FREQ_REC.csv')\n",
        "rec_tab"
      ],
      "metadata": {
        "colab": {
          "base_uri": "https://localhost:8080/",
          "height": 363
        },
        "id": "xz9VOXjAeNPe",
        "outputId": "c08dfbf8-223d-41b6-a505-906c286b21ff"
      },
      "execution_count": 106,
      "outputs": [
        {
          "output_type": "display_data",
          "data": {
            "text/plain": [
              "<IPython.core.display.Javascript object>"
            ],
            "application/javascript": [
              "\n",
              "    async function download(id, filename, size) {\n",
              "      if (!google.colab.kernel.accessAllowed) {\n",
              "        return;\n",
              "      }\n",
              "      const div = document.createElement('div');\n",
              "      const label = document.createElement('label');\n",
              "      label.textContent = `Downloading \"${filename}\": `;\n",
              "      div.appendChild(label);\n",
              "      const progress = document.createElement('progress');\n",
              "      progress.max = size;\n",
              "      div.appendChild(progress);\n",
              "      document.body.appendChild(div);\n",
              "\n",
              "      const buffers = [];\n",
              "      let downloaded = 0;\n",
              "\n",
              "      const channel = await google.colab.kernel.comms.open(id);\n",
              "      // Send a message to notify the kernel that we're ready.\n",
              "      channel.send({})\n",
              "\n",
              "      for await (const message of channel.messages) {\n",
              "        // Send a message to notify the kernel that we're ready.\n",
              "        channel.send({})\n",
              "        if (message.buffers) {\n",
              "          for (const buffer of message.buffers) {\n",
              "            buffers.push(buffer);\n",
              "            downloaded += buffer.byteLength;\n",
              "            progress.value = downloaded;\n",
              "          }\n",
              "        }\n",
              "      }\n",
              "      const blob = new Blob(buffers, {type: 'application/binary'});\n",
              "      const a = document.createElement('a');\n",
              "      a.href = window.URL.createObjectURL(blob);\n",
              "      a.download = filename;\n",
              "      div.appendChild(a);\n",
              "      a.click();\n",
              "      div.remove();\n",
              "    }\n",
              "  "
            ]
          },
          "metadata": {}
        },
        {
          "output_type": "display_data",
          "data": {
            "text/plain": [
              "<IPython.core.display.Javascript object>"
            ],
            "application/javascript": [
              "download(\"download_ccd5dcaa-711d-4073-9ca1-72af9a22500f\", \"3472_NCF_FREQ_REC.csv\", 917)"
            ]
          },
          "metadata": {}
        },
        {
          "output_type": "execute_result",
          "data": {
            "text/plain": [
              "   sku_id      Sku                  Product Descr1  \\\n",
              "0   35160  CC91182   OFFICE HOME AND BUSINESS 2021   \n",
              "1   75202  Z691861       BACKUP ESSENT ENT 2S BNDL   \n",
              "2   75197  Z691844       BACKUP ESSENT STD 2S BNDL   \n",
              "3   44147  CE63778         TP E15 G4 I5-1235U 16GB   \n",
              "4   44154  CE63783         TP E15 G4 I7-1255U 16GB   \n",
              "5   68123  S608RP6    LENOVO 65W STAND. AC ADAPTER   \n",
              "6   21853  803C8Z8                WIN SRV STD CORE   \n",
              "7   34933  CC88035   OFFICE HOME AND BUSINESS 2021   \n",
              "8   45356  CE79455        TP THUNDERBOLT 4 DOCK G2   \n",
              "9   40939  CE19919  TC M70Q TINY G2 I5-11400T 16GB   \n",
              "\n",
              "                 ProductGroupDescription ProductGroupMasterDescription  \n",
              "0      Desktop Operating System Software                     Softwares  \n",
              "1                       Back-Up Software                     Softwares  \n",
              "2                       Back-Up Software                     Softwares  \n",
              "3            Portable/Notebook Computers              Computer Systems  \n",
              "4            Portable/Notebook Computers              Computer Systems  \n",
              "5          Notebook Battery & Ac Adapter              Computer Systems  \n",
              "6       Server Operating System Software                     Softwares  \n",
              "7  Suites & Integrated Software Packages                     Softwares  \n",
              "8       Port Replicator, Docking Station                   Accessories  \n",
              "9                Desktop/Tower Computers              Computer Systems  "
            ],
            "text/html": [
              "\n",
              "\n",
              "  <div id=\"df-7a2ed5a4-f909-477b-ab8a-49498c386ee2\">\n",
              "    <div class=\"colab-df-container\">\n",
              "      <div>\n",
              "<style scoped>\n",
              "    .dataframe tbody tr th:only-of-type {\n",
              "        vertical-align: middle;\n",
              "    }\n",
              "\n",
              "    .dataframe tbody tr th {\n",
              "        vertical-align: top;\n",
              "    }\n",
              "\n",
              "    .dataframe thead th {\n",
              "        text-align: right;\n",
              "    }\n",
              "</style>\n",
              "<table border=\"1\" class=\"dataframe\">\n",
              "  <thead>\n",
              "    <tr style=\"text-align: right;\">\n",
              "      <th></th>\n",
              "      <th>sku_id</th>\n",
              "      <th>Sku</th>\n",
              "      <th>Product Descr1</th>\n",
              "      <th>ProductGroupDescription</th>\n",
              "      <th>ProductGroupMasterDescription</th>\n",
              "    </tr>\n",
              "  </thead>\n",
              "  <tbody>\n",
              "    <tr>\n",
              "      <th>0</th>\n",
              "      <td>35160</td>\n",
              "      <td>CC91182</td>\n",
              "      <td>OFFICE HOME AND BUSINESS 2021</td>\n",
              "      <td>Desktop Operating System Software</td>\n",
              "      <td>Softwares</td>\n",
              "    </tr>\n",
              "    <tr>\n",
              "      <th>1</th>\n",
              "      <td>75202</td>\n",
              "      <td>Z691861</td>\n",
              "      <td>BACKUP ESSENT ENT 2S BNDL</td>\n",
              "      <td>Back-Up Software</td>\n",
              "      <td>Softwares</td>\n",
              "    </tr>\n",
              "    <tr>\n",
              "      <th>2</th>\n",
              "      <td>75197</td>\n",
              "      <td>Z691844</td>\n",
              "      <td>BACKUP ESSENT STD 2S BNDL</td>\n",
              "      <td>Back-Up Software</td>\n",
              "      <td>Softwares</td>\n",
              "    </tr>\n",
              "    <tr>\n",
              "      <th>3</th>\n",
              "      <td>44147</td>\n",
              "      <td>CE63778</td>\n",
              "      <td>TP E15 G4 I5-1235U 16GB</td>\n",
              "      <td>Portable/Notebook Computers</td>\n",
              "      <td>Computer Systems</td>\n",
              "    </tr>\n",
              "    <tr>\n",
              "      <th>4</th>\n",
              "      <td>44154</td>\n",
              "      <td>CE63783</td>\n",
              "      <td>TP E15 G4 I7-1255U 16GB</td>\n",
              "      <td>Portable/Notebook Computers</td>\n",
              "      <td>Computer Systems</td>\n",
              "    </tr>\n",
              "    <tr>\n",
              "      <th>5</th>\n",
              "      <td>68123</td>\n",
              "      <td>S608RP6</td>\n",
              "      <td>LENOVO 65W STAND. AC ADAPTER</td>\n",
              "      <td>Notebook Battery &amp; Ac Adapter</td>\n",
              "      <td>Computer Systems</td>\n",
              "    </tr>\n",
              "    <tr>\n",
              "      <th>6</th>\n",
              "      <td>21853</td>\n",
              "      <td>803C8Z8</td>\n",
              "      <td>WIN SRV STD CORE</td>\n",
              "      <td>Server Operating System Software</td>\n",
              "      <td>Softwares</td>\n",
              "    </tr>\n",
              "    <tr>\n",
              "      <th>7</th>\n",
              "      <td>34933</td>\n",
              "      <td>CC88035</td>\n",
              "      <td>OFFICE HOME AND BUSINESS 2021</td>\n",
              "      <td>Suites &amp; Integrated Software Packages</td>\n",
              "      <td>Softwares</td>\n",
              "    </tr>\n",
              "    <tr>\n",
              "      <th>8</th>\n",
              "      <td>45356</td>\n",
              "      <td>CE79455</td>\n",
              "      <td>TP THUNDERBOLT 4 DOCK G2</td>\n",
              "      <td>Port Replicator, Docking Station</td>\n",
              "      <td>Accessories</td>\n",
              "    </tr>\n",
              "    <tr>\n",
              "      <th>9</th>\n",
              "      <td>40939</td>\n",
              "      <td>CE19919</td>\n",
              "      <td>TC M70Q TINY G2 I5-11400T 16GB</td>\n",
              "      <td>Desktop/Tower Computers</td>\n",
              "      <td>Computer Systems</td>\n",
              "    </tr>\n",
              "  </tbody>\n",
              "</table>\n",
              "</div>\n",
              "      <button class=\"colab-df-convert\" onclick=\"convertToInteractive('df-7a2ed5a4-f909-477b-ab8a-49498c386ee2')\"\n",
              "              title=\"Convert this dataframe to an interactive table.\"\n",
              "              style=\"display:none;\">\n",
              "\n",
              "  <svg xmlns=\"http://www.w3.org/2000/svg\" height=\"24px\"viewBox=\"0 0 24 24\"\n",
              "       width=\"24px\">\n",
              "    <path d=\"M0 0h24v24H0V0z\" fill=\"none\"/>\n",
              "    <path d=\"M18.56 5.44l.94 2.06.94-2.06 2.06-.94-2.06-.94-.94-2.06-.94 2.06-2.06.94zm-11 1L8.5 8.5l.94-2.06 2.06-.94-2.06-.94L8.5 2.5l-.94 2.06-2.06.94zm10 10l.94 2.06.94-2.06 2.06-.94-2.06-.94-.94-2.06-.94 2.06-2.06.94z\"/><path d=\"M17.41 7.96l-1.37-1.37c-.4-.4-.92-.59-1.43-.59-.52 0-1.04.2-1.43.59L10.3 9.45l-7.72 7.72c-.78.78-.78 2.05 0 2.83L4 21.41c.39.39.9.59 1.41.59.51 0 1.02-.2 1.41-.59l7.78-7.78 2.81-2.81c.8-.78.8-2.07 0-2.86zM5.41 20L4 18.59l7.72-7.72 1.47 1.35L5.41 20z\"/>\n",
              "  </svg>\n",
              "      </button>\n",
              "\n",
              "\n",
              "\n",
              "    <div id=\"df-8fb2de85-7b76-4542-840a-e4402e6e2b2a\">\n",
              "      <button class=\"colab-df-quickchart\" onclick=\"quickchart('df-8fb2de85-7b76-4542-840a-e4402e6e2b2a')\"\n",
              "              title=\"Suggest charts.\"\n",
              "              style=\"display:none;\">\n",
              "\n",
              "<svg xmlns=\"http://www.w3.org/2000/svg\" height=\"24px\"viewBox=\"0 0 24 24\"\n",
              "     width=\"24px\">\n",
              "    <g>\n",
              "        <path d=\"M19 3H5c-1.1 0-2 .9-2 2v14c0 1.1.9 2 2 2h14c1.1 0 2-.9 2-2V5c0-1.1-.9-2-2-2zM9 17H7v-7h2v7zm4 0h-2V7h2v10zm4 0h-2v-4h2v4z\"/>\n",
              "    </g>\n",
              "</svg>\n",
              "      </button>\n",
              "    </div>\n",
              "\n",
              "<style>\n",
              "  .colab-df-quickchart {\n",
              "    background-color: #E8F0FE;\n",
              "    border: none;\n",
              "    border-radius: 50%;\n",
              "    cursor: pointer;\n",
              "    display: none;\n",
              "    fill: #1967D2;\n",
              "    height: 32px;\n",
              "    padding: 0 0 0 0;\n",
              "    width: 32px;\n",
              "  }\n",
              "\n",
              "  .colab-df-quickchart:hover {\n",
              "    background-color: #E2EBFA;\n",
              "    box-shadow: 0px 1px 2px rgba(60, 64, 67, 0.3), 0px 1px 3px 1px rgba(60, 64, 67, 0.15);\n",
              "    fill: #174EA6;\n",
              "  }\n",
              "\n",
              "  [theme=dark] .colab-df-quickchart {\n",
              "    background-color: #3B4455;\n",
              "    fill: #D2E3FC;\n",
              "  }\n",
              "\n",
              "  [theme=dark] .colab-df-quickchart:hover {\n",
              "    background-color: #434B5C;\n",
              "    box-shadow: 0px 1px 3px 1px rgba(0, 0, 0, 0.15);\n",
              "    filter: drop-shadow(0px 1px 2px rgba(0, 0, 0, 0.3));\n",
              "    fill: #FFFFFF;\n",
              "  }\n",
              "</style>\n",
              "\n",
              "    <script>\n",
              "      async function quickchart(key) {\n",
              "        const containerElement = document.querySelector('#' + key);\n",
              "        const charts = await google.colab.kernel.invokeFunction(\n",
              "            'suggestCharts', [key], {});\n",
              "      }\n",
              "    </script>\n",
              "\n",
              "      <script>\n",
              "\n",
              "function displayQuickchartButton(domScope) {\n",
              "  let quickchartButtonEl =\n",
              "    domScope.querySelector('#df-8fb2de85-7b76-4542-840a-e4402e6e2b2a button.colab-df-quickchart');\n",
              "  quickchartButtonEl.style.display =\n",
              "    google.colab.kernel.accessAllowed ? 'block' : 'none';\n",
              "}\n",
              "\n",
              "        displayQuickchartButton(document);\n",
              "      </script>\n",
              "      <style>\n",
              "    .colab-df-container {\n",
              "      display:flex;\n",
              "      flex-wrap:wrap;\n",
              "      gap: 12px;\n",
              "    }\n",
              "\n",
              "    .colab-df-convert {\n",
              "      background-color: #E8F0FE;\n",
              "      border: none;\n",
              "      border-radius: 50%;\n",
              "      cursor: pointer;\n",
              "      display: none;\n",
              "      fill: #1967D2;\n",
              "      height: 32px;\n",
              "      padding: 0 0 0 0;\n",
              "      width: 32px;\n",
              "    }\n",
              "\n",
              "    .colab-df-convert:hover {\n",
              "      background-color: #E2EBFA;\n",
              "      box-shadow: 0px 1px 2px rgba(60, 64, 67, 0.3), 0px 1px 3px 1px rgba(60, 64, 67, 0.15);\n",
              "      fill: #174EA6;\n",
              "    }\n",
              "\n",
              "    [theme=dark] .colab-df-convert {\n",
              "      background-color: #3B4455;\n",
              "      fill: #D2E3FC;\n",
              "    }\n",
              "\n",
              "    [theme=dark] .colab-df-convert:hover {\n",
              "      background-color: #434B5C;\n",
              "      box-shadow: 0px 1px 3px 1px rgba(0, 0, 0, 0.15);\n",
              "      filter: drop-shadow(0px 1px 2px rgba(0, 0, 0, 0.3));\n",
              "      fill: #FFFFFF;\n",
              "    }\n",
              "  </style>\n",
              "\n",
              "      <script>\n",
              "        const buttonEl =\n",
              "          document.querySelector('#df-7a2ed5a4-f909-477b-ab8a-49498c386ee2 button.colab-df-convert');\n",
              "        buttonEl.style.display =\n",
              "          google.colab.kernel.accessAllowed ? 'block' : 'none';\n",
              "\n",
              "        async function convertToInteractive(key) {\n",
              "          const element = document.querySelector('#df-7a2ed5a4-f909-477b-ab8a-49498c386ee2');\n",
              "          const dataTable =\n",
              "            await google.colab.kernel.invokeFunction('convertToInteractive',\n",
              "                                                     [key], {});\n",
              "          if (!dataTable) return;\n",
              "\n",
              "          const docLinkHtml = 'Like what you see? Visit the ' +\n",
              "            '<a target=\"_blank\" href=https://colab.research.google.com/notebooks/data_table.ipynb>data table notebook</a>'\n",
              "            + ' to learn more about interactive tables.';\n",
              "          element.innerHTML = '';\n",
              "          dataTable['output_type'] = 'display_data';\n",
              "          await google.colab.output.renderOutput(dataTable, element);\n",
              "          const docLink = document.createElement('div');\n",
              "          docLink.innerHTML = docLinkHtml;\n",
              "          element.appendChild(docLink);\n",
              "        }\n",
              "      </script>\n",
              "    </div>\n",
              "  </div>\n"
            ]
          },
          "metadata": {},
          "execution_count": 106
        }
      ]
    },
    {
      "cell_type": "code",
      "source": [
        "user_id_2 = 1532\n",
        "num_recommendations = 10\n",
        "recs_2 = model.recommend_user(user=user_id_2, n_rec=num_recommendations)\n",
        "recs_2"
      ],
      "metadata": {
        "colab": {
          "base_uri": "https://localhost:8080/"
        },
        "id": "hgb0PT66eB7f",
        "outputId": "14e1ecbb-2be3-4b40-df6b-a8fa72adcfe7"
      },
      "execution_count": 109,
      "outputs": [
        {
          "output_type": "execute_result",
          "data": {
            "text/plain": [
              "{1532: array([38317, 50533, 52803, 22310, 27878, 66761, 29763,  4386, 26136,\n",
              "        30882])}"
            ]
          },
          "metadata": {},
          "execution_count": 109
        }
      ]
    },
    {
      "cell_type": "code",
      "source": [
        "#recs[user_id]\n",
        "rec_tab_2 = pd.DataFrame(data=[recs_2[user_id_2]])\n",
        "rec_tab_2 = rec_tab_2.T.rename(columns={0:\"sku_id\"})\n",
        "rec_tab_2 = rec_tab_2.merge(sku_list, on=\"sku_id\", how=\"left\")\n",
        "rec_tab_2.to_csv(f'{user_id_2}_NCF_FREQ_REC.csv')\n",
        "files.download(f'{user_id_2}_NCF_FREQ_REC.csv')\n",
        "rec_tab_2"
      ],
      "metadata": {
        "colab": {
          "base_uri": "https://localhost:8080/",
          "height": 363
        },
        "id": "Zc2rfxzJfheV",
        "outputId": "20d39a75-d385-4edb-c693-fd37c6b06bdf"
      },
      "execution_count": 111,
      "outputs": [
        {
          "output_type": "display_data",
          "data": {
            "text/plain": [
              "<IPython.core.display.Javascript object>"
            ],
            "application/javascript": [
              "\n",
              "    async function download(id, filename, size) {\n",
              "      if (!google.colab.kernel.accessAllowed) {\n",
              "        return;\n",
              "      }\n",
              "      const div = document.createElement('div');\n",
              "      const label = document.createElement('label');\n",
              "      label.textContent = `Downloading \"${filename}\": `;\n",
              "      div.appendChild(label);\n",
              "      const progress = document.createElement('progress');\n",
              "      progress.max = size;\n",
              "      div.appendChild(progress);\n",
              "      document.body.appendChild(div);\n",
              "\n",
              "      const buffers = [];\n",
              "      let downloaded = 0;\n",
              "\n",
              "      const channel = await google.colab.kernel.comms.open(id);\n",
              "      // Send a message to notify the kernel that we're ready.\n",
              "      channel.send({})\n",
              "\n",
              "      for await (const message of channel.messages) {\n",
              "        // Send a message to notify the kernel that we're ready.\n",
              "        channel.send({})\n",
              "        if (message.buffers) {\n",
              "          for (const buffer of message.buffers) {\n",
              "            buffers.push(buffer);\n",
              "            downloaded += buffer.byteLength;\n",
              "            progress.value = downloaded;\n",
              "          }\n",
              "        }\n",
              "      }\n",
              "      const blob = new Blob(buffers, {type: 'application/binary'});\n",
              "      const a = document.createElement('a');\n",
              "      a.href = window.URL.createObjectURL(blob);\n",
              "      a.download = filename;\n",
              "      div.appendChild(a);\n",
              "      a.click();\n",
              "      div.remove();\n",
              "    }\n",
              "  "
            ]
          },
          "metadata": {}
        },
        {
          "output_type": "display_data",
          "data": {
            "text/plain": [
              "<IPython.core.display.Javascript object>"
            ],
            "application/javascript": [
              "download(\"download_a1b84691-e7e6-4742-8136-cf55ae42f173\", \"1532_NCF_FREQ_REC.csv\", 946)"
            ]
          },
          "metadata": {}
        },
        {
          "output_type": "execute_result",
          "data": {
            "text/plain": [
              "   sku_id      Sku                   Product Descr1  \\\n",
              "0   38317  CD58770                   FRITZ BOX 7510   \n",
              "1   50533  CF63417   PH317-55-70S1 I7-11800H 17.3IN   \n",
              "2   52803  CF90560  SANDISK ULTRA 3D SATA 2.5IN SSD   \n",
              "3   22310  865FP89        ED270RPBIIPX 69CM 27IN VA   \n",
              "4   27878  CA89018         SANDISK PORTABLE SSD 2TB   \n",
              "5   66761  M222242         ULTRA LUXE 128GB USB 3.1   \n",
              "6   29763  CB38194   COMBO TOUCH IPAD PRO 11IN 1-3G   \n",
              "7    4386  222A769  UNIVERSAL FOLIO/INTEGRATED KEYB   \n",
              "8   26136  CA61749     SANDISK EXTREME PORTABLE SSD   \n",
              "9   30882  CB74725        IP 5 15ALC05 R7-5700U 8GB   \n",
              "\n",
              "                   ProductGroupDescription ProductGroupMasterDescription  \n",
              "0  Wireless Lan Broadband Routers/Gateways   Communications & Networking  \n",
              "1              Portable/Notebook Computers              Computer Systems  \n",
              "2                  Solid State Drive (Ssd)  Hard Drives & Optical Drives  \n",
              "3                              Lcd Monitor                       Display  \n",
              "4                             Mobile Drive  Hard Drives & Optical Drives  \n",
              "5                        Usb Storage Media         Memory and Processors  \n",
              "6                      Keyboards & Keypads                 Input Devices  \n",
              "7                      Keyboards & Keypads                 Input Devices  \n",
              "8                  Solid State Drive (Ssd)  Hard Drives & Optical Drives  \n",
              "9              Portable/Notebook Computers              Computer Systems  "
            ],
            "text/html": [
              "\n",
              "\n",
              "  <div id=\"df-8ef03efd-2f84-4e3b-baa4-2a06e2f467c3\">\n",
              "    <div class=\"colab-df-container\">\n",
              "      <div>\n",
              "<style scoped>\n",
              "    .dataframe tbody tr th:only-of-type {\n",
              "        vertical-align: middle;\n",
              "    }\n",
              "\n",
              "    .dataframe tbody tr th {\n",
              "        vertical-align: top;\n",
              "    }\n",
              "\n",
              "    .dataframe thead th {\n",
              "        text-align: right;\n",
              "    }\n",
              "</style>\n",
              "<table border=\"1\" class=\"dataframe\">\n",
              "  <thead>\n",
              "    <tr style=\"text-align: right;\">\n",
              "      <th></th>\n",
              "      <th>sku_id</th>\n",
              "      <th>Sku</th>\n",
              "      <th>Product Descr1</th>\n",
              "      <th>ProductGroupDescription</th>\n",
              "      <th>ProductGroupMasterDescription</th>\n",
              "    </tr>\n",
              "  </thead>\n",
              "  <tbody>\n",
              "    <tr>\n",
              "      <th>0</th>\n",
              "      <td>38317</td>\n",
              "      <td>CD58770</td>\n",
              "      <td>FRITZ BOX 7510</td>\n",
              "      <td>Wireless Lan Broadband Routers/Gateways</td>\n",
              "      <td>Communications &amp; Networking</td>\n",
              "    </tr>\n",
              "    <tr>\n",
              "      <th>1</th>\n",
              "      <td>50533</td>\n",
              "      <td>CF63417</td>\n",
              "      <td>PH317-55-70S1 I7-11800H 17.3IN</td>\n",
              "      <td>Portable/Notebook Computers</td>\n",
              "      <td>Computer Systems</td>\n",
              "    </tr>\n",
              "    <tr>\n",
              "      <th>2</th>\n",
              "      <td>52803</td>\n",
              "      <td>CF90560</td>\n",
              "      <td>SANDISK ULTRA 3D SATA 2.5IN SSD</td>\n",
              "      <td>Solid State Drive (Ssd)</td>\n",
              "      <td>Hard Drives &amp; Optical Drives</td>\n",
              "    </tr>\n",
              "    <tr>\n",
              "      <th>3</th>\n",
              "      <td>22310</td>\n",
              "      <td>865FP89</td>\n",
              "      <td>ED270RPBIIPX 69CM 27IN VA</td>\n",
              "      <td>Lcd Monitor</td>\n",
              "      <td>Display</td>\n",
              "    </tr>\n",
              "    <tr>\n",
              "      <th>4</th>\n",
              "      <td>27878</td>\n",
              "      <td>CA89018</td>\n",
              "      <td>SANDISK PORTABLE SSD 2TB</td>\n",
              "      <td>Mobile Drive</td>\n",
              "      <td>Hard Drives &amp; Optical Drives</td>\n",
              "    </tr>\n",
              "    <tr>\n",
              "      <th>5</th>\n",
              "      <td>66761</td>\n",
              "      <td>M222242</td>\n",
              "      <td>ULTRA LUXE 128GB USB 3.1</td>\n",
              "      <td>Usb Storage Media</td>\n",
              "      <td>Memory and Processors</td>\n",
              "    </tr>\n",
              "    <tr>\n",
              "      <th>6</th>\n",
              "      <td>29763</td>\n",
              "      <td>CB38194</td>\n",
              "      <td>COMBO TOUCH IPAD PRO 11IN 1-3G</td>\n",
              "      <td>Keyboards &amp; Keypads</td>\n",
              "      <td>Input Devices</td>\n",
              "    </tr>\n",
              "    <tr>\n",
              "      <th>7</th>\n",
              "      <td>4386</td>\n",
              "      <td>222A769</td>\n",
              "      <td>UNIVERSAL FOLIO/INTEGRATED KEYB</td>\n",
              "      <td>Keyboards &amp; Keypads</td>\n",
              "      <td>Input Devices</td>\n",
              "    </tr>\n",
              "    <tr>\n",
              "      <th>8</th>\n",
              "      <td>26136</td>\n",
              "      <td>CA61749</td>\n",
              "      <td>SANDISK EXTREME PORTABLE SSD</td>\n",
              "      <td>Solid State Drive (Ssd)</td>\n",
              "      <td>Hard Drives &amp; Optical Drives</td>\n",
              "    </tr>\n",
              "    <tr>\n",
              "      <th>9</th>\n",
              "      <td>30882</td>\n",
              "      <td>CB74725</td>\n",
              "      <td>IP 5 15ALC05 R7-5700U 8GB</td>\n",
              "      <td>Portable/Notebook Computers</td>\n",
              "      <td>Computer Systems</td>\n",
              "    </tr>\n",
              "  </tbody>\n",
              "</table>\n",
              "</div>\n",
              "      <button class=\"colab-df-convert\" onclick=\"convertToInteractive('df-8ef03efd-2f84-4e3b-baa4-2a06e2f467c3')\"\n",
              "              title=\"Convert this dataframe to an interactive table.\"\n",
              "              style=\"display:none;\">\n",
              "\n",
              "  <svg xmlns=\"http://www.w3.org/2000/svg\" height=\"24px\"viewBox=\"0 0 24 24\"\n",
              "       width=\"24px\">\n",
              "    <path d=\"M0 0h24v24H0V0z\" fill=\"none\"/>\n",
              "    <path d=\"M18.56 5.44l.94 2.06.94-2.06 2.06-.94-2.06-.94-.94-2.06-.94 2.06-2.06.94zm-11 1L8.5 8.5l.94-2.06 2.06-.94-2.06-.94L8.5 2.5l-.94 2.06-2.06.94zm10 10l.94 2.06.94-2.06 2.06-.94-2.06-.94-.94-2.06-.94 2.06-2.06.94z\"/><path d=\"M17.41 7.96l-1.37-1.37c-.4-.4-.92-.59-1.43-.59-.52 0-1.04.2-1.43.59L10.3 9.45l-7.72 7.72c-.78.78-.78 2.05 0 2.83L4 21.41c.39.39.9.59 1.41.59.51 0 1.02-.2 1.41-.59l7.78-7.78 2.81-2.81c.8-.78.8-2.07 0-2.86zM5.41 20L4 18.59l7.72-7.72 1.47 1.35L5.41 20z\"/>\n",
              "  </svg>\n",
              "      </button>\n",
              "\n",
              "\n",
              "\n",
              "    <div id=\"df-25cf818d-5aa3-45ec-8ea8-081f650cec3c\">\n",
              "      <button class=\"colab-df-quickchart\" onclick=\"quickchart('df-25cf818d-5aa3-45ec-8ea8-081f650cec3c')\"\n",
              "              title=\"Suggest charts.\"\n",
              "              style=\"display:none;\">\n",
              "\n",
              "<svg xmlns=\"http://www.w3.org/2000/svg\" height=\"24px\"viewBox=\"0 0 24 24\"\n",
              "     width=\"24px\">\n",
              "    <g>\n",
              "        <path d=\"M19 3H5c-1.1 0-2 .9-2 2v14c0 1.1.9 2 2 2h14c1.1 0 2-.9 2-2V5c0-1.1-.9-2-2-2zM9 17H7v-7h2v7zm4 0h-2V7h2v10zm4 0h-2v-4h2v4z\"/>\n",
              "    </g>\n",
              "</svg>\n",
              "      </button>\n",
              "    </div>\n",
              "\n",
              "<style>\n",
              "  .colab-df-quickchart {\n",
              "    background-color: #E8F0FE;\n",
              "    border: none;\n",
              "    border-radius: 50%;\n",
              "    cursor: pointer;\n",
              "    display: none;\n",
              "    fill: #1967D2;\n",
              "    height: 32px;\n",
              "    padding: 0 0 0 0;\n",
              "    width: 32px;\n",
              "  }\n",
              "\n",
              "  .colab-df-quickchart:hover {\n",
              "    background-color: #E2EBFA;\n",
              "    box-shadow: 0px 1px 2px rgba(60, 64, 67, 0.3), 0px 1px 3px 1px rgba(60, 64, 67, 0.15);\n",
              "    fill: #174EA6;\n",
              "  }\n",
              "\n",
              "  [theme=dark] .colab-df-quickchart {\n",
              "    background-color: #3B4455;\n",
              "    fill: #D2E3FC;\n",
              "  }\n",
              "\n",
              "  [theme=dark] .colab-df-quickchart:hover {\n",
              "    background-color: #434B5C;\n",
              "    box-shadow: 0px 1px 3px 1px rgba(0, 0, 0, 0.15);\n",
              "    filter: drop-shadow(0px 1px 2px rgba(0, 0, 0, 0.3));\n",
              "    fill: #FFFFFF;\n",
              "  }\n",
              "</style>\n",
              "\n",
              "    <script>\n",
              "      async function quickchart(key) {\n",
              "        const containerElement = document.querySelector('#' + key);\n",
              "        const charts = await google.colab.kernel.invokeFunction(\n",
              "            'suggestCharts', [key], {});\n",
              "      }\n",
              "    </script>\n",
              "\n",
              "      <script>\n",
              "\n",
              "function displayQuickchartButton(domScope) {\n",
              "  let quickchartButtonEl =\n",
              "    domScope.querySelector('#df-25cf818d-5aa3-45ec-8ea8-081f650cec3c button.colab-df-quickchart');\n",
              "  quickchartButtonEl.style.display =\n",
              "    google.colab.kernel.accessAllowed ? 'block' : 'none';\n",
              "}\n",
              "\n",
              "        displayQuickchartButton(document);\n",
              "      </script>\n",
              "      <style>\n",
              "    .colab-df-container {\n",
              "      display:flex;\n",
              "      flex-wrap:wrap;\n",
              "      gap: 12px;\n",
              "    }\n",
              "\n",
              "    .colab-df-convert {\n",
              "      background-color: #E8F0FE;\n",
              "      border: none;\n",
              "      border-radius: 50%;\n",
              "      cursor: pointer;\n",
              "      display: none;\n",
              "      fill: #1967D2;\n",
              "      height: 32px;\n",
              "      padding: 0 0 0 0;\n",
              "      width: 32px;\n",
              "    }\n",
              "\n",
              "    .colab-df-convert:hover {\n",
              "      background-color: #E2EBFA;\n",
              "      box-shadow: 0px 1px 2px rgba(60, 64, 67, 0.3), 0px 1px 3px 1px rgba(60, 64, 67, 0.15);\n",
              "      fill: #174EA6;\n",
              "    }\n",
              "\n",
              "    [theme=dark] .colab-df-convert {\n",
              "      background-color: #3B4455;\n",
              "      fill: #D2E3FC;\n",
              "    }\n",
              "\n",
              "    [theme=dark] .colab-df-convert:hover {\n",
              "      background-color: #434B5C;\n",
              "      box-shadow: 0px 1px 3px 1px rgba(0, 0, 0, 0.15);\n",
              "      filter: drop-shadow(0px 1px 2px rgba(0, 0, 0, 0.3));\n",
              "      fill: #FFFFFF;\n",
              "    }\n",
              "  </style>\n",
              "\n",
              "      <script>\n",
              "        const buttonEl =\n",
              "          document.querySelector('#df-8ef03efd-2f84-4e3b-baa4-2a06e2f467c3 button.colab-df-convert');\n",
              "        buttonEl.style.display =\n",
              "          google.colab.kernel.accessAllowed ? 'block' : 'none';\n",
              "\n",
              "        async function convertToInteractive(key) {\n",
              "          const element = document.querySelector('#df-8ef03efd-2f84-4e3b-baa4-2a06e2f467c3');\n",
              "          const dataTable =\n",
              "            await google.colab.kernel.invokeFunction('convertToInteractive',\n",
              "                                                     [key], {});\n",
              "          if (!dataTable) return;\n",
              "\n",
              "          const docLinkHtml = 'Like what you see? Visit the ' +\n",
              "            '<a target=\"_blank\" href=https://colab.research.google.com/notebooks/data_table.ipynb>data table notebook</a>'\n",
              "            + ' to learn more about interactive tables.';\n",
              "          element.innerHTML = '';\n",
              "          dataTable['output_type'] = 'display_data';\n",
              "          await google.colab.output.renderOutput(dataTable, element);\n",
              "          const docLink = document.createElement('div');\n",
              "          docLink.innerHTML = docLinkHtml;\n",
              "          element.appendChild(docLink);\n",
              "        }\n",
              "      </script>\n",
              "    </div>\n",
              "  </div>\n"
            ]
          },
          "metadata": {},
          "execution_count": 111
        }
      ]
    }
  ]
}