{
  "cells": [
    {
      "cell_type": "markdown",
      "metadata": {
        "id": "view-in-github",
        "colab_type": "text"
      },
      "source": [
        "<a href=\"https://colab.research.google.com/github/vincm1/RecSys_Implicit/blob/master/Alternating_Least_Squares_(ALS)_%26_Bayesian_Personalized_Ranking_(BPR).ipynb\" target=\"_parent\"><img src=\"https://colab.research.google.com/assets/colab-badge.svg\" alt=\"Open In Colab\"/></a>"
      ]
    },
    {
      "cell_type": "code",
      "execution_count": 35,
      "metadata": {
        "colab": {
          "base_uri": "https://localhost:8080/"
        },
        "id": "ZdcIm5ccE1AT",
        "outputId": "252d7035-5313-49ac-9920-0ff3d557d1ca"
      },
      "outputs": [
        {
          "output_type": "stream",
          "name": "stdout",
          "text": [
            "Requirement already satisfied: implicit in /usr/local/lib/python3.10/dist-packages (0.7.0)\n",
            "Requirement already satisfied: numpy in /usr/local/lib/python3.10/dist-packages (from implicit) (1.22.4)\n",
            "Requirement already satisfied: scipy>=0.16 in /usr/local/lib/python3.10/dist-packages (from implicit) (1.10.1)\n",
            "Requirement already satisfied: tqdm>=4.27 in /usr/local/lib/python3.10/dist-packages (from implicit) (4.65.0)\n"
          ]
        }
      ],
      "source": [
        "!pip install --upgrade implicit"
      ]
    },
    {
      "cell_type": "code",
      "execution_count": 36,
      "metadata": {
        "id": "grLA84wbEiAr"
      },
      "outputs": [],
      "source": [
        "import zipfile\n",
        "import time\n",
        "import pickle\n",
        "import numpy as np\n",
        "import seaborn as sns\n",
        "import matplotlib.pyplot as plt\n",
        "import pandas as pd\n",
        "\n",
        "import scipy.sparse as sparse\n",
        "\n",
        "from datetime import datetime, timedelta\n"
      ]
    },
    {
      "cell_type": "markdown",
      "metadata": {
        "id": "6NkqcqysfCKB"
      },
      "source": [
        "# Loading DataFrames\n",
        "\n"
      ]
    },
    {
      "cell_type": "code",
      "execution_count": 37,
      "metadata": {
        "colab": {
          "base_uri": "https://localhost:8080/"
        },
        "id": "0zVYs3LAEgGZ",
        "outputId": "9dbf9a2e-80ca-40dc-9071-21825618f2cb"
      },
      "outputs": [
        {
          "output_type": "stream",
          "name": "stderr",
          "text": [
            "<ipython-input-37-6f4658781373>:2: DtypeWarning: Columns (2,4) have mixed types. Specify dtype option on import or set low_memory=False.\n",
            "  df = pd.read_csv(df_zip.open('Bericht 1.csv'), delimiter=\";\")\n"
          ]
        }
      ],
      "source": [
        "df_zip = zipfile.ZipFile('/content/drive/MyDrive/RecSys/Orders_Nov22_Jun23.zip')\n",
        "df = pd.read_csv(df_zip.open('Bericht 1.csv'), delimiter=\";\")"
      ]
    },
    {
      "cell_type": "code",
      "execution_count": 38,
      "metadata": {
        "colab": {
          "base_uri": "https://localhost:8080/"
        },
        "id": "-91G3xiVL4PZ",
        "outputId": "35638b1a-6452-4e1b-b86e-daaf4cf9c170"
      },
      "outputs": [
        {
          "output_type": "execute_result",
          "data": {
            "text/plain": [
              "2220299"
            ]
          },
          "metadata": {},
          "execution_count": 38
        }
      ],
      "source": [
        "len(df)"
      ]
    },
    {
      "cell_type": "code",
      "execution_count": 39,
      "metadata": {
        "colab": {
          "base_uri": "https://localhost:8080/",
          "height": 315
        },
        "id": "RwegL3ZVfUMI",
        "outputId": "bb1dfd76-2e62-40a2-ac58-85d3b1b0516b"
      },
      "outputs": [
        {
          "output_type": "execute_result",
          "data": {
            "text/plain": [
              "  Order Nbr Entry Date Entry DateTime FiscalMonth BranchCustomerNbr  \\\n",
              "0   1547606   01.11.22            NaN    2022FM11          15515778   \n",
              "1   1547615   01.11.22            NaN    2022FM11          15509465   \n",
              "\n",
              "                    CustomerName   BusinessUnitLevel2 KDGroup      Sku  \\\n",
              "0           NET-S M. CHMIELEWSKI  Export Channel (DE)          9433B9X   \n",
              "1  DIGITAL RIVER IRELAND LIMITED  Export Channel (DE)    DIRL  CB31510   \n",
              "\n",
              "         Product Descr1                   Product Descr2  ProductGroup  \\\n",
              "0     INK CARTRIDGE SPS  BLACK 370ML 600 DPI INKJET BULK          1037   \n",
              "1  LENOVO KEYBOARD PACK                   FOR TAB P11-DE           641   \n",
              "\n",
              "  ProductGroupMasterDescription ProductGroupDescription  \\\n",
              "0                   Consumables                     Ink   \n",
              "1                 Input Devices     Keyboards & Keypads   \n",
              "\n",
              "  ProductGroup2ndDescription     Sales  Qty Shipped  \n",
              "0                   Supplies    -15,33         -1.0  \n",
              "1     Printers & Peripherals   -104,61         -1.0  "
            ],
            "text/html": [
              "\n",
              "\n",
              "  <div id=\"df-1b6a4cc3-4afd-4ccf-9feb-2921ea21da3d\">\n",
              "    <div class=\"colab-df-container\">\n",
              "      <div>\n",
              "<style scoped>\n",
              "    .dataframe tbody tr th:only-of-type {\n",
              "        vertical-align: middle;\n",
              "    }\n",
              "\n",
              "    .dataframe tbody tr th {\n",
              "        vertical-align: top;\n",
              "    }\n",
              "\n",
              "    .dataframe thead th {\n",
              "        text-align: right;\n",
              "    }\n",
              "</style>\n",
              "<table border=\"1\" class=\"dataframe\">\n",
              "  <thead>\n",
              "    <tr style=\"text-align: right;\">\n",
              "      <th></th>\n",
              "      <th>Order Nbr</th>\n",
              "      <th>Entry Date</th>\n",
              "      <th>Entry DateTime</th>\n",
              "      <th>FiscalMonth</th>\n",
              "      <th>BranchCustomerNbr</th>\n",
              "      <th>CustomerName</th>\n",
              "      <th>BusinessUnitLevel2</th>\n",
              "      <th>KDGroup</th>\n",
              "      <th>Sku</th>\n",
              "      <th>Product Descr1</th>\n",
              "      <th>Product Descr2</th>\n",
              "      <th>ProductGroup</th>\n",
              "      <th>ProductGroupMasterDescription</th>\n",
              "      <th>ProductGroupDescription</th>\n",
              "      <th>ProductGroup2ndDescription</th>\n",
              "      <th>Sales</th>\n",
              "      <th>Qty Shipped</th>\n",
              "    </tr>\n",
              "  </thead>\n",
              "  <tbody>\n",
              "    <tr>\n",
              "      <th>0</th>\n",
              "      <td>1547606</td>\n",
              "      <td>01.11.22</td>\n",
              "      <td>NaN</td>\n",
              "      <td>2022FM11</td>\n",
              "      <td>15515778</td>\n",
              "      <td>NET-S M. CHMIELEWSKI</td>\n",
              "      <td>Export Channel (DE)</td>\n",
              "      <td></td>\n",
              "      <td>9433B9X</td>\n",
              "      <td>INK CARTRIDGE SPS</td>\n",
              "      <td>BLACK 370ML 600 DPI INKJET BULK</td>\n",
              "      <td>1037</td>\n",
              "      <td>Consumables</td>\n",
              "      <td>Ink</td>\n",
              "      <td>Supplies</td>\n",
              "      <td>-15,33</td>\n",
              "      <td>-1.0</td>\n",
              "    </tr>\n",
              "    <tr>\n",
              "      <th>1</th>\n",
              "      <td>1547615</td>\n",
              "      <td>01.11.22</td>\n",
              "      <td>NaN</td>\n",
              "      <td>2022FM11</td>\n",
              "      <td>15509465</td>\n",
              "      <td>DIGITAL RIVER IRELAND LIMITED</td>\n",
              "      <td>Export Channel (DE)</td>\n",
              "      <td>DIRL</td>\n",
              "      <td>CB31510</td>\n",
              "      <td>LENOVO KEYBOARD PACK</td>\n",
              "      <td>FOR TAB P11-DE</td>\n",
              "      <td>641</td>\n",
              "      <td>Input Devices</td>\n",
              "      <td>Keyboards &amp; Keypads</td>\n",
              "      <td>Printers &amp; Peripherals</td>\n",
              "      <td>-104,61</td>\n",
              "      <td>-1.0</td>\n",
              "    </tr>\n",
              "  </tbody>\n",
              "</table>\n",
              "</div>\n",
              "      <button class=\"colab-df-convert\" onclick=\"convertToInteractive('df-1b6a4cc3-4afd-4ccf-9feb-2921ea21da3d')\"\n",
              "              title=\"Convert this dataframe to an interactive table.\"\n",
              "              style=\"display:none;\">\n",
              "\n",
              "  <svg xmlns=\"http://www.w3.org/2000/svg\" height=\"24px\"viewBox=\"0 0 24 24\"\n",
              "       width=\"24px\">\n",
              "    <path d=\"M0 0h24v24H0V0z\" fill=\"none\"/>\n",
              "    <path d=\"M18.56 5.44l.94 2.06.94-2.06 2.06-.94-2.06-.94-.94-2.06-.94 2.06-2.06.94zm-11 1L8.5 8.5l.94-2.06 2.06-.94-2.06-.94L8.5 2.5l-.94 2.06-2.06.94zm10 10l.94 2.06.94-2.06 2.06-.94-2.06-.94-.94-2.06-.94 2.06-2.06.94z\"/><path d=\"M17.41 7.96l-1.37-1.37c-.4-.4-.92-.59-1.43-.59-.52 0-1.04.2-1.43.59L10.3 9.45l-7.72 7.72c-.78.78-.78 2.05 0 2.83L4 21.41c.39.39.9.59 1.41.59.51 0 1.02-.2 1.41-.59l7.78-7.78 2.81-2.81c.8-.78.8-2.07 0-2.86zM5.41 20L4 18.59l7.72-7.72 1.47 1.35L5.41 20z\"/>\n",
              "  </svg>\n",
              "      </button>\n",
              "\n",
              "\n",
              "\n",
              "    <div id=\"df-98fb5d04-57d7-4ed6-b347-a2abcc3c4d08\">\n",
              "      <button class=\"colab-df-quickchart\" onclick=\"quickchart('df-98fb5d04-57d7-4ed6-b347-a2abcc3c4d08')\"\n",
              "              title=\"Suggest charts.\"\n",
              "              style=\"display:none;\">\n",
              "\n",
              "<svg xmlns=\"http://www.w3.org/2000/svg\" height=\"24px\"viewBox=\"0 0 24 24\"\n",
              "     width=\"24px\">\n",
              "    <g>\n",
              "        <path d=\"M19 3H5c-1.1 0-2 .9-2 2v14c0 1.1.9 2 2 2h14c1.1 0 2-.9 2-2V5c0-1.1-.9-2-2-2zM9 17H7v-7h2v7zm4 0h-2V7h2v10zm4 0h-2v-4h2v4z\"/>\n",
              "    </g>\n",
              "</svg>\n",
              "      </button>\n",
              "    </div>\n",
              "\n",
              "<style>\n",
              "  .colab-df-quickchart {\n",
              "    background-color: #E8F0FE;\n",
              "    border: none;\n",
              "    border-radius: 50%;\n",
              "    cursor: pointer;\n",
              "    display: none;\n",
              "    fill: #1967D2;\n",
              "    height: 32px;\n",
              "    padding: 0 0 0 0;\n",
              "    width: 32px;\n",
              "  }\n",
              "\n",
              "  .colab-df-quickchart:hover {\n",
              "    background-color: #E2EBFA;\n",
              "    box-shadow: 0px 1px 2px rgba(60, 64, 67, 0.3), 0px 1px 3px 1px rgba(60, 64, 67, 0.15);\n",
              "    fill: #174EA6;\n",
              "  }\n",
              "\n",
              "  [theme=dark] .colab-df-quickchart {\n",
              "    background-color: #3B4455;\n",
              "    fill: #D2E3FC;\n",
              "  }\n",
              "\n",
              "  [theme=dark] .colab-df-quickchart:hover {\n",
              "    background-color: #434B5C;\n",
              "    box-shadow: 0px 1px 3px 1px rgba(0, 0, 0, 0.15);\n",
              "    filter: drop-shadow(0px 1px 2px rgba(0, 0, 0, 0.3));\n",
              "    fill: #FFFFFF;\n",
              "  }\n",
              "</style>\n",
              "\n",
              "    <script>\n",
              "      async function quickchart(key) {\n",
              "        const containerElement = document.querySelector('#' + key);\n",
              "        const charts = await google.colab.kernel.invokeFunction(\n",
              "            'suggestCharts', [key], {});\n",
              "      }\n",
              "    </script>\n",
              "\n",
              "      <script>\n",
              "\n",
              "function displayQuickchartButton(domScope) {\n",
              "  let quickchartButtonEl =\n",
              "    domScope.querySelector('#df-98fb5d04-57d7-4ed6-b347-a2abcc3c4d08 button.colab-df-quickchart');\n",
              "  quickchartButtonEl.style.display =\n",
              "    google.colab.kernel.accessAllowed ? 'block' : 'none';\n",
              "}\n",
              "\n",
              "        displayQuickchartButton(document);\n",
              "      </script>\n",
              "      <style>\n",
              "    .colab-df-container {\n",
              "      display:flex;\n",
              "      flex-wrap:wrap;\n",
              "      gap: 12px;\n",
              "    }\n",
              "\n",
              "    .colab-df-convert {\n",
              "      background-color: #E8F0FE;\n",
              "      border: none;\n",
              "      border-radius: 50%;\n",
              "      cursor: pointer;\n",
              "      display: none;\n",
              "      fill: #1967D2;\n",
              "      height: 32px;\n",
              "      padding: 0 0 0 0;\n",
              "      width: 32px;\n",
              "    }\n",
              "\n",
              "    .colab-df-convert:hover {\n",
              "      background-color: #E2EBFA;\n",
              "      box-shadow: 0px 1px 2px rgba(60, 64, 67, 0.3), 0px 1px 3px 1px rgba(60, 64, 67, 0.15);\n",
              "      fill: #174EA6;\n",
              "    }\n",
              "\n",
              "    [theme=dark] .colab-df-convert {\n",
              "      background-color: #3B4455;\n",
              "      fill: #D2E3FC;\n",
              "    }\n",
              "\n",
              "    [theme=dark] .colab-df-convert:hover {\n",
              "      background-color: #434B5C;\n",
              "      box-shadow: 0px 1px 3px 1px rgba(0, 0, 0, 0.15);\n",
              "      filter: drop-shadow(0px 1px 2px rgba(0, 0, 0, 0.3));\n",
              "      fill: #FFFFFF;\n",
              "    }\n",
              "  </style>\n",
              "\n",
              "      <script>\n",
              "        const buttonEl =\n",
              "          document.querySelector('#df-1b6a4cc3-4afd-4ccf-9feb-2921ea21da3d button.colab-df-convert');\n",
              "        buttonEl.style.display =\n",
              "          google.colab.kernel.accessAllowed ? 'block' : 'none';\n",
              "\n",
              "        async function convertToInteractive(key) {\n",
              "          const element = document.querySelector('#df-1b6a4cc3-4afd-4ccf-9feb-2921ea21da3d');\n",
              "          const dataTable =\n",
              "            await google.colab.kernel.invokeFunction('convertToInteractive',\n",
              "                                                     [key], {});\n",
              "          if (!dataTable) return;\n",
              "\n",
              "          const docLinkHtml = 'Like what you see? Visit the ' +\n",
              "            '<a target=\"_blank\" href=https://colab.research.google.com/notebooks/data_table.ipynb>data table notebook</a>'\n",
              "            + ' to learn more about interactive tables.';\n",
              "          element.innerHTML = '';\n",
              "          dataTable['output_type'] = 'display_data';\n",
              "          await google.colab.output.renderOutput(dataTable, element);\n",
              "          const docLink = document.createElement('div');\n",
              "          docLink.innerHTML = docLinkHtml;\n",
              "          element.appendChild(docLink);\n",
              "        }\n",
              "      </script>\n",
              "    </div>\n",
              "  </div>\n"
            ]
          },
          "metadata": {},
          "execution_count": 39
        }
      ],
      "source": [
        "df.head(2)"
      ]
    },
    {
      "cell_type": "markdown",
      "metadata": {
        "id": "jw0KcoTNf9td"
      },
      "source": [
        "# Data Preprocessing"
      ]
    },
    {
      "cell_type": "code",
      "execution_count": 41,
      "metadata": {
        "id": "fqrtmWFSLHhj"
      },
      "outputs": [],
      "source": [
        "# converting the customerid to string\n",
        "df[\"BranchCustomerNbr\"] = df[\"BranchCustomerNbr\"].astype(str)\n",
        "# converting the skuid to string\n",
        "df[\"Sku\"] = df[\"Sku\"].astype(str)"
      ]
    },
    {
      "cell_type": "code",
      "execution_count": 42,
      "metadata": {
        "id": "aIXvd-8LMHfB",
        "colab": {
          "base_uri": "https://localhost:8080/"
        },
        "outputId": "f138ea9e-c2d1-4020-e81e-f99b3e8d0442"
      },
      "outputs": [
        {
          "output_type": "execute_result",
          "data": {
            "text/plain": [
              "113860"
            ]
          },
          "metadata": {},
          "execution_count": 42
        }
      ],
      "source": [
        "# lines with zero shipment qty\n",
        "len(df[df[\"Qty Shipped\"] == 0])"
      ]
    },
    {
      "cell_type": "code",
      "execution_count": 43,
      "metadata": {
        "id": "tZGNfaoYfjKD",
        "colab": {
          "base_uri": "https://localhost:8080/",
          "height": 496
        },
        "outputId": "572984d5-79c3-4b21-df34-ab23b0f757a7"
      },
      "outputs": [
        {
          "output_type": "execute_result",
          "data": {
            "text/plain": [
              "      Order Nbr Entry Date Entry DateTime FiscalMonth BranchCustomerNbr  \\\n",
              "24204   4434497   10.01.23            NaN    2023FM01          44475054   \n",
              "35112   4490586   03.02.23            NaN    2023FM06          44840876   \n",
              "35113   4490586   03.02.23            NaN    2023FM06          44840876   \n",
              "40384   4437936   17.02.23            NaN    2023FM02          44423409   \n",
              "40385   4437936   17.02.23            NaN    2023FM02          44423409   \n",
              "\n",
              "                             CustomerName BusinessUnitLevel2 KDGroup      Sku  \\\n",
              "24204                         EVERIT GMBH   Business Channel          CD71519   \n",
              "35112  KOERBER SUPPLY CHAIN SOFTWARE GMBH             DC-POS          V36E390   \n",
              "35113  KOERBER SUPPLY CHAIN SOFTWARE GMBH             DC-POS          V36E412   \n",
              "40384             NOTEBOOKSBILLIGER.DE AG   Consumer Channel     NBB  CF58182   \n",
              "40385             NOTEBOOKSBILLIGER.DE AG   Consumer Channel     NBB  CF58183   \n",
              "\n",
              "                      Product Descr1                   Product Descr2  \\\n",
              "24204  1830 24G 12P CLASS4 POE-STOCK                                .   \n",
              "35112   TC21/TC26 HC WHITE FIVE SLOT  CHARGE ONLY CRADLE FIVE DEVICES   \n",
              "35113           TC21/26 BELT CLIP HC  DISINFECTANT READY TC21/TC26 HC   \n",
              "40384            IPHONE 14 PRO 128GB                      SPACE BLACK   \n",
              "40385            IPHONE 14 PRO 128GB                           SILVER   \n",
              "\n",
              "       ProductGroup    ProductGroupMasterDescription  \\\n",
              "24204           490      Communications & Networking   \n",
              "35112          6026  AIDC/PoS Accessories & Supplies   \n",
              "35113          5706        AIDC/PoS Barcode Scanners   \n",
              "40384          1402                         Mobility   \n",
              "40385          1402                         Mobility   \n",
              "\n",
              "            ProductGroupDescription  ProductGroup2ndDescription Sales  \\\n",
              "24204  Lan Switches Managed Layer 2                  Networking  0,00   \n",
              "35112               Docking Station  Other (incl. AIDC/POS, V7)  0,00   \n",
              "35113   Barcode Scanner Accessories  Other (incl. AIDC/POS, V7)  0,00   \n",
              "40384                  Smart Phones      Printers & Peripherals  0,00   \n",
              "40385                  Smart Phones      Printers & Peripherals  0,00   \n",
              "\n",
              "       Qty Shipped  \n",
              "24204          0.0  \n",
              "35112          0.0  \n",
              "35113          0.0  \n",
              "40384          0.0  \n",
              "40385          0.0  "
            ],
            "text/html": [
              "\n",
              "\n",
              "  <div id=\"df-abb2075b-7ddc-474e-bf4f-bd903a302adc\">\n",
              "    <div class=\"colab-df-container\">\n",
              "      <div>\n",
              "<style scoped>\n",
              "    .dataframe tbody tr th:only-of-type {\n",
              "        vertical-align: middle;\n",
              "    }\n",
              "\n",
              "    .dataframe tbody tr th {\n",
              "        vertical-align: top;\n",
              "    }\n",
              "\n",
              "    .dataframe thead th {\n",
              "        text-align: right;\n",
              "    }\n",
              "</style>\n",
              "<table border=\"1\" class=\"dataframe\">\n",
              "  <thead>\n",
              "    <tr style=\"text-align: right;\">\n",
              "      <th></th>\n",
              "      <th>Order Nbr</th>\n",
              "      <th>Entry Date</th>\n",
              "      <th>Entry DateTime</th>\n",
              "      <th>FiscalMonth</th>\n",
              "      <th>BranchCustomerNbr</th>\n",
              "      <th>CustomerName</th>\n",
              "      <th>BusinessUnitLevel2</th>\n",
              "      <th>KDGroup</th>\n",
              "      <th>Sku</th>\n",
              "      <th>Product Descr1</th>\n",
              "      <th>Product Descr2</th>\n",
              "      <th>ProductGroup</th>\n",
              "      <th>ProductGroupMasterDescription</th>\n",
              "      <th>ProductGroupDescription</th>\n",
              "      <th>ProductGroup2ndDescription</th>\n",
              "      <th>Sales</th>\n",
              "      <th>Qty Shipped</th>\n",
              "    </tr>\n",
              "  </thead>\n",
              "  <tbody>\n",
              "    <tr>\n",
              "      <th>24204</th>\n",
              "      <td>4434497</td>\n",
              "      <td>10.01.23</td>\n",
              "      <td>NaN</td>\n",
              "      <td>2023FM01</td>\n",
              "      <td>44475054</td>\n",
              "      <td>EVERIT GMBH</td>\n",
              "      <td>Business Channel</td>\n",
              "      <td></td>\n",
              "      <td>CD71519</td>\n",
              "      <td>1830 24G 12P CLASS4 POE-STOCK</td>\n",
              "      <td>.</td>\n",
              "      <td>490</td>\n",
              "      <td>Communications &amp; Networking</td>\n",
              "      <td>Lan Switches Managed Layer 2</td>\n",
              "      <td>Networking</td>\n",
              "      <td>0,00</td>\n",
              "      <td>0.0</td>\n",
              "    </tr>\n",
              "    <tr>\n",
              "      <th>35112</th>\n",
              "      <td>4490586</td>\n",
              "      <td>03.02.23</td>\n",
              "      <td>NaN</td>\n",
              "      <td>2023FM06</td>\n",
              "      <td>44840876</td>\n",
              "      <td>KOERBER SUPPLY CHAIN SOFTWARE GMBH</td>\n",
              "      <td>DC-POS</td>\n",
              "      <td></td>\n",
              "      <td>V36E390</td>\n",
              "      <td>TC21/TC26 HC WHITE FIVE SLOT</td>\n",
              "      <td>CHARGE ONLY CRADLE FIVE DEVICES</td>\n",
              "      <td>6026</td>\n",
              "      <td>AIDC/PoS Accessories &amp; Supplies</td>\n",
              "      <td>Docking Station</td>\n",
              "      <td>Other (incl. AIDC/POS, V7)</td>\n",
              "      <td>0,00</td>\n",
              "      <td>0.0</td>\n",
              "    </tr>\n",
              "    <tr>\n",
              "      <th>35113</th>\n",
              "      <td>4490586</td>\n",
              "      <td>03.02.23</td>\n",
              "      <td>NaN</td>\n",
              "      <td>2023FM06</td>\n",
              "      <td>44840876</td>\n",
              "      <td>KOERBER SUPPLY CHAIN SOFTWARE GMBH</td>\n",
              "      <td>DC-POS</td>\n",
              "      <td></td>\n",
              "      <td>V36E412</td>\n",
              "      <td>TC21/26 BELT CLIP HC</td>\n",
              "      <td>DISINFECTANT READY TC21/TC26 HC</td>\n",
              "      <td>5706</td>\n",
              "      <td>AIDC/PoS Barcode Scanners</td>\n",
              "      <td>Barcode Scanner Accessories</td>\n",
              "      <td>Other (incl. AIDC/POS, V7)</td>\n",
              "      <td>0,00</td>\n",
              "      <td>0.0</td>\n",
              "    </tr>\n",
              "    <tr>\n",
              "      <th>40384</th>\n",
              "      <td>4437936</td>\n",
              "      <td>17.02.23</td>\n",
              "      <td>NaN</td>\n",
              "      <td>2023FM02</td>\n",
              "      <td>44423409</td>\n",
              "      <td>NOTEBOOKSBILLIGER.DE AG</td>\n",
              "      <td>Consumer Channel</td>\n",
              "      <td>NBB</td>\n",
              "      <td>CF58182</td>\n",
              "      <td>IPHONE 14 PRO 128GB</td>\n",
              "      <td>SPACE BLACK</td>\n",
              "      <td>1402</td>\n",
              "      <td>Mobility</td>\n",
              "      <td>Smart Phones</td>\n",
              "      <td>Printers &amp; Peripherals</td>\n",
              "      <td>0,00</td>\n",
              "      <td>0.0</td>\n",
              "    </tr>\n",
              "    <tr>\n",
              "      <th>40385</th>\n",
              "      <td>4437936</td>\n",
              "      <td>17.02.23</td>\n",
              "      <td>NaN</td>\n",
              "      <td>2023FM02</td>\n",
              "      <td>44423409</td>\n",
              "      <td>NOTEBOOKSBILLIGER.DE AG</td>\n",
              "      <td>Consumer Channel</td>\n",
              "      <td>NBB</td>\n",
              "      <td>CF58183</td>\n",
              "      <td>IPHONE 14 PRO 128GB</td>\n",
              "      <td>SILVER</td>\n",
              "      <td>1402</td>\n",
              "      <td>Mobility</td>\n",
              "      <td>Smart Phones</td>\n",
              "      <td>Printers &amp; Peripherals</td>\n",
              "      <td>0,00</td>\n",
              "      <td>0.0</td>\n",
              "    </tr>\n",
              "  </tbody>\n",
              "</table>\n",
              "</div>\n",
              "      <button class=\"colab-df-convert\" onclick=\"convertToInteractive('df-abb2075b-7ddc-474e-bf4f-bd903a302adc')\"\n",
              "              title=\"Convert this dataframe to an interactive table.\"\n",
              "              style=\"display:none;\">\n",
              "\n",
              "  <svg xmlns=\"http://www.w3.org/2000/svg\" height=\"24px\"viewBox=\"0 0 24 24\"\n",
              "       width=\"24px\">\n",
              "    <path d=\"M0 0h24v24H0V0z\" fill=\"none\"/>\n",
              "    <path d=\"M18.56 5.44l.94 2.06.94-2.06 2.06-.94-2.06-.94-.94-2.06-.94 2.06-2.06.94zm-11 1L8.5 8.5l.94-2.06 2.06-.94-2.06-.94L8.5 2.5l-.94 2.06-2.06.94zm10 10l.94 2.06.94-2.06 2.06-.94-2.06-.94-.94-2.06-.94 2.06-2.06.94z\"/><path d=\"M17.41 7.96l-1.37-1.37c-.4-.4-.92-.59-1.43-.59-.52 0-1.04.2-1.43.59L10.3 9.45l-7.72 7.72c-.78.78-.78 2.05 0 2.83L4 21.41c.39.39.9.59 1.41.59.51 0 1.02-.2 1.41-.59l7.78-7.78 2.81-2.81c.8-.78.8-2.07 0-2.86zM5.41 20L4 18.59l7.72-7.72 1.47 1.35L5.41 20z\"/>\n",
              "  </svg>\n",
              "      </button>\n",
              "\n",
              "\n",
              "\n",
              "    <div id=\"df-ae2b15b7-6c42-404a-9be8-f8db1a89606e\">\n",
              "      <button class=\"colab-df-quickchart\" onclick=\"quickchart('df-ae2b15b7-6c42-404a-9be8-f8db1a89606e')\"\n",
              "              title=\"Suggest charts.\"\n",
              "              style=\"display:none;\">\n",
              "\n",
              "<svg xmlns=\"http://www.w3.org/2000/svg\" height=\"24px\"viewBox=\"0 0 24 24\"\n",
              "     width=\"24px\">\n",
              "    <g>\n",
              "        <path d=\"M19 3H5c-1.1 0-2 .9-2 2v14c0 1.1.9 2 2 2h14c1.1 0 2-.9 2-2V5c0-1.1-.9-2-2-2zM9 17H7v-7h2v7zm4 0h-2V7h2v10zm4 0h-2v-4h2v4z\"/>\n",
              "    </g>\n",
              "</svg>\n",
              "      </button>\n",
              "    </div>\n",
              "\n",
              "<style>\n",
              "  .colab-df-quickchart {\n",
              "    background-color: #E8F0FE;\n",
              "    border: none;\n",
              "    border-radius: 50%;\n",
              "    cursor: pointer;\n",
              "    display: none;\n",
              "    fill: #1967D2;\n",
              "    height: 32px;\n",
              "    padding: 0 0 0 0;\n",
              "    width: 32px;\n",
              "  }\n",
              "\n",
              "  .colab-df-quickchart:hover {\n",
              "    background-color: #E2EBFA;\n",
              "    box-shadow: 0px 1px 2px rgba(60, 64, 67, 0.3), 0px 1px 3px 1px rgba(60, 64, 67, 0.15);\n",
              "    fill: #174EA6;\n",
              "  }\n",
              "\n",
              "  [theme=dark] .colab-df-quickchart {\n",
              "    background-color: #3B4455;\n",
              "    fill: #D2E3FC;\n",
              "  }\n",
              "\n",
              "  [theme=dark] .colab-df-quickchart:hover {\n",
              "    background-color: #434B5C;\n",
              "    box-shadow: 0px 1px 3px 1px rgba(0, 0, 0, 0.15);\n",
              "    filter: drop-shadow(0px 1px 2px rgba(0, 0, 0, 0.3));\n",
              "    fill: #FFFFFF;\n",
              "  }\n",
              "</style>\n",
              "\n",
              "    <script>\n",
              "      async function quickchart(key) {\n",
              "        const containerElement = document.querySelector('#' + key);\n",
              "        const charts = await google.colab.kernel.invokeFunction(\n",
              "            'suggestCharts', [key], {});\n",
              "      }\n",
              "    </script>\n",
              "\n",
              "      <script>\n",
              "\n",
              "function displayQuickchartButton(domScope) {\n",
              "  let quickchartButtonEl =\n",
              "    domScope.querySelector('#df-ae2b15b7-6c42-404a-9be8-f8db1a89606e button.colab-df-quickchart');\n",
              "  quickchartButtonEl.style.display =\n",
              "    google.colab.kernel.accessAllowed ? 'block' : 'none';\n",
              "}\n",
              "\n",
              "        displayQuickchartButton(document);\n",
              "      </script>\n",
              "      <style>\n",
              "    .colab-df-container {\n",
              "      display:flex;\n",
              "      flex-wrap:wrap;\n",
              "      gap: 12px;\n",
              "    }\n",
              "\n",
              "    .colab-df-convert {\n",
              "      background-color: #E8F0FE;\n",
              "      border: none;\n",
              "      border-radius: 50%;\n",
              "      cursor: pointer;\n",
              "      display: none;\n",
              "      fill: #1967D2;\n",
              "      height: 32px;\n",
              "      padding: 0 0 0 0;\n",
              "      width: 32px;\n",
              "    }\n",
              "\n",
              "    .colab-df-convert:hover {\n",
              "      background-color: #E2EBFA;\n",
              "      box-shadow: 0px 1px 2px rgba(60, 64, 67, 0.3), 0px 1px 3px 1px rgba(60, 64, 67, 0.15);\n",
              "      fill: #174EA6;\n",
              "    }\n",
              "\n",
              "    [theme=dark] .colab-df-convert {\n",
              "      background-color: #3B4455;\n",
              "      fill: #D2E3FC;\n",
              "    }\n",
              "\n",
              "    [theme=dark] .colab-df-convert:hover {\n",
              "      background-color: #434B5C;\n",
              "      box-shadow: 0px 1px 3px 1px rgba(0, 0, 0, 0.15);\n",
              "      filter: drop-shadow(0px 1px 2px rgba(0, 0, 0, 0.3));\n",
              "      fill: #FFFFFF;\n",
              "    }\n",
              "  </style>\n",
              "\n",
              "      <script>\n",
              "        const buttonEl =\n",
              "          document.querySelector('#df-abb2075b-7ddc-474e-bf4f-bd903a302adc button.colab-df-convert');\n",
              "        buttonEl.style.display =\n",
              "          google.colab.kernel.accessAllowed ? 'block' : 'none';\n",
              "\n",
              "        async function convertToInteractive(key) {\n",
              "          const element = document.querySelector('#df-abb2075b-7ddc-474e-bf4f-bd903a302adc');\n",
              "          const dataTable =\n",
              "            await google.colab.kernel.invokeFunction('convertToInteractive',\n",
              "                                                     [key], {});\n",
              "          if (!dataTable) return;\n",
              "\n",
              "          const docLinkHtml = 'Like what you see? Visit the ' +\n",
              "            '<a target=\"_blank\" href=https://colab.research.google.com/notebooks/data_table.ipynb>data table notebook</a>'\n",
              "            + ' to learn more about interactive tables.';\n",
              "          element.innerHTML = '';\n",
              "          dataTable['output_type'] = 'display_data';\n",
              "          await google.colab.output.renderOutput(dataTable, element);\n",
              "          const docLink = document.createElement('div');\n",
              "          docLink.innerHTML = docLinkHtml;\n",
              "          element.appendChild(docLink);\n",
              "        }\n",
              "      </script>\n",
              "    </div>\n",
              "  </div>\n"
            ]
          },
          "metadata": {},
          "execution_count": 43
        }
      ],
      "source": [
        "df[df[\"Qty Shipped\"] == 0].head(5)"
      ]
    },
    {
      "cell_type": "code",
      "execution_count": 44,
      "metadata": {
        "id": "M3LbaZ9MH2bu"
      },
      "outputs": [],
      "source": [
        "# dropping retours (orders with negative Qty shipped) and zero Qty shipped orders\n",
        "df = df[df[\"Qty Shipped\"]> 0]"
      ]
    },
    {
      "cell_type": "code",
      "execution_count": 45,
      "metadata": {
        "id": "Y5D17B6bLqLE"
      },
      "outputs": [],
      "source": [
        "# dropping backlog invoices\n",
        "df = df[df[\"Entry Date\"] >= '2022-10-01 00:00:00']"
      ]
    },
    {
      "cell_type": "code",
      "execution_count": 46,
      "metadata": {
        "id": "ZB1YMbpJL6zv",
        "colab": {
          "base_uri": "https://localhost:8080/"
        },
        "outputId": "b58c6852-bf78-4726-ce71-a387fe9a5550"
      },
      "outputs": [
        {
          "output_type": "execute_result",
          "data": {
            "text/plain": [
              "685862"
            ]
          },
          "metadata": {},
          "execution_count": 46
        }
      ],
      "source": [
        "len(df)"
      ]
    },
    {
      "cell_type": "code",
      "execution_count": 47,
      "metadata": {
        "id": "eMIdCDNKIDfd"
      },
      "outputs": [],
      "source": [
        "# implementing a purchase frequency counter helper\n",
        "df.loc[:, \"purchase\"] = 1"
      ]
    },
    {
      "cell_type": "markdown",
      "metadata": {
        "id": "xCZUKvDGgKX8"
      },
      "source": [
        "## User and sku unqiue list"
      ]
    },
    {
      "cell_type": "code",
      "execution_count": 48,
      "metadata": {
        "id": "hkI3F1ZMgOEV"
      },
      "outputs": [],
      "source": [
        "# Create a numeric user_id and artist_id column\n",
        "df['BranchCustomerNbr'] = df['BranchCustomerNbr'].astype(\"category\")\n",
        "df['Sku'] = df['Sku'].astype(\"category\")\n",
        "df['bcn_id'] = df['BranchCustomerNbr'].cat.codes\n",
        "df['sku_id'] = df['Sku'].cat.codes"
      ]
    },
    {
      "cell_type": "code",
      "execution_count": 49,
      "metadata": {
        "id": "7Z6g08c0IIii"
      },
      "outputs": [],
      "source": [
        "df_1 = df[[\"bcn_id\",\"sku_id\",\"Qty Shipped\", \"purchase\"]]"
      ]
    },
    {
      "cell_type": "code",
      "execution_count": 50,
      "metadata": {
        "id": "Ux8FeAKkI_mP",
        "colab": {
          "base_uri": "https://localhost:8080/"
        },
        "outputId": "ed49b89f-e112-4d58-d702-43e5061cd518"
      },
      "outputs": [
        {
          "output_type": "stream",
          "name": "stdout",
          "text": [
            "<class 'pandas.core.frame.DataFrame'>\n",
            "Int64Index: 685862 entries, 7402 to 2220294\n",
            "Data columns (total 4 columns):\n",
            " #   Column       Non-Null Count   Dtype  \n",
            "---  ------       --------------   -----  \n",
            " 0   bcn_id       685862 non-null  int16  \n",
            " 1   sku_id       685862 non-null  int32  \n",
            " 2   Qty Shipped  685862 non-null  float64\n",
            " 3   purchase     685862 non-null  int64  \n",
            "dtypes: float64(1), int16(1), int32(1), int64(1)\n",
            "memory usage: 19.6 MB\n"
          ]
        }
      ],
      "source": [
        "df_1.info()"
      ]
    },
    {
      "cell_type": "code",
      "execution_count": 75,
      "metadata": {
        "id": "u4LHTPjWKwks"
      },
      "outputs": [],
      "source": [
        "grouped_df = df.groupby([\"bcn_id\", \"sku_id\"]).agg({\n",
        "    \"purchase\": \"sum\"\n",
        "}).reset_index()"
      ]
    },
    {
      "cell_type": "code",
      "source": [
        "grouped_df"
      ],
      "metadata": {
        "colab": {
          "base_uri": "https://localhost:8080/",
          "height": 424
        },
        "id": "PYK3RQT79HrV",
        "outputId": "9e80be28-ee6b-4bf8-8920-64c05fc197a2"
      },
      "execution_count": 76,
      "outputs": [
        {
          "output_type": "execute_result",
          "data": {
            "text/plain": [
              "        bcn_id  sku_id  purchase\n",
              "0            0    2276         1\n",
              "1            0    2277         2\n",
              "2            0    2796         1\n",
              "3            0    4417         1\n",
              "4            0    5535         1\n",
              "...        ...     ...       ...\n",
              "284193    9885    1816         2\n",
              "284194    9885   28315         2\n",
              "284195    9886   26057         1\n",
              "284196    9887   28303         1\n",
              "284197    9888   31132         1\n",
              "\n",
              "[284198 rows x 3 columns]"
            ],
            "text/html": [
              "\n",
              "\n",
              "  <div id=\"df-374382d3-d3ed-45d1-8bcd-664cc1b940d8\">\n",
              "    <div class=\"colab-df-container\">\n",
              "      <div>\n",
              "<style scoped>\n",
              "    .dataframe tbody tr th:only-of-type {\n",
              "        vertical-align: middle;\n",
              "    }\n",
              "\n",
              "    .dataframe tbody tr th {\n",
              "        vertical-align: top;\n",
              "    }\n",
              "\n",
              "    .dataframe thead th {\n",
              "        text-align: right;\n",
              "    }\n",
              "</style>\n",
              "<table border=\"1\" class=\"dataframe\">\n",
              "  <thead>\n",
              "    <tr style=\"text-align: right;\">\n",
              "      <th></th>\n",
              "      <th>bcn_id</th>\n",
              "      <th>sku_id</th>\n",
              "      <th>purchase</th>\n",
              "    </tr>\n",
              "  </thead>\n",
              "  <tbody>\n",
              "    <tr>\n",
              "      <th>0</th>\n",
              "      <td>0</td>\n",
              "      <td>2276</td>\n",
              "      <td>1</td>\n",
              "    </tr>\n",
              "    <tr>\n",
              "      <th>1</th>\n",
              "      <td>0</td>\n",
              "      <td>2277</td>\n",
              "      <td>2</td>\n",
              "    </tr>\n",
              "    <tr>\n",
              "      <th>2</th>\n",
              "      <td>0</td>\n",
              "      <td>2796</td>\n",
              "      <td>1</td>\n",
              "    </tr>\n",
              "    <tr>\n",
              "      <th>3</th>\n",
              "      <td>0</td>\n",
              "      <td>4417</td>\n",
              "      <td>1</td>\n",
              "    </tr>\n",
              "    <tr>\n",
              "      <th>4</th>\n",
              "      <td>0</td>\n",
              "      <td>5535</td>\n",
              "      <td>1</td>\n",
              "    </tr>\n",
              "    <tr>\n",
              "      <th>...</th>\n",
              "      <td>...</td>\n",
              "      <td>...</td>\n",
              "      <td>...</td>\n",
              "    </tr>\n",
              "    <tr>\n",
              "      <th>284193</th>\n",
              "      <td>9885</td>\n",
              "      <td>1816</td>\n",
              "      <td>2</td>\n",
              "    </tr>\n",
              "    <tr>\n",
              "      <th>284194</th>\n",
              "      <td>9885</td>\n",
              "      <td>28315</td>\n",
              "      <td>2</td>\n",
              "    </tr>\n",
              "    <tr>\n",
              "      <th>284195</th>\n",
              "      <td>9886</td>\n",
              "      <td>26057</td>\n",
              "      <td>1</td>\n",
              "    </tr>\n",
              "    <tr>\n",
              "      <th>284196</th>\n",
              "      <td>9887</td>\n",
              "      <td>28303</td>\n",
              "      <td>1</td>\n",
              "    </tr>\n",
              "    <tr>\n",
              "      <th>284197</th>\n",
              "      <td>9888</td>\n",
              "      <td>31132</td>\n",
              "      <td>1</td>\n",
              "    </tr>\n",
              "  </tbody>\n",
              "</table>\n",
              "<p>284198 rows × 3 columns</p>\n",
              "</div>\n",
              "      <button class=\"colab-df-convert\" onclick=\"convertToInteractive('df-374382d3-d3ed-45d1-8bcd-664cc1b940d8')\"\n",
              "              title=\"Convert this dataframe to an interactive table.\"\n",
              "              style=\"display:none;\">\n",
              "\n",
              "  <svg xmlns=\"http://www.w3.org/2000/svg\" height=\"24px\"viewBox=\"0 0 24 24\"\n",
              "       width=\"24px\">\n",
              "    <path d=\"M0 0h24v24H0V0z\" fill=\"none\"/>\n",
              "    <path d=\"M18.56 5.44l.94 2.06.94-2.06 2.06-.94-2.06-.94-.94-2.06-.94 2.06-2.06.94zm-11 1L8.5 8.5l.94-2.06 2.06-.94-2.06-.94L8.5 2.5l-.94 2.06-2.06.94zm10 10l.94 2.06.94-2.06 2.06-.94-2.06-.94-.94-2.06-.94 2.06-2.06.94z\"/><path d=\"M17.41 7.96l-1.37-1.37c-.4-.4-.92-.59-1.43-.59-.52 0-1.04.2-1.43.59L10.3 9.45l-7.72 7.72c-.78.78-.78 2.05 0 2.83L4 21.41c.39.39.9.59 1.41.59.51 0 1.02-.2 1.41-.59l7.78-7.78 2.81-2.81c.8-.78.8-2.07 0-2.86zM5.41 20L4 18.59l7.72-7.72 1.47 1.35L5.41 20z\"/>\n",
              "  </svg>\n",
              "      </button>\n",
              "\n",
              "\n",
              "\n",
              "    <div id=\"df-7ea75886-aefa-4c39-9406-1dca82f3a773\">\n",
              "      <button class=\"colab-df-quickchart\" onclick=\"quickchart('df-7ea75886-aefa-4c39-9406-1dca82f3a773')\"\n",
              "              title=\"Suggest charts.\"\n",
              "              style=\"display:none;\">\n",
              "\n",
              "<svg xmlns=\"http://www.w3.org/2000/svg\" height=\"24px\"viewBox=\"0 0 24 24\"\n",
              "     width=\"24px\">\n",
              "    <g>\n",
              "        <path d=\"M19 3H5c-1.1 0-2 .9-2 2v14c0 1.1.9 2 2 2h14c1.1 0 2-.9 2-2V5c0-1.1-.9-2-2-2zM9 17H7v-7h2v7zm4 0h-2V7h2v10zm4 0h-2v-4h2v4z\"/>\n",
              "    </g>\n",
              "</svg>\n",
              "      </button>\n",
              "    </div>\n",
              "\n",
              "<style>\n",
              "  .colab-df-quickchart {\n",
              "    background-color: #E8F0FE;\n",
              "    border: none;\n",
              "    border-radius: 50%;\n",
              "    cursor: pointer;\n",
              "    display: none;\n",
              "    fill: #1967D2;\n",
              "    height: 32px;\n",
              "    padding: 0 0 0 0;\n",
              "    width: 32px;\n",
              "  }\n",
              "\n",
              "  .colab-df-quickchart:hover {\n",
              "    background-color: #E2EBFA;\n",
              "    box-shadow: 0px 1px 2px rgba(60, 64, 67, 0.3), 0px 1px 3px 1px rgba(60, 64, 67, 0.15);\n",
              "    fill: #174EA6;\n",
              "  }\n",
              "\n",
              "  [theme=dark] .colab-df-quickchart {\n",
              "    background-color: #3B4455;\n",
              "    fill: #D2E3FC;\n",
              "  }\n",
              "\n",
              "  [theme=dark] .colab-df-quickchart:hover {\n",
              "    background-color: #434B5C;\n",
              "    box-shadow: 0px 1px 3px 1px rgba(0, 0, 0, 0.15);\n",
              "    filter: drop-shadow(0px 1px 2px rgba(0, 0, 0, 0.3));\n",
              "    fill: #FFFFFF;\n",
              "  }\n",
              "</style>\n",
              "\n",
              "    <script>\n",
              "      async function quickchart(key) {\n",
              "        const containerElement = document.querySelector('#' + key);\n",
              "        const charts = await google.colab.kernel.invokeFunction(\n",
              "            'suggestCharts', [key], {});\n",
              "      }\n",
              "    </script>\n",
              "\n",
              "      <script>\n",
              "\n",
              "function displayQuickchartButton(domScope) {\n",
              "  let quickchartButtonEl =\n",
              "    domScope.querySelector('#df-7ea75886-aefa-4c39-9406-1dca82f3a773 button.colab-df-quickchart');\n",
              "  quickchartButtonEl.style.display =\n",
              "    google.colab.kernel.accessAllowed ? 'block' : 'none';\n",
              "}\n",
              "\n",
              "        displayQuickchartButton(document);\n",
              "      </script>\n",
              "      <style>\n",
              "    .colab-df-container {\n",
              "      display:flex;\n",
              "      flex-wrap:wrap;\n",
              "      gap: 12px;\n",
              "    }\n",
              "\n",
              "    .colab-df-convert {\n",
              "      background-color: #E8F0FE;\n",
              "      border: none;\n",
              "      border-radius: 50%;\n",
              "      cursor: pointer;\n",
              "      display: none;\n",
              "      fill: #1967D2;\n",
              "      height: 32px;\n",
              "      padding: 0 0 0 0;\n",
              "      width: 32px;\n",
              "    }\n",
              "\n",
              "    .colab-df-convert:hover {\n",
              "      background-color: #E2EBFA;\n",
              "      box-shadow: 0px 1px 2px rgba(60, 64, 67, 0.3), 0px 1px 3px 1px rgba(60, 64, 67, 0.15);\n",
              "      fill: #174EA6;\n",
              "    }\n",
              "\n",
              "    [theme=dark] .colab-df-convert {\n",
              "      background-color: #3B4455;\n",
              "      fill: #D2E3FC;\n",
              "    }\n",
              "\n",
              "    [theme=dark] .colab-df-convert:hover {\n",
              "      background-color: #434B5C;\n",
              "      box-shadow: 0px 1px 3px 1px rgba(0, 0, 0, 0.15);\n",
              "      filter: drop-shadow(0px 1px 2px rgba(0, 0, 0, 0.3));\n",
              "      fill: #FFFFFF;\n",
              "    }\n",
              "  </style>\n",
              "\n",
              "      <script>\n",
              "        const buttonEl =\n",
              "          document.querySelector('#df-374382d3-d3ed-45d1-8bcd-664cc1b940d8 button.colab-df-convert');\n",
              "        buttonEl.style.display =\n",
              "          google.colab.kernel.accessAllowed ? 'block' : 'none';\n",
              "\n",
              "        async function convertToInteractive(key) {\n",
              "          const element = document.querySelector('#df-374382d3-d3ed-45d1-8bcd-664cc1b940d8');\n",
              "          const dataTable =\n",
              "            await google.colab.kernel.invokeFunction('convertToInteractive',\n",
              "                                                     [key], {});\n",
              "          if (!dataTable) return;\n",
              "\n",
              "          const docLinkHtml = 'Like what you see? Visit the ' +\n",
              "            '<a target=\"_blank\" href=https://colab.research.google.com/notebooks/data_table.ipynb>data table notebook</a>'\n",
              "            + ' to learn more about interactive tables.';\n",
              "          element.innerHTML = '';\n",
              "          dataTable['output_type'] = 'display_data';\n",
              "          await google.colab.output.renderOutput(dataTable, element);\n",
              "          const docLink = document.createElement('div');\n",
              "          docLink.innerHTML = docLinkHtml;\n",
              "          element.appendChild(docLink);\n",
              "        }\n",
              "      </script>\n",
              "    </div>\n",
              "  </div>\n"
            ]
          },
          "metadata": {},
          "execution_count": 76
        }
      ]
    },
    {
      "cell_type": "code",
      "source": [
        "grouped_df_binary = grouped_df[[\"bcn_id\", \"sku_id\", \"purchase\"]]\n",
        "grouped_df_binary[\"purchase\"] = 1\n",
        "grouped_df_binary"
      ],
      "metadata": {
        "id": "b253nXCn7dqa",
        "colab": {
          "base_uri": "https://localhost:8080/",
          "height": 424
        },
        "outputId": "8928838e-89cc-4eff-de90-2d5631edd9a4"
      },
      "execution_count": 77,
      "outputs": [
        {
          "output_type": "execute_result",
          "data": {
            "text/plain": [
              "        bcn_id  sku_id  purchase\n",
              "0            0    2276         1\n",
              "1            0    2277         1\n",
              "2            0    2796         1\n",
              "3            0    4417         1\n",
              "4            0    5535         1\n",
              "...        ...     ...       ...\n",
              "284193    9885    1816         1\n",
              "284194    9885   28315         1\n",
              "284195    9886   26057         1\n",
              "284196    9887   28303         1\n",
              "284197    9888   31132         1\n",
              "\n",
              "[284198 rows x 3 columns]"
            ],
            "text/html": [
              "\n",
              "\n",
              "  <div id=\"df-fcafe434-2027-407f-9a8a-dc8014d32ea9\">\n",
              "    <div class=\"colab-df-container\">\n",
              "      <div>\n",
              "<style scoped>\n",
              "    .dataframe tbody tr th:only-of-type {\n",
              "        vertical-align: middle;\n",
              "    }\n",
              "\n",
              "    .dataframe tbody tr th {\n",
              "        vertical-align: top;\n",
              "    }\n",
              "\n",
              "    .dataframe thead th {\n",
              "        text-align: right;\n",
              "    }\n",
              "</style>\n",
              "<table border=\"1\" class=\"dataframe\">\n",
              "  <thead>\n",
              "    <tr style=\"text-align: right;\">\n",
              "      <th></th>\n",
              "      <th>bcn_id</th>\n",
              "      <th>sku_id</th>\n",
              "      <th>purchase</th>\n",
              "    </tr>\n",
              "  </thead>\n",
              "  <tbody>\n",
              "    <tr>\n",
              "      <th>0</th>\n",
              "      <td>0</td>\n",
              "      <td>2276</td>\n",
              "      <td>1</td>\n",
              "    </tr>\n",
              "    <tr>\n",
              "      <th>1</th>\n",
              "      <td>0</td>\n",
              "      <td>2277</td>\n",
              "      <td>1</td>\n",
              "    </tr>\n",
              "    <tr>\n",
              "      <th>2</th>\n",
              "      <td>0</td>\n",
              "      <td>2796</td>\n",
              "      <td>1</td>\n",
              "    </tr>\n",
              "    <tr>\n",
              "      <th>3</th>\n",
              "      <td>0</td>\n",
              "      <td>4417</td>\n",
              "      <td>1</td>\n",
              "    </tr>\n",
              "    <tr>\n",
              "      <th>4</th>\n",
              "      <td>0</td>\n",
              "      <td>5535</td>\n",
              "      <td>1</td>\n",
              "    </tr>\n",
              "    <tr>\n",
              "      <th>...</th>\n",
              "      <td>...</td>\n",
              "      <td>...</td>\n",
              "      <td>...</td>\n",
              "    </tr>\n",
              "    <tr>\n",
              "      <th>284193</th>\n",
              "      <td>9885</td>\n",
              "      <td>1816</td>\n",
              "      <td>1</td>\n",
              "    </tr>\n",
              "    <tr>\n",
              "      <th>284194</th>\n",
              "      <td>9885</td>\n",
              "      <td>28315</td>\n",
              "      <td>1</td>\n",
              "    </tr>\n",
              "    <tr>\n",
              "      <th>284195</th>\n",
              "      <td>9886</td>\n",
              "      <td>26057</td>\n",
              "      <td>1</td>\n",
              "    </tr>\n",
              "    <tr>\n",
              "      <th>284196</th>\n",
              "      <td>9887</td>\n",
              "      <td>28303</td>\n",
              "      <td>1</td>\n",
              "    </tr>\n",
              "    <tr>\n",
              "      <th>284197</th>\n",
              "      <td>9888</td>\n",
              "      <td>31132</td>\n",
              "      <td>1</td>\n",
              "    </tr>\n",
              "  </tbody>\n",
              "</table>\n",
              "<p>284198 rows × 3 columns</p>\n",
              "</div>\n",
              "      <button class=\"colab-df-convert\" onclick=\"convertToInteractive('df-fcafe434-2027-407f-9a8a-dc8014d32ea9')\"\n",
              "              title=\"Convert this dataframe to an interactive table.\"\n",
              "              style=\"display:none;\">\n",
              "\n",
              "  <svg xmlns=\"http://www.w3.org/2000/svg\" height=\"24px\"viewBox=\"0 0 24 24\"\n",
              "       width=\"24px\">\n",
              "    <path d=\"M0 0h24v24H0V0z\" fill=\"none\"/>\n",
              "    <path d=\"M18.56 5.44l.94 2.06.94-2.06 2.06-.94-2.06-.94-.94-2.06-.94 2.06-2.06.94zm-11 1L8.5 8.5l.94-2.06 2.06-.94-2.06-.94L8.5 2.5l-.94 2.06-2.06.94zm10 10l.94 2.06.94-2.06 2.06-.94-2.06-.94-.94-2.06-.94 2.06-2.06.94z\"/><path d=\"M17.41 7.96l-1.37-1.37c-.4-.4-.92-.59-1.43-.59-.52 0-1.04.2-1.43.59L10.3 9.45l-7.72 7.72c-.78.78-.78 2.05 0 2.83L4 21.41c.39.39.9.59 1.41.59.51 0 1.02-.2 1.41-.59l7.78-7.78 2.81-2.81c.8-.78.8-2.07 0-2.86zM5.41 20L4 18.59l7.72-7.72 1.47 1.35L5.41 20z\"/>\n",
              "  </svg>\n",
              "      </button>\n",
              "\n",
              "\n",
              "\n",
              "    <div id=\"df-bd4595be-444c-4665-8dce-12000b26e5d2\">\n",
              "      <button class=\"colab-df-quickchart\" onclick=\"quickchart('df-bd4595be-444c-4665-8dce-12000b26e5d2')\"\n",
              "              title=\"Suggest charts.\"\n",
              "              style=\"display:none;\">\n",
              "\n",
              "<svg xmlns=\"http://www.w3.org/2000/svg\" height=\"24px\"viewBox=\"0 0 24 24\"\n",
              "     width=\"24px\">\n",
              "    <g>\n",
              "        <path d=\"M19 3H5c-1.1 0-2 .9-2 2v14c0 1.1.9 2 2 2h14c1.1 0 2-.9 2-2V5c0-1.1-.9-2-2-2zM9 17H7v-7h2v7zm4 0h-2V7h2v10zm4 0h-2v-4h2v4z\"/>\n",
              "    </g>\n",
              "</svg>\n",
              "      </button>\n",
              "    </div>\n",
              "\n",
              "<style>\n",
              "  .colab-df-quickchart {\n",
              "    background-color: #E8F0FE;\n",
              "    border: none;\n",
              "    border-radius: 50%;\n",
              "    cursor: pointer;\n",
              "    display: none;\n",
              "    fill: #1967D2;\n",
              "    height: 32px;\n",
              "    padding: 0 0 0 0;\n",
              "    width: 32px;\n",
              "  }\n",
              "\n",
              "  .colab-df-quickchart:hover {\n",
              "    background-color: #E2EBFA;\n",
              "    box-shadow: 0px 1px 2px rgba(60, 64, 67, 0.3), 0px 1px 3px 1px rgba(60, 64, 67, 0.15);\n",
              "    fill: #174EA6;\n",
              "  }\n",
              "\n",
              "  [theme=dark] .colab-df-quickchart {\n",
              "    background-color: #3B4455;\n",
              "    fill: #D2E3FC;\n",
              "  }\n",
              "\n",
              "  [theme=dark] .colab-df-quickchart:hover {\n",
              "    background-color: #434B5C;\n",
              "    box-shadow: 0px 1px 3px 1px rgba(0, 0, 0, 0.15);\n",
              "    filter: drop-shadow(0px 1px 2px rgba(0, 0, 0, 0.3));\n",
              "    fill: #FFFFFF;\n",
              "  }\n",
              "</style>\n",
              "\n",
              "    <script>\n",
              "      async function quickchart(key) {\n",
              "        const containerElement = document.querySelector('#' + key);\n",
              "        const charts = await google.colab.kernel.invokeFunction(\n",
              "            'suggestCharts', [key], {});\n",
              "      }\n",
              "    </script>\n",
              "\n",
              "      <script>\n",
              "\n",
              "function displayQuickchartButton(domScope) {\n",
              "  let quickchartButtonEl =\n",
              "    domScope.querySelector('#df-bd4595be-444c-4665-8dce-12000b26e5d2 button.colab-df-quickchart');\n",
              "  quickchartButtonEl.style.display =\n",
              "    google.colab.kernel.accessAllowed ? 'block' : 'none';\n",
              "}\n",
              "\n",
              "        displayQuickchartButton(document);\n",
              "      </script>\n",
              "      <style>\n",
              "    .colab-df-container {\n",
              "      display:flex;\n",
              "      flex-wrap:wrap;\n",
              "      gap: 12px;\n",
              "    }\n",
              "\n",
              "    .colab-df-convert {\n",
              "      background-color: #E8F0FE;\n",
              "      border: none;\n",
              "      border-radius: 50%;\n",
              "      cursor: pointer;\n",
              "      display: none;\n",
              "      fill: #1967D2;\n",
              "      height: 32px;\n",
              "      padding: 0 0 0 0;\n",
              "      width: 32px;\n",
              "    }\n",
              "\n",
              "    .colab-df-convert:hover {\n",
              "      background-color: #E2EBFA;\n",
              "      box-shadow: 0px 1px 2px rgba(60, 64, 67, 0.3), 0px 1px 3px 1px rgba(60, 64, 67, 0.15);\n",
              "      fill: #174EA6;\n",
              "    }\n",
              "\n",
              "    [theme=dark] .colab-df-convert {\n",
              "      background-color: #3B4455;\n",
              "      fill: #D2E3FC;\n",
              "    }\n",
              "\n",
              "    [theme=dark] .colab-df-convert:hover {\n",
              "      background-color: #434B5C;\n",
              "      box-shadow: 0px 1px 3px 1px rgba(0, 0, 0, 0.15);\n",
              "      filter: drop-shadow(0px 1px 2px rgba(0, 0, 0, 0.3));\n",
              "      fill: #FFFFFF;\n",
              "    }\n",
              "  </style>\n",
              "\n",
              "      <script>\n",
              "        const buttonEl =\n",
              "          document.querySelector('#df-fcafe434-2027-407f-9a8a-dc8014d32ea9 button.colab-df-convert');\n",
              "        buttonEl.style.display =\n",
              "          google.colab.kernel.accessAllowed ? 'block' : 'none';\n",
              "\n",
              "        async function convertToInteractive(key) {\n",
              "          const element = document.querySelector('#df-fcafe434-2027-407f-9a8a-dc8014d32ea9');\n",
              "          const dataTable =\n",
              "            await google.colab.kernel.invokeFunction('convertToInteractive',\n",
              "                                                     [key], {});\n",
              "          if (!dataTable) return;\n",
              "\n",
              "          const docLinkHtml = 'Like what you see? Visit the ' +\n",
              "            '<a target=\"_blank\" href=https://colab.research.google.com/notebooks/data_table.ipynb>data table notebook</a>'\n",
              "            + ' to learn more about interactive tables.';\n",
              "          element.innerHTML = '';\n",
              "          dataTable['output_type'] = 'display_data';\n",
              "          await google.colab.output.renderOutput(dataTable, element);\n",
              "          const docLink = document.createElement('div');\n",
              "          docLink.innerHTML = docLinkHtml;\n",
              "          element.appendChild(docLink);\n",
              "        }\n",
              "      </script>\n",
              "    </div>\n",
              "  </div>\n"
            ]
          },
          "metadata": {},
          "execution_count": 77
        }
      ]
    },
    {
      "cell_type": "code",
      "source": [
        "def train_test_split(df, holdout_num):\n",
        "    \"\"\" perform training testing split\n",
        "\n",
        "    @param df: dataframe\n",
        "    @param holdhout_num: number of items to be held out per user as testing items\n",
        "\n",
        "    @return df_train: training data\n",
        "    @return df_test testing data\n",
        "\n",
        "    \"\"\"\n",
        "    # perform deep copy to avoid modification on the original dataframe\n",
        "    df_train = df.copy(deep=True)\n",
        "    df_test = df.copy(deep=True)\n",
        "\n",
        "    # get test set\n",
        "    df_test = df_test.groupby(['bcn_id']).head(holdout_num).reset_index()\n",
        "\n",
        "    # get train set\n",
        "    df_train = df_train.merge(\n",
        "        df_test[['bcn_id', 'sku_id']].assign(remove=1),\n",
        "        how='left'\n",
        "    ).query('remove != 1').drop('remove', 1).reset_index(drop=True)\n",
        "\n",
        "    # drop index\n",
        "    df_test = df_test.drop(columns=[\"index\"])\n",
        "\n",
        "    # sanity check to make sure we're not duplicating/losing data\n",
        "    assert len(df) == len(df_train) + len(df_test)\n",
        "\n",
        "    return df_train, df_test"
      ],
      "metadata": {
        "id": "7pcC0p8f7W9w"
      },
      "execution_count": 78,
      "outputs": []
    },
    {
      "cell_type": "code",
      "source": [
        "df_train_binary, df_test_binary = train_test_split(grouped_df_binary, 1)"
      ],
      "metadata": {
        "colab": {
          "base_uri": "https://localhost:8080/"
        },
        "id": "zAxm5BYEtxwI",
        "outputId": "64be2cd9-2d6b-4553-f793-b85b2bd8acaa"
      },
      "execution_count": 79,
      "outputs": [
        {
          "output_type": "stream",
          "name": "stderr",
          "text": [
            "<ipython-input-78-adb5a8f5b6e1>:22: FutureWarning: In a future version of pandas all arguments of DataFrame.drop except for the argument 'labels' will be keyword-only.\n",
            "  ).query('remove != 1').drop('remove', 1).reset_index(drop=True)\n"
          ]
        }
      ]
    },
    {
      "cell_type": "code",
      "source": [
        "df_train, df_test = train_test_split(grouped_df, 1)"
      ],
      "metadata": {
        "colab": {
          "base_uri": "https://localhost:8080/"
        },
        "id": "c96QTNpU7SZ-",
        "outputId": "cf773d9a-7775-49f5-9a56-f75c65d15c11"
      },
      "execution_count": 80,
      "outputs": [
        {
          "output_type": "stream",
          "name": "stderr",
          "text": [
            "<ipython-input-78-adb5a8f5b6e1>:22: FutureWarning: In a future version of pandas all arguments of DataFrame.drop except for the argument 'labels' will be keyword-only.\n",
            "  ).query('remove != 1').drop('remove', 1).reset_index(drop=True)\n"
          ]
        }
      ]
    },
    {
      "cell_type": "code",
      "source": [
        "df_train_binary"
      ],
      "metadata": {
        "colab": {
          "base_uri": "https://localhost:8080/",
          "height": 424
        },
        "id": "QD4iOHhG9jB3",
        "outputId": "44274a12-1d3a-4dbb-d393-252ba099df36"
      },
      "execution_count": 82,
      "outputs": [
        {
          "output_type": "execute_result",
          "data": {
            "text/plain": [
              "        bcn_id  sku_id  purchase\n",
              "0            0    2277         1\n",
              "1            0    2796         1\n",
              "2            0    4417         1\n",
              "3            0    5535         1\n",
              "4            0    6557         1\n",
              "...        ...     ...       ...\n",
              "274304    9880    8551         1\n",
              "274305    9880   26029         1\n",
              "274306    9880   30295         1\n",
              "274307    9880   42782         1\n",
              "274308    9885   28315         1\n",
              "\n",
              "[274309 rows x 3 columns]"
            ],
            "text/html": [
              "\n",
              "\n",
              "  <div id=\"df-ce53c8a6-204a-41ee-9226-84ce07b2d4e1\">\n",
              "    <div class=\"colab-df-container\">\n",
              "      <div>\n",
              "<style scoped>\n",
              "    .dataframe tbody tr th:only-of-type {\n",
              "        vertical-align: middle;\n",
              "    }\n",
              "\n",
              "    .dataframe tbody tr th {\n",
              "        vertical-align: top;\n",
              "    }\n",
              "\n",
              "    .dataframe thead th {\n",
              "        text-align: right;\n",
              "    }\n",
              "</style>\n",
              "<table border=\"1\" class=\"dataframe\">\n",
              "  <thead>\n",
              "    <tr style=\"text-align: right;\">\n",
              "      <th></th>\n",
              "      <th>bcn_id</th>\n",
              "      <th>sku_id</th>\n",
              "      <th>purchase</th>\n",
              "    </tr>\n",
              "  </thead>\n",
              "  <tbody>\n",
              "    <tr>\n",
              "      <th>0</th>\n",
              "      <td>0</td>\n",
              "      <td>2277</td>\n",
              "      <td>1</td>\n",
              "    </tr>\n",
              "    <tr>\n",
              "      <th>1</th>\n",
              "      <td>0</td>\n",
              "      <td>2796</td>\n",
              "      <td>1</td>\n",
              "    </tr>\n",
              "    <tr>\n",
              "      <th>2</th>\n",
              "      <td>0</td>\n",
              "      <td>4417</td>\n",
              "      <td>1</td>\n",
              "    </tr>\n",
              "    <tr>\n",
              "      <th>3</th>\n",
              "      <td>0</td>\n",
              "      <td>5535</td>\n",
              "      <td>1</td>\n",
              "    </tr>\n",
              "    <tr>\n",
              "      <th>4</th>\n",
              "      <td>0</td>\n",
              "      <td>6557</td>\n",
              "      <td>1</td>\n",
              "    </tr>\n",
              "    <tr>\n",
              "      <th>...</th>\n",
              "      <td>...</td>\n",
              "      <td>...</td>\n",
              "      <td>...</td>\n",
              "    </tr>\n",
              "    <tr>\n",
              "      <th>274304</th>\n",
              "      <td>9880</td>\n",
              "      <td>8551</td>\n",
              "      <td>1</td>\n",
              "    </tr>\n",
              "    <tr>\n",
              "      <th>274305</th>\n",
              "      <td>9880</td>\n",
              "      <td>26029</td>\n",
              "      <td>1</td>\n",
              "    </tr>\n",
              "    <tr>\n",
              "      <th>274306</th>\n",
              "      <td>9880</td>\n",
              "      <td>30295</td>\n",
              "      <td>1</td>\n",
              "    </tr>\n",
              "    <tr>\n",
              "      <th>274307</th>\n",
              "      <td>9880</td>\n",
              "      <td>42782</td>\n",
              "      <td>1</td>\n",
              "    </tr>\n",
              "    <tr>\n",
              "      <th>274308</th>\n",
              "      <td>9885</td>\n",
              "      <td>28315</td>\n",
              "      <td>1</td>\n",
              "    </tr>\n",
              "  </tbody>\n",
              "</table>\n",
              "<p>274309 rows × 3 columns</p>\n",
              "</div>\n",
              "      <button class=\"colab-df-convert\" onclick=\"convertToInteractive('df-ce53c8a6-204a-41ee-9226-84ce07b2d4e1')\"\n",
              "              title=\"Convert this dataframe to an interactive table.\"\n",
              "              style=\"display:none;\">\n",
              "\n",
              "  <svg xmlns=\"http://www.w3.org/2000/svg\" height=\"24px\"viewBox=\"0 0 24 24\"\n",
              "       width=\"24px\">\n",
              "    <path d=\"M0 0h24v24H0V0z\" fill=\"none\"/>\n",
              "    <path d=\"M18.56 5.44l.94 2.06.94-2.06 2.06-.94-2.06-.94-.94-2.06-.94 2.06-2.06.94zm-11 1L8.5 8.5l.94-2.06 2.06-.94-2.06-.94L8.5 2.5l-.94 2.06-2.06.94zm10 10l.94 2.06.94-2.06 2.06-.94-2.06-.94-.94-2.06-.94 2.06-2.06.94z\"/><path d=\"M17.41 7.96l-1.37-1.37c-.4-.4-.92-.59-1.43-.59-.52 0-1.04.2-1.43.59L10.3 9.45l-7.72 7.72c-.78.78-.78 2.05 0 2.83L4 21.41c.39.39.9.59 1.41.59.51 0 1.02-.2 1.41-.59l7.78-7.78 2.81-2.81c.8-.78.8-2.07 0-2.86zM5.41 20L4 18.59l7.72-7.72 1.47 1.35L5.41 20z\"/>\n",
              "  </svg>\n",
              "      </button>\n",
              "\n",
              "\n",
              "\n",
              "    <div id=\"df-49934653-bf61-488e-93c5-1cf0e8f175b6\">\n",
              "      <button class=\"colab-df-quickchart\" onclick=\"quickchart('df-49934653-bf61-488e-93c5-1cf0e8f175b6')\"\n",
              "              title=\"Suggest charts.\"\n",
              "              style=\"display:none;\">\n",
              "\n",
              "<svg xmlns=\"http://www.w3.org/2000/svg\" height=\"24px\"viewBox=\"0 0 24 24\"\n",
              "     width=\"24px\">\n",
              "    <g>\n",
              "        <path d=\"M19 3H5c-1.1 0-2 .9-2 2v14c0 1.1.9 2 2 2h14c1.1 0 2-.9 2-2V5c0-1.1-.9-2-2-2zM9 17H7v-7h2v7zm4 0h-2V7h2v10zm4 0h-2v-4h2v4z\"/>\n",
              "    </g>\n",
              "</svg>\n",
              "      </button>\n",
              "    </div>\n",
              "\n",
              "<style>\n",
              "  .colab-df-quickchart {\n",
              "    background-color: #E8F0FE;\n",
              "    border: none;\n",
              "    border-radius: 50%;\n",
              "    cursor: pointer;\n",
              "    display: none;\n",
              "    fill: #1967D2;\n",
              "    height: 32px;\n",
              "    padding: 0 0 0 0;\n",
              "    width: 32px;\n",
              "  }\n",
              "\n",
              "  .colab-df-quickchart:hover {\n",
              "    background-color: #E2EBFA;\n",
              "    box-shadow: 0px 1px 2px rgba(60, 64, 67, 0.3), 0px 1px 3px 1px rgba(60, 64, 67, 0.15);\n",
              "    fill: #174EA6;\n",
              "  }\n",
              "\n",
              "  [theme=dark] .colab-df-quickchart {\n",
              "    background-color: #3B4455;\n",
              "    fill: #D2E3FC;\n",
              "  }\n",
              "\n",
              "  [theme=dark] .colab-df-quickchart:hover {\n",
              "    background-color: #434B5C;\n",
              "    box-shadow: 0px 1px 3px 1px rgba(0, 0, 0, 0.15);\n",
              "    filter: drop-shadow(0px 1px 2px rgba(0, 0, 0, 0.3));\n",
              "    fill: #FFFFFF;\n",
              "  }\n",
              "</style>\n",
              "\n",
              "    <script>\n",
              "      async function quickchart(key) {\n",
              "        const containerElement = document.querySelector('#' + key);\n",
              "        const charts = await google.colab.kernel.invokeFunction(\n",
              "            'suggestCharts', [key], {});\n",
              "      }\n",
              "    </script>\n",
              "\n",
              "      <script>\n",
              "\n",
              "function displayQuickchartButton(domScope) {\n",
              "  let quickchartButtonEl =\n",
              "    domScope.querySelector('#df-49934653-bf61-488e-93c5-1cf0e8f175b6 button.colab-df-quickchart');\n",
              "  quickchartButtonEl.style.display =\n",
              "    google.colab.kernel.accessAllowed ? 'block' : 'none';\n",
              "}\n",
              "\n",
              "        displayQuickchartButton(document);\n",
              "      </script>\n",
              "      <style>\n",
              "    .colab-df-container {\n",
              "      display:flex;\n",
              "      flex-wrap:wrap;\n",
              "      gap: 12px;\n",
              "    }\n",
              "\n",
              "    .colab-df-convert {\n",
              "      background-color: #E8F0FE;\n",
              "      border: none;\n",
              "      border-radius: 50%;\n",
              "      cursor: pointer;\n",
              "      display: none;\n",
              "      fill: #1967D2;\n",
              "      height: 32px;\n",
              "      padding: 0 0 0 0;\n",
              "      width: 32px;\n",
              "    }\n",
              "\n",
              "    .colab-df-convert:hover {\n",
              "      background-color: #E2EBFA;\n",
              "      box-shadow: 0px 1px 2px rgba(60, 64, 67, 0.3), 0px 1px 3px 1px rgba(60, 64, 67, 0.15);\n",
              "      fill: #174EA6;\n",
              "    }\n",
              "\n",
              "    [theme=dark] .colab-df-convert {\n",
              "      background-color: #3B4455;\n",
              "      fill: #D2E3FC;\n",
              "    }\n",
              "\n",
              "    [theme=dark] .colab-df-convert:hover {\n",
              "      background-color: #434B5C;\n",
              "      box-shadow: 0px 1px 3px 1px rgba(0, 0, 0, 0.15);\n",
              "      filter: drop-shadow(0px 1px 2px rgba(0, 0, 0, 0.3));\n",
              "      fill: #FFFFFF;\n",
              "    }\n",
              "  </style>\n",
              "\n",
              "      <script>\n",
              "        const buttonEl =\n",
              "          document.querySelector('#df-ce53c8a6-204a-41ee-9226-84ce07b2d4e1 button.colab-df-convert');\n",
              "        buttonEl.style.display =\n",
              "          google.colab.kernel.accessAllowed ? 'block' : 'none';\n",
              "\n",
              "        async function convertToInteractive(key) {\n",
              "          const element = document.querySelector('#df-ce53c8a6-204a-41ee-9226-84ce07b2d4e1');\n",
              "          const dataTable =\n",
              "            await google.colab.kernel.invokeFunction('convertToInteractive',\n",
              "                                                     [key], {});\n",
              "          if (!dataTable) return;\n",
              "\n",
              "          const docLinkHtml = 'Like what you see? Visit the ' +\n",
              "            '<a target=\"_blank\" href=https://colab.research.google.com/notebooks/data_table.ipynb>data table notebook</a>'\n",
              "            + ' to learn more about interactive tables.';\n",
              "          element.innerHTML = '';\n",
              "          dataTable['output_type'] = 'display_data';\n",
              "          await google.colab.output.renderOutput(dataTable, element);\n",
              "          const docLink = document.createElement('div');\n",
              "          docLink.innerHTML = docLinkHtml;\n",
              "          element.appendChild(docLink);\n",
              "        }\n",
              "      </script>\n",
              "    </div>\n",
              "  </div>\n"
            ]
          },
          "metadata": {},
          "execution_count": 82
        }
      ]
    },
    {
      "cell_type": "markdown",
      "source": [
        "### Stratifying for same bcns in train test"
      ],
      "metadata": {
        "id": "S6OZgjLmu0Zn"
      }
    },
    {
      "cell_type": "code",
      "source": [
        "# check whether there are users in test but not in train\n",
        "print(len(df_train.bcn_id.unique()), len(df_test.bcn_id.unique()))\n",
        "print(len(df_train_binary.bcn_id.unique()), len(df_test_binary.bcn_id.unique()))"
      ],
      "metadata": {
        "colab": {
          "base_uri": "https://localhost:8080/"
        },
        "id": "NxR5vCs5t758",
        "outputId": "f7ea4086-a282-4a78-bcb6-113df631b442"
      },
      "execution_count": 86,
      "outputs": [
        {
          "output_type": "stream",
          "name": "stdout",
          "text": [
            "7378 9889\n",
            "7378 9889\n"
          ]
        }
      ]
    },
    {
      "cell_type": "code",
      "source": [
        "def stratify_bcn(train_df, test_df):\n",
        "  \"\"\" remove users from test set, that are not in train\n",
        "    @params: train and test dfs\n",
        "\n",
        "    @return stratified_df_test testing data\n",
        "  \"\"\"\n",
        "  # Get the unique 'bcn_id' values from df_train\n",
        "  trained_bcn_ids = train_df['bcn_id'].unique()\n",
        "  # Filter out the rows in df_test that have 'bcn_id' values not present in trained_bcn_ids\n",
        "  stratified_df_test = test_df[test_df['bcn_id'].isin(trained_bcn_ids)]\n",
        "\n",
        "  return stratified_df_test"
      ],
      "metadata": {
        "id": "GInkmqXj_SIH"
      },
      "execution_count": 92,
      "outputs": []
    },
    {
      "cell_type": "code",
      "source": [
        "stratified_df_test = stratify_bcn(df_test, df_train)"
      ],
      "metadata": {
        "id": "bP1zfK_v-Pm3"
      },
      "execution_count": 95,
      "outputs": []
    },
    {
      "cell_type": "code",
      "source": [
        "stratified_df_test_binary = stratify_bcn(df_test, df_train)"
      ],
      "metadata": {
        "id": "RAfb5uikAR8s"
      },
      "execution_count": null,
      "outputs": []
    },
    {
      "cell_type": "markdown",
      "metadata": {
        "id": "oLlrBv-ehScX"
      },
      "source": [
        "## Create sparse user x item and item x user matrices"
      ]
    },
    {
      "cell_type": "code",
      "execution_count": null,
      "metadata": {
        "id": "MXfFxD7DQUjn"
      },
      "outputs": [],
      "source": [
        "sparse_item_user = sparse.csr_matrix((grouped_df['purchase'].astype(float), (grouped_df['sku_id'], grouped_df['bcn_id'])))\n",
        "sparse_user_item = sparse.csr_matrix((grouped_df['purchase'].astype(float), (grouped_df['bcn_id'], grouped_df['sku_id'])))"
      ]
    },
    {
      "cell_type": "code",
      "source": [
        "sparse_item_user_binary = sparse.csr_matrix((grouped_df_binary['purchase'].astype(float), (grouped_df_binary['sku_id'], grouped_df_binary['bcn_id'])))\n",
        "sparse_user_item_binary = sparse.csr_matrix((grouped_df_binary['purchase'].astype(float), (grouped_df_binary['bcn_id'], grouped_df_binary['sku_id'])))"
      ],
      "metadata": {
        "id": "OkboNPD577-g"
      },
      "execution_count": null,
      "outputs": []
    },
    {
      "cell_type": "markdown",
      "source": [
        "##Create unique sku and user lists"
      ],
      "metadata": {
        "id": "iTOgs4JqteI8"
      }
    },
    {
      "cell_type": "code",
      "source": [
        "skus = df[[\"sku_id\", \"Sku\" , \"Product Descr1\", \"Product Descr2\", \"ProductGroupDescription\"]].drop_duplicates()\n",
        "skus"
      ],
      "metadata": {
        "id": "hTdcgI0ZkkWi",
        "colab": {
          "base_uri": "https://localhost:8080/",
          "height": 424
        },
        "outputId": "1afd6e91-c469-4606-bffd-df54431100ee"
      },
      "execution_count": null,
      "outputs": [
        {
          "output_type": "execute_result",
          "data": {
            "text/plain": [
              "         sku_id      Sku                   Product Descr1  \\\n",
              "7402      33457  CF58186              IPHONE 14 PRO 256GB   \n",
              "7902       8567  406A863         27BN55U 27IN 68.58CM IPS   \n",
              "7903      23686  CC93753       IPAD 9TH WI-FI + CELL 64GB   \n",
              "8687      48351  Y340805        SOCKETSCAN S740 UNIVERSAL   \n",
              "9035      41664  I440972             CHERRY MW 4500 BLACK   \n",
              "...         ...      ...                              ...   \n",
              "2219620    3735  235L458   TM-T88VI 111A0 SERIAL USB ENET   \n",
              "2219668   48133  Y123756               AC ADAPTER 12V/60W   \n",
              "2219689   26519  CD94306       HEALTHCARE 20 SLOT BATTERY   \n",
              "2220178   31069  CE90633  SBO TP T14S G2 PANDUIT GESELLSC   \n",
              "2220239    6605  2M37CE0  HP 4.5MM + USB-C DOCK ADAPT. G2   \n",
              "\n",
              "                           Product Descr2           ProductGroupDescription  \n",
              "7402                          SPACE BLACK                      Smart Phones  \n",
              "7902              3840 X 2160 16 : 9 HDMI                       Lcd Monitor  \n",
              "7903       10.2IN - A13 CHIP - SPACE GREY             Tablets (Slate Style)  \n",
              "8687                BARCODE SCANNER BLACK          Handheld Barcode Scanner  \n",
              "9035         WIRELESS ERGONOMIC MOUSE USB                             Mouse  \n",
              "...                                   ...                               ...  \n",
              "2219620                       PS BLACK UK            Mobile Receipt Printer  \n",
              "2219668                2.5X5.5MM LEVEL VI            Dc/Pos Pos Accessories  \n",
              "2219689  TOASTER WHITE PSU 100-240 VAC 12                   Docking Station  \n",
              "2220178                   MC00153088 W10P       Portable/Notebook Computers  \n",
              "2220239                                 .  Port Replicator, Docking Station  \n",
              "\n",
              "[49112 rows x 5 columns]"
            ],
            "text/html": [
              "\n",
              "\n",
              "  <div id=\"df-b9c19061-1b87-4b65-b5ae-29875e909bf1\">\n",
              "    <div class=\"colab-df-container\">\n",
              "      <div>\n",
              "<style scoped>\n",
              "    .dataframe tbody tr th:only-of-type {\n",
              "        vertical-align: middle;\n",
              "    }\n",
              "\n",
              "    .dataframe tbody tr th {\n",
              "        vertical-align: top;\n",
              "    }\n",
              "\n",
              "    .dataframe thead th {\n",
              "        text-align: right;\n",
              "    }\n",
              "</style>\n",
              "<table border=\"1\" class=\"dataframe\">\n",
              "  <thead>\n",
              "    <tr style=\"text-align: right;\">\n",
              "      <th></th>\n",
              "      <th>sku_id</th>\n",
              "      <th>Sku</th>\n",
              "      <th>Product Descr1</th>\n",
              "      <th>Product Descr2</th>\n",
              "      <th>ProductGroupDescription</th>\n",
              "    </tr>\n",
              "  </thead>\n",
              "  <tbody>\n",
              "    <tr>\n",
              "      <th>7402</th>\n",
              "      <td>33457</td>\n",
              "      <td>CF58186</td>\n",
              "      <td>IPHONE 14 PRO 256GB</td>\n",
              "      <td>SPACE BLACK</td>\n",
              "      <td>Smart Phones</td>\n",
              "    </tr>\n",
              "    <tr>\n",
              "      <th>7902</th>\n",
              "      <td>8567</td>\n",
              "      <td>406A863</td>\n",
              "      <td>27BN55U 27IN 68.58CM IPS</td>\n",
              "      <td>3840 X 2160 16 : 9 HDMI</td>\n",
              "      <td>Lcd Monitor</td>\n",
              "    </tr>\n",
              "    <tr>\n",
              "      <th>7903</th>\n",
              "      <td>23686</td>\n",
              "      <td>CC93753</td>\n",
              "      <td>IPAD 9TH WI-FI + CELL 64GB</td>\n",
              "      <td>10.2IN - A13 CHIP - SPACE GREY</td>\n",
              "      <td>Tablets (Slate Style)</td>\n",
              "    </tr>\n",
              "    <tr>\n",
              "      <th>8687</th>\n",
              "      <td>48351</td>\n",
              "      <td>Y340805</td>\n",
              "      <td>SOCKETSCAN S740 UNIVERSAL</td>\n",
              "      <td>BARCODE SCANNER BLACK</td>\n",
              "      <td>Handheld Barcode Scanner</td>\n",
              "    </tr>\n",
              "    <tr>\n",
              "      <th>9035</th>\n",
              "      <td>41664</td>\n",
              "      <td>I440972</td>\n",
              "      <td>CHERRY MW 4500 BLACK</td>\n",
              "      <td>WIRELESS ERGONOMIC MOUSE USB</td>\n",
              "      <td>Mouse</td>\n",
              "    </tr>\n",
              "    <tr>\n",
              "      <th>...</th>\n",
              "      <td>...</td>\n",
              "      <td>...</td>\n",
              "      <td>...</td>\n",
              "      <td>...</td>\n",
              "      <td>...</td>\n",
              "    </tr>\n",
              "    <tr>\n",
              "      <th>2219620</th>\n",
              "      <td>3735</td>\n",
              "      <td>235L458</td>\n",
              "      <td>TM-T88VI 111A0 SERIAL USB ENET</td>\n",
              "      <td>PS BLACK UK</td>\n",
              "      <td>Mobile Receipt Printer</td>\n",
              "    </tr>\n",
              "    <tr>\n",
              "      <th>2219668</th>\n",
              "      <td>48133</td>\n",
              "      <td>Y123756</td>\n",
              "      <td>AC ADAPTER 12V/60W</td>\n",
              "      <td>2.5X5.5MM LEVEL VI</td>\n",
              "      <td>Dc/Pos Pos Accessories</td>\n",
              "    </tr>\n",
              "    <tr>\n",
              "      <th>2219689</th>\n",
              "      <td>26519</td>\n",
              "      <td>CD94306</td>\n",
              "      <td>HEALTHCARE 20 SLOT BATTERY</td>\n",
              "      <td>TOASTER WHITE PSU 100-240 VAC 12</td>\n",
              "      <td>Docking Station</td>\n",
              "    </tr>\n",
              "    <tr>\n",
              "      <th>2220178</th>\n",
              "      <td>31069</td>\n",
              "      <td>CE90633</td>\n",
              "      <td>SBO TP T14S G2 PANDUIT GESELLSC</td>\n",
              "      <td>MC00153088 W10P</td>\n",
              "      <td>Portable/Notebook Computers</td>\n",
              "    </tr>\n",
              "    <tr>\n",
              "      <th>2220239</th>\n",
              "      <td>6605</td>\n",
              "      <td>2M37CE0</td>\n",
              "      <td>HP 4.5MM + USB-C DOCK ADAPT. G2</td>\n",
              "      <td>.</td>\n",
              "      <td>Port Replicator, Docking Station</td>\n",
              "    </tr>\n",
              "  </tbody>\n",
              "</table>\n",
              "<p>49112 rows × 5 columns</p>\n",
              "</div>\n",
              "      <button class=\"colab-df-convert\" onclick=\"convertToInteractive('df-b9c19061-1b87-4b65-b5ae-29875e909bf1')\"\n",
              "              title=\"Convert this dataframe to an interactive table.\"\n",
              "              style=\"display:none;\">\n",
              "\n",
              "  <svg xmlns=\"http://www.w3.org/2000/svg\" height=\"24px\"viewBox=\"0 0 24 24\"\n",
              "       width=\"24px\">\n",
              "    <path d=\"M0 0h24v24H0V0z\" fill=\"none\"/>\n",
              "    <path d=\"M18.56 5.44l.94 2.06.94-2.06 2.06-.94-2.06-.94-.94-2.06-.94 2.06-2.06.94zm-11 1L8.5 8.5l.94-2.06 2.06-.94-2.06-.94L8.5 2.5l-.94 2.06-2.06.94zm10 10l.94 2.06.94-2.06 2.06-.94-2.06-.94-.94-2.06-.94 2.06-2.06.94z\"/><path d=\"M17.41 7.96l-1.37-1.37c-.4-.4-.92-.59-1.43-.59-.52 0-1.04.2-1.43.59L10.3 9.45l-7.72 7.72c-.78.78-.78 2.05 0 2.83L4 21.41c.39.39.9.59 1.41.59.51 0 1.02-.2 1.41-.59l7.78-7.78 2.81-2.81c.8-.78.8-2.07 0-2.86zM5.41 20L4 18.59l7.72-7.72 1.47 1.35L5.41 20z\"/>\n",
              "  </svg>\n",
              "      </button>\n",
              "\n",
              "\n",
              "\n",
              "    <div id=\"df-fba4d9d8-622b-4ae8-8d3e-7380ec8a74ea\">\n",
              "      <button class=\"colab-df-quickchart\" onclick=\"quickchart('df-fba4d9d8-622b-4ae8-8d3e-7380ec8a74ea')\"\n",
              "              title=\"Suggest charts.\"\n",
              "              style=\"display:none;\">\n",
              "\n",
              "<svg xmlns=\"http://www.w3.org/2000/svg\" height=\"24px\"viewBox=\"0 0 24 24\"\n",
              "     width=\"24px\">\n",
              "    <g>\n",
              "        <path d=\"M19 3H5c-1.1 0-2 .9-2 2v14c0 1.1.9 2 2 2h14c1.1 0 2-.9 2-2V5c0-1.1-.9-2-2-2zM9 17H7v-7h2v7zm4 0h-2V7h2v10zm4 0h-2v-4h2v4z\"/>\n",
              "    </g>\n",
              "</svg>\n",
              "      </button>\n",
              "    </div>\n",
              "\n",
              "<style>\n",
              "  .colab-df-quickchart {\n",
              "    background-color: #E8F0FE;\n",
              "    border: none;\n",
              "    border-radius: 50%;\n",
              "    cursor: pointer;\n",
              "    display: none;\n",
              "    fill: #1967D2;\n",
              "    height: 32px;\n",
              "    padding: 0 0 0 0;\n",
              "    width: 32px;\n",
              "  }\n",
              "\n",
              "  .colab-df-quickchart:hover {\n",
              "    background-color: #E2EBFA;\n",
              "    box-shadow: 0px 1px 2px rgba(60, 64, 67, 0.3), 0px 1px 3px 1px rgba(60, 64, 67, 0.15);\n",
              "    fill: #174EA6;\n",
              "  }\n",
              "\n",
              "  [theme=dark] .colab-df-quickchart {\n",
              "    background-color: #3B4455;\n",
              "    fill: #D2E3FC;\n",
              "  }\n",
              "\n",
              "  [theme=dark] .colab-df-quickchart:hover {\n",
              "    background-color: #434B5C;\n",
              "    box-shadow: 0px 1px 3px 1px rgba(0, 0, 0, 0.15);\n",
              "    filter: drop-shadow(0px 1px 2px rgba(0, 0, 0, 0.3));\n",
              "    fill: #FFFFFF;\n",
              "  }\n",
              "</style>\n",
              "\n",
              "    <script>\n",
              "      async function quickchart(key) {\n",
              "        const containerElement = document.querySelector('#' + key);\n",
              "        const charts = await google.colab.kernel.invokeFunction(\n",
              "            'suggestCharts', [key], {});\n",
              "      }\n",
              "    </script>\n",
              "\n",
              "      <script>\n",
              "\n",
              "function displayQuickchartButton(domScope) {\n",
              "  let quickchartButtonEl =\n",
              "    domScope.querySelector('#df-fba4d9d8-622b-4ae8-8d3e-7380ec8a74ea button.colab-df-quickchart');\n",
              "  quickchartButtonEl.style.display =\n",
              "    google.colab.kernel.accessAllowed ? 'block' : 'none';\n",
              "}\n",
              "\n",
              "        displayQuickchartButton(document);\n",
              "      </script>\n",
              "      <style>\n",
              "    .colab-df-container {\n",
              "      display:flex;\n",
              "      flex-wrap:wrap;\n",
              "      gap: 12px;\n",
              "    }\n",
              "\n",
              "    .colab-df-convert {\n",
              "      background-color: #E8F0FE;\n",
              "      border: none;\n",
              "      border-radius: 50%;\n",
              "      cursor: pointer;\n",
              "      display: none;\n",
              "      fill: #1967D2;\n",
              "      height: 32px;\n",
              "      padding: 0 0 0 0;\n",
              "      width: 32px;\n",
              "    }\n",
              "\n",
              "    .colab-df-convert:hover {\n",
              "      background-color: #E2EBFA;\n",
              "      box-shadow: 0px 1px 2px rgba(60, 64, 67, 0.3), 0px 1px 3px 1px rgba(60, 64, 67, 0.15);\n",
              "      fill: #174EA6;\n",
              "    }\n",
              "\n",
              "    [theme=dark] .colab-df-convert {\n",
              "      background-color: #3B4455;\n",
              "      fill: #D2E3FC;\n",
              "    }\n",
              "\n",
              "    [theme=dark] .colab-df-convert:hover {\n",
              "      background-color: #434B5C;\n",
              "      box-shadow: 0px 1px 3px 1px rgba(0, 0, 0, 0.15);\n",
              "      filter: drop-shadow(0px 1px 2px rgba(0, 0, 0, 0.3));\n",
              "      fill: #FFFFFF;\n",
              "    }\n",
              "  </style>\n",
              "\n",
              "      <script>\n",
              "        const buttonEl =\n",
              "          document.querySelector('#df-b9c19061-1b87-4b65-b5ae-29875e909bf1 button.colab-df-convert');\n",
              "        buttonEl.style.display =\n",
              "          google.colab.kernel.accessAllowed ? 'block' : 'none';\n",
              "\n",
              "        async function convertToInteractive(key) {\n",
              "          const element = document.querySelector('#df-b9c19061-1b87-4b65-b5ae-29875e909bf1');\n",
              "          const dataTable =\n",
              "            await google.colab.kernel.invokeFunction('convertToInteractive',\n",
              "                                                     [key], {});\n",
              "          if (!dataTable) return;\n",
              "\n",
              "          const docLinkHtml = 'Like what you see? Visit the ' +\n",
              "            '<a target=\"_blank\" href=https://colab.research.google.com/notebooks/data_table.ipynb>data table notebook</a>'\n",
              "            + ' to learn more about interactive tables.';\n",
              "          element.innerHTML = '';\n",
              "          dataTable['output_type'] = 'display_data';\n",
              "          await google.colab.output.renderOutput(dataTable, element);\n",
              "          const docLink = document.createElement('div');\n",
              "          docLink.innerHTML = docLinkHtml;\n",
              "          element.appendChild(docLink);\n",
              "        }\n",
              "      </script>\n",
              "    </div>\n",
              "  </div>\n"
            ]
          },
          "metadata": {},
          "execution_count": 25
        }
      ]
    },
    {
      "cell_type": "code",
      "source": [
        "users = df[[\"bcn_id\", \"BranchCustomerNbr\"]].drop_duplicates()\n",
        "len(users)"
      ],
      "metadata": {
        "colab": {
          "base_uri": "https://localhost:8080/"
        },
        "id": "mE8o8YAptkAo",
        "outputId": "b28e3548-a605-449f-d6fc-a2ca155a2f47"
      },
      "execution_count": null,
      "outputs": [
        {
          "output_type": "execute_result",
          "data": {
            "text/plain": [
              "9889"
            ]
          },
          "metadata": {},
          "execution_count": 26
        }
      ]
    },
    {
      "cell_type": "markdown",
      "metadata": {
        "id": "sc5VhVtEQ4OJ"
      },
      "source": [
        "# **ALS Model**"
      ]
    },
    {
      "cell_type": "code",
      "execution_count": null,
      "metadata": {
        "id": "wFLeLOYQWGU3",
        "colab": {
          "base_uri": "https://localhost:8080/"
        },
        "outputId": "a937b213-7373-459d-8c34-0389d4848a52"
      },
      "outputs": [
        {
          "output_type": "stream",
          "name": "stderr",
          "text": [
            "/usr/local/lib/python3.10/dist-packages/implicit/gpu/__init__.py:13: UserWarning: CUDA extension is built, but disabling GPU support because of 'Cuda Error: CUDA driver version is insufficient for CUDA runtime version (/project/./implicit/gpu/utils.h:71)'\n",
            "  warnings.warn(\n"
          ]
        }
      ],
      "source": [
        "import implicit\n",
        "from implicit.als import AlternatingLeastSquares\n",
        "from implicit.evaluation import leave_k_out_split, precision_at_k, mean_average_precision_at_k, ndcg_at_k, AUC_at_k\n",
        "from sklearn.model_selection import GridSearchCV"
      ]
    },
    {
      "cell_type": "markdown",
      "metadata": {
        "id": "lAktvGOmiOaZ"
      },
      "source": [
        "## LOOCV\n",
        "\n",
        "with K=1 so 1 item per user gets dropped out"
      ]
    },
    {
      "cell_type": "code",
      "execution_count": null,
      "metadata": {
        "id": "yac4cBbhSt_I"
      },
      "outputs": [],
      "source": [
        "x = leave_k_out_split(sparse_item_user, K=1)\n",
        "sparse_item_user_train = x[0]\n",
        "sparse_item_user_test = x[1]"
      ]
    },
    {
      "cell_type": "code",
      "execution_count": null,
      "metadata": {
        "id": "lk6tS_wPe6u4"
      },
      "outputs": [],
      "source": [
        "y = leave_k_out_split(sparse_user_item, K=1)\n",
        "sparse_user_item_train = y[0]\n",
        "sparse_user_item_test = y[1]"
      ]
    },
    {
      "cell_type": "code",
      "source": [
        "y_binary = leave_k_out_split(sparse_user_item_binary, K=1)\n",
        "sparse_user_item_train_binary = y_binary[0]\n",
        "sparse_user_item_test_binary = y_binary[1]"
      ],
      "metadata": {
        "id": "Wi5l_RWR8oal"
      },
      "execution_count": null,
      "outputs": []
    },
    {
      "cell_type": "markdown",
      "metadata": {
        "id": "yCduMSsqimU2"
      },
      "source": [
        "## ALS Model param tuning"
      ]
    },
    {
      "cell_type": "code",
      "execution_count": null,
      "metadata": {
        "id": "_Vj7KMB6k0uB",
        "colab": {
          "base_uri": "https://localhost:8080/",
          "height": 84,
          "referenced_widgets": [
            "5fa3106c258847e0a5f3129da3227b9b",
            "fe376dba97ec4686a831ead8ac798065",
            "0767a5aafd7b43dd8ab0fd0852620cbf",
            "97337e0cee6543ca8087b879ddc60f9b",
            "bd30238d8b9844f4a46f10ee34881911",
            "e321334ba9d2484fb0dfe47ac700a5ab",
            "e7b8340f3560479584645d7e86d2d568",
            "0539d802f1a140d9a258aad93caf28d3",
            "138e42a869bb4dbe85ea98427d186a01",
            "3d22607efc7949e18e8e8e8da6d6cca1",
            "1b34d27539e048d29872dbdf72bffe50"
          ]
        },
        "outputId": "68dff326-37ea-45fc-b94d-f9bb93871869"
      },
      "outputs": [
        {
          "output_type": "display_data",
          "data": {
            "text/plain": [
              "  0%|          | 0/2 [00:00<?, ?it/s]"
            ],
            "application/vnd.jupyter.widget-view+json": {
              "version_major": 2,
              "version_minor": 0,
              "model_id": "5fa3106c258847e0a5f3129da3227b9b"
            }
          },
          "metadata": {}
        },
        {
          "output_type": "stream",
          "name": "stdout",
          "text": [
            "CPU times: user 2.7 s, sys: 4.32 s, total: 7.02 s\n",
            "Wall time: 3.85 s\n"
          ]
        }
      ],
      "source": [
        "#test if model works on data\n",
        "%%time\n",
        "model = implicit.als.AlternatingLeastSquares(factors=10, iterations=2)\n",
        "model.fit(sparse_user_item_train)"
      ]
    },
    {
      "cell_type": "markdown",
      "metadata": {
        "id": "NOFqUFJilbP4"
      },
      "source": [
        "ALS hyperparameters are:\n",
        "\n",
        "\n",
        "*   factors: The number of latent factors to compute\n",
        "*   regularization: The regularization factor to use\n",
        "*   alpha: The weight to give to positive examples\n",
        "*   iterations: The number of ALS iterations to use when fitting data\n",
        "\n",
        "\n",
        "\n"
      ]
    },
    {
      "cell_type": "code",
      "execution_count": null,
      "metadata": {
        "id": "Te93-6SLlNKq"
      },
      "outputs": [],
      "source": [
        "def validate(sparse_user_item_train, sparse_user_item_test, factors=200, alpha=40, iterations=20, regularization=0.01, show_progress=True):\n",
        "    \"\"\" Train an ALS model with <<factors>> (embeddings dimension)\n",
        "    for <<iterations>> over matrices and validate with MAP@10\n",
        "    \"\"\"\n",
        "\n",
        "    model = implicit.als.AlternatingLeastSquares(factors=factors,\n",
        "                                                 alpha=alpha,\n",
        "                                                 iterations=iterations,\n",
        "                                                 regularization=regularization)\n",
        "\n",
        "    model.fit(sparse_user_item_train, show_progress=show_progress)\n",
        "\n",
        "    # The MAPK by implicit doesn't allow to calculate allowing repeated items, which is the case.\n",
        "    # TODO: change MAP@10 to a library that allows repeated items in prediction\n",
        "    map10 = mean_average_precision_at_k(model, sparse_user_item_train, sparse_user_item_test, K=10, show_progress=show_progress, num_threads=4)\n",
        "    print(f\"Factors: {factors:>3} - Confidence: {alpha:>9} - Regularization: {regularization:4.3f} - Iterations: {iterations:>2} ==> MAP@10: {map10:6.5f}\")\n",
        "    return map10"
      ]
    },
    {
      "cell_type": "code",
      "execution_count": null,
      "metadata": {
        "id": "OPRc6oMiRSme"
      },
      "outputs": [],
      "source": [
        "# %%time\n",
        "# best_map10 = 0\n",
        "# for factors in [10, 50, 100, 150, 200]:\n",
        "#   for alpha in [10, 20, 30, 40]:\n",
        "#     for iterations in [10, 15, 20]:\n",
        "#       for regularization in [0.01, 0.05, 0.1]:\n",
        "#           map10 = validate(sparse_user_item_train, sparse_user_item_test, factors, alpha, iterations, regularization, show_progress=False)\n",
        "#           if map10 > best_map10:\n",
        "#             best_map10 = map10\n",
        "#             best_params = {'factors': factors, 'confidence': alpha, 'iterations': iterations, 'regularization': regularization}\n",
        "#             print(f\"Best MAP@10 found. Updating: {best_params}\")"
      ]
    },
    {
      "cell_type": "code",
      "execution_count": null,
      "metadata": {
        "id": "VlZh1iuIcClC",
        "colab": {
          "base_uri": "https://localhost:8080/"
        },
        "outputId": "b4ed1e49-82da-4a39-8eca-ddc95455368e"
      },
      "outputs": [
        {
          "output_type": "stream",
          "name": "stdout",
          "text": [
            "Fitting 3 folds for each of 20 candidates, totalling 60 fits\n"
          ]
        }
      ],
      "source": [
        "from sklearn.base import BaseEstimator\n",
        "from sklearn.model_selection import GridSearchCV\n",
        "\n",
        "\n",
        "class WrappedALS(BaseEstimator):\n",
        "    def __init__(self, factors=100, regularization=0.01, iterations=20, alpha=40):\n",
        "        self.factors = factors\n",
        "        self.regularization = regularization\n",
        "        self.iterations = iterations\n",
        "        self.alpha = alpha\n",
        "        self.als_model = AlternatingLeastSquares(\n",
        "            factors=self.factors,\n",
        "            regularization=self.regularization,\n",
        "            iterations=self.iterations,\n",
        "            calculate_training_loss=True,\n",
        "        )\n",
        "\n",
        "    def fit(self, X, y=None):\n",
        "        self.als_model.fit(X)\n",
        "        return self\n",
        "\n",
        "    def predict(self, X):\n",
        "        return self.als_model.user_factors.dot(self.als_model.item_factors.T)\n",
        "\n",
        "    def score(self, X, y=None):\n",
        "        map_at_k = mean_average_precision_at_k(self.als_model, X, X.T, K=10)\n",
        "        return map_at_k\n",
        "\n",
        "# Define the hyperparameter ranges\n",
        "param_grid = {\n",
        "    'factors': [10, 50, 100, 150, 200],\n",
        "    'alpha': [40],\n",
        "    'iterations': [10, 20],\n",
        "    'regularization': [0.01, 0.05]\n",
        "}\n",
        "\n",
        "# Initialize WrappedALS model\n",
        "wrapped_als_model = WrappedALS()\n",
        "\n",
        "# Initialize GridSearchCV\n",
        "grid_search = GridSearchCV(wrapped_als_model, param_grid, cv=3, verbose=1, n_jobs=-1)\n",
        "\n",
        "# Fit the GridSearchCV object to the data\n",
        "grid_search.fit(sparse_user_item_train)\n",
        "\n",
        "# Get the best ALS model and its hyperparameters\n",
        "best_als_model = grid_search.best_estimator_\n",
        "best_params = grid_search.best_params_\n",
        "\n",
        "print(\"Best Hyperparameters:\")\n",
        "print(best_params)\n",
        "\n",
        "print(\"-----------------------------------------------------------------------------------------\")\n",
        "print(\"Best model MAP@10:\")\n",
        "best_model = AlternatingLeastSquares(**best_params)\n",
        "map_10_best = mean_average_precision_at_k(best_model, sparse_user_item_train, sparse_user_item_test, K=10)\n",
        "print(map_10_best)"
      ]
    },
    {
      "cell_type": "code",
      "execution_count": null,
      "metadata": {
        "id": "yhIa3C74i0BT"
      },
      "outputs": [],
      "source": [
        "model_1 = implicit.als.AlternatingLeastSquares(factors=100,\n",
        "                                                 alpha=40,\n",
        "                                                 iterations=20,\n",
        "                                                 regularization=0.01)\n",
        "model_1.fit(sparse_user_item_train)\n",
        "map10 = mean_average_precision_at_k(model_1,sparse_user_item_train, sparse_user_item_test, K=10)\n",
        "print(map10)"
      ]
    },
    {
      "cell_type": "code",
      "execution_count": null,
      "metadata": {
        "id": "BI3xKQDVkURQ"
      },
      "outputs": [],
      "source": [
        "model_2 = implicit.als.AlternatingLeastSquares(factors=10,\n",
        "                                                 alpha=40,\n",
        "                                                 iterations=10,\n",
        "                                                 regularization=0.01)\n",
        "model_2.fit(sparse_user_item_train)\n",
        "map10_2 = mean_average_precision_at_k(model_2,sparse_user_item_train, sparse_user_item_test, K=10)\n",
        "print(map10_2)"
      ]
    },
    {
      "cell_type": "code",
      "source": [
        "model_3 = implicit.als.AlternatingLeastSquares(factors=50,\n",
        "                                                 alpha=40,\n",
        "                                                 iterations=20,\n",
        "                                                 regularization=0.01)\n",
        "model_3.fit(sparse_user_item_train)\n",
        "map10_3 = mean_average_precision_at_k(model_3,sparse_user_item_train, sparse_user_item_test, K=10)\n",
        "print(map10_2)"
      ],
      "metadata": {
        "id": "6Y4I8lOFS87y"
      },
      "execution_count": null,
      "outputs": []
    },
    {
      "cell_type": "code",
      "source": [
        "model_4 = implicit.als.AlternatingLeastSquares(factors=200,\n",
        "                                                 alpha=40,\n",
        "                                                 iterations=20,\n",
        "                                                 regularization=0.01)\n",
        "model_4.fit(sparse_user_item_train)\n",
        "map10_4 = mean_average_precision_at_k(model_4,sparse_user_item_train, sparse_user_item_test, K=10)\n",
        "print(map10_2)"
      ],
      "metadata": {
        "id": "Ff4wC2lETBhV"
      },
      "execution_count": null,
      "outputs": []
    },
    {
      "cell_type": "code",
      "source": [
        "model_1 = implicit.als.AlternatingLeastSquares(factors=190,\n",
        "                                                 alpha=40,\n",
        "                                                 iterations=20,\n",
        "                                                 regularization=0.01)\n",
        "model_1.fit(sparse_user_item_train)\n",
        "map10 = mean_average_precision_at_k(model_1,sparse_user_item_train, sparse_user_item_test, K=10, num_threads=10)\n",
        "print(map10)"
      ],
      "metadata": {
        "id": "vVk5T5_FVG6O"
      },
      "execution_count": null,
      "outputs": []
    },
    {
      "cell_type": "code",
      "source": [
        "model_1 = implicit.als.AlternatingLeastSquares(factors=190,\n",
        "                                                 alpha=15,\n",
        "                                                 iterations=10,\n",
        "                                                 regularization=0.05)\n",
        "model_1.fit(sparse_user_item_train)\n",
        "map10 = mean_average_precision_at_k(model_1,sparse_user_item_train, sparse_user_item_test, K=10, num_threads=10)\n",
        "print(map10)"
      ],
      "metadata": {
        "id": "nMpYMx1wabAI"
      },
      "execution_count": null,
      "outputs": []
    },
    {
      "cell_type": "markdown",
      "metadata": {
        "id": "5KF0KoBKWYRV"
      },
      "source": [
        "## ALS Best Model Performance"
      ]
    },
    {
      "cell_type": "code",
      "execution_count": null,
      "metadata": {
        "id": "n0_V39sEWXrT"
      },
      "outputs": [],
      "source": [
        "precision_als = precision_at_k(model_1, sparse_user_item_train, sparse_user_item_test, K=10, num_threads=10)\n",
        "precision_als"
      ]
    },
    {
      "cell_type": "code",
      "execution_count": null,
      "metadata": {
        "id": "irp5pUiojPLr"
      },
      "outputs": [],
      "source": [
        "ndcg = ndcg_at_k(model_1, sparse_user_item_train, sparse_user_item_test, show_progress=True, K=10, num_threads=10)\n",
        "ndcg"
      ]
    },
    {
      "cell_type": "markdown",
      "metadata": {
        "id": "z4J68JMGixOZ"
      },
      "source": [
        "## ALS Model Recommendations"
      ]
    },
    {
      "cell_type": "code",
      "execution_count": null,
      "metadata": {
        "id": "7qOwrHijSMoj"
      },
      "outputs": [],
      "source": [
        " # Assuming you want recommendations for user with ID 10\n",
        "user_id = 5000\n",
        "# Get the row of the user from the sparse_user_item matrix\n",
        "user_row = sparse_user_item[user_id]\n",
        "# Reshape the user_row to have 1 row per user\n",
        "user_items = np.reshape(user_row, (1, -1))\n",
        "\n",
        "# Now you can call the recommend function\n",
        "recommended = model_1.recommend(user_id, user_items, N=10, filter_already_liked_items=True)\n",
        "rec_tab = pd.DataFrame(recommended)\n",
        "rec_tab = rec_tab.T.rename(columns={0:\"sku_id\", 1:\"conf\"})\n",
        "rec_tab = rec_tab.merge(skus, on=\"sku_id\", how=\"left\")\n",
        "rec_tab"
      ]
    },
    {
      "cell_type": "code",
      "execution_count": null,
      "metadata": {
        "id": "ZYSoZiIeRYq1"
      },
      "outputs": [],
      "source": [
        "#Get similar items\n",
        "item_id = 7\n",
        "n_similar = 10\n",
        "similar = model.similar_items(item_id, n_similar)\n",
        "print(similar)"
      ]
    },
    {
      "cell_type": "markdown",
      "metadata": {
        "id": "LxqvV7post2P"
      },
      "source": [
        "# BPR Model"
      ]
    },
    {
      "cell_type": "code",
      "source": [
        "!pip install lightfm"
      ],
      "metadata": {
        "id": "y2EuzT3otQaU"
      },
      "execution_count": null,
      "outputs": []
    },
    {
      "cell_type": "code",
      "source": [
        "from implicit.bpr import BayesianPersonalizedRanking as BPR\n",
        "from lightfm import LightFM\n",
        "from lightfm.evaluation import precision_at_k, auc_score"
      ],
      "metadata": {
        "id": "kEQXcYYhXwRJ"
      },
      "execution_count": null,
      "outputs": []
    },
    {
      "cell_type": "code",
      "source": [
        "df_train, df_test = train_test_split(grouped_df_binary, 1)"
      ],
      "metadata": {
        "id": "JWFxZEZo7Qmn"
      },
      "execution_count": null,
      "outputs": []
    },
    {
      "cell_type": "code",
      "source": [
        "len(df_train)"
      ],
      "metadata": {
        "id": "tj4ku71b8Owo"
      },
      "execution_count": null,
      "outputs": []
    },
    {
      "cell_type": "code",
      "source": [
        "len(df_test)"
      ],
      "metadata": {
        "id": "OVYUcQJH8Q55"
      },
      "execution_count": null,
      "outputs": []
    },
    {
      "cell_type": "code",
      "source": [
        "len(df_train.bcn_id.unique())"
      ],
      "metadata": {
        "id": "Vg3_rQz-7_7K"
      },
      "execution_count": null,
      "outputs": []
    },
    {
      "cell_type": "code",
      "source": [
        "len(df_test.bcn_id.unique())"
      ],
      "metadata": {
        "id": "5gYf95Gr8Iku"
      },
      "execution_count": null,
      "outputs": []
    },
    {
      "cell_type": "code",
      "source": [
        "df_test = df_test.merge(df_train[['bcn_id']], on='bcn_id', how='inner')"
      ],
      "metadata": {
        "id": "W50twcQK8tlr"
      },
      "execution_count": null,
      "outputs": []
    },
    {
      "cell_type": "code",
      "source": [
        "len(df_test.bcn_id.unique())"
      ],
      "metadata": {
        "id": "ZDZSjkrt8X5p"
      },
      "execution_count": null,
      "outputs": []
    },
    {
      "cell_type": "code",
      "source": [
        "def negative_sampling(bcn_ids, sku_ids, items, n_neg):\n",
        "    \"\"\"This function creates n_neg negative labels for every positive label\n",
        "\n",
        "    @param user_ids: list of user ids\n",
        "    @param sku_ids: list of sku ids\n",
        "    @param items: unique list of sku ids\n",
        "    @param n_neg: number of negative labels to sample\n",
        "\n",
        "    @return df_neg: negative sample dataframe\n",
        "\n",
        "    \"\"\"\n",
        "\n",
        "    neg = []\n",
        "    ui_pairs = zip(bcn_ids, sku_ids)\n",
        "    records = set(ui_pairs)\n",
        "\n",
        "    # for every positive label case\n",
        "    for (u, i) in records:\n",
        "        # generate n_neg negative labels\n",
        "        for _ in range(n_neg):\n",
        "            j = np.random.choice(items)\n",
        "            # resample if the movie already exists for that user\n",
        "            while (u, j) in records:\n",
        "                j = np.random.choice(items)\n",
        "            neg.append([u, j, 0])\n",
        "\n",
        "    # convert to pandas dataframe for concatenation later\n",
        "    df_neg = pd.DataFrame(neg, columns=['bcn_id', 'sku_id', 'purchase'])\n",
        "\n",
        "    return df_neg"
      ],
      "metadata": {
        "id": "jnGwCJ8f5vRi"
      },
      "execution_count": null,
      "outputs": []
    },
    {
      "cell_type": "code",
      "source": [
        "neg_train = negative_sampling(\n",
        "    bcn_ids=df_train.bcn_id.unique(),\n",
        "    sku_ids=df_train.sku_id.unique(),\n",
        "    items=grouped_df_binary.sku_id.unique(),\n",
        "    n_neg=5\n",
        ")\n"
      ],
      "metadata": {
        "id": "l2SG3asI6_Ol"
      },
      "execution_count": null,
      "outputs": []
    },
    {
      "cell_type": "code",
      "source": [
        "# create final training and testing sets\n",
        "#df_train = df_train[['bcn_id', 'sku_id']].assign(purchase=1)\n",
        "df_train = pd.concat([df_train, neg_train], ignore_index=True)"
      ],
      "metadata": {
        "id": "9p2O5X9l7AO9"
      },
      "execution_count": null,
      "outputs": []
    },
    {
      "cell_type": "code",
      "source": [
        "bpr_model = BPR(factors=200,\n",
        "                learning_rate=0.01,\n",
        "                iterations=20,\n",
        "                verify_negative_samples=True)"
      ],
      "metadata": {
        "id": "D2YA64TmYARn"
      },
      "execution_count": null,
      "outputs": []
    },
    {
      "cell_type": "code",
      "source": [
        "sparse_user_item_binary = sparse.csr_matrix((df_train['purchase'].astype(float), (df_train['bcn_id'],df_train['sku_id'])))"
      ],
      "metadata": {
        "id": "FXt1EIul7oNH"
      },
      "execution_count": null,
      "outputs": []
    },
    {
      "cell_type": "code",
      "source": [
        "bpr_model.fit(sparse_user_item_binary, show_progress=True)"
      ],
      "metadata": {
        "id": "lmdgG3Thm87-"
      },
      "execution_count": null,
      "outputs": []
    },
    {
      "cell_type": "code",
      "source": [
        "mean_average_precision_at_k(bpr_model, sparse_user_item_train_binary, sparse_user_item_test_binary, K=10)"
      ],
      "metadata": {
        "id": "_pRf6wA5nOmR"
      },
      "execution_count": null,
      "outputs": []
    },
    {
      "cell_type": "code",
      "source": [
        "lightfm_bpr_model = LightFM(learning_rate=0.05, loss='bpr', no_components=100)\n",
        "lightfm_bpr_model.fit(sparse_user_item_train_binary, epochs=10)"
      ],
      "metadata": {
        "id": "cmK6SdRwtq9-"
      },
      "execution_count": null,
      "outputs": []
    },
    {
      "cell_type": "code",
      "source": [
        "train_precision = precision_at_k(lightfm_bpr_model, sparse_user_item_train_binary, k=10).mean()\n",
        "test_precision = precision_at_k(lightfm_bpr_model, sparse_user_item_test_binary, k=10).mean()"
      ],
      "metadata": {
        "id": "hVbrZRpxt4dF"
      },
      "execution_count": null,
      "outputs": []
    },
    {
      "cell_type": "code",
      "source": [
        "print(train_precision)"
      ],
      "metadata": {
        "id": "eyI6U2kkvAH5"
      },
      "execution_count": null,
      "outputs": []
    },
    {
      "cell_type": "markdown",
      "metadata": {
        "id": "f3AaWOd5tBaF"
      },
      "source": [
        "## BPR Model param tuning"
      ]
    }
  ],
  "metadata": {
    "colab": {
      "toc_visible": true,
      "provenance": [],
      "mount_file_id": "15O8mMpLYlRgpXtTwlzZkUv64TxCmS9_8",
      "authorship_tag": "ABX9TyN/qoJo53pSgEIyAVrU0jL2",
      "include_colab_link": true
    },
    "kernelspec": {
      "display_name": "Python 3",
      "name": "python3"
    },
    "language_info": {
      "name": "python"
    },
    "widgets": {
      "application/vnd.jupyter.widget-state+json": {
        "5fa3106c258847e0a5f3129da3227b9b": {
          "model_module": "@jupyter-widgets/controls",
          "model_name": "HBoxModel",
          "model_module_version": "1.5.0",
          "state": {
            "_dom_classes": [],
            "_model_module": "@jupyter-widgets/controls",
            "_model_module_version": "1.5.0",
            "_model_name": "HBoxModel",
            "_view_count": null,
            "_view_module": "@jupyter-widgets/controls",
            "_view_module_version": "1.5.0",
            "_view_name": "HBoxView",
            "box_style": "",
            "children": [
              "IPY_MODEL_fe376dba97ec4686a831ead8ac798065",
              "IPY_MODEL_0767a5aafd7b43dd8ab0fd0852620cbf",
              "IPY_MODEL_97337e0cee6543ca8087b879ddc60f9b"
            ],
            "layout": "IPY_MODEL_bd30238d8b9844f4a46f10ee34881911"
          }
        },
        "fe376dba97ec4686a831ead8ac798065": {
          "model_module": "@jupyter-widgets/controls",
          "model_name": "HTMLModel",
          "model_module_version": "1.5.0",
          "state": {
            "_dom_classes": [],
            "_model_module": "@jupyter-widgets/controls",
            "_model_module_version": "1.5.0",
            "_model_name": "HTMLModel",
            "_view_count": null,
            "_view_module": "@jupyter-widgets/controls",
            "_view_module_version": "1.5.0",
            "_view_name": "HTMLView",
            "description": "",
            "description_tooltip": null,
            "layout": "IPY_MODEL_e321334ba9d2484fb0dfe47ac700a5ab",
            "placeholder": "​",
            "style": "IPY_MODEL_e7b8340f3560479584645d7e86d2d568",
            "value": "100%"
          }
        },
        "0767a5aafd7b43dd8ab0fd0852620cbf": {
          "model_module": "@jupyter-widgets/controls",
          "model_name": "FloatProgressModel",
          "model_module_version": "1.5.0",
          "state": {
            "_dom_classes": [],
            "_model_module": "@jupyter-widgets/controls",
            "_model_module_version": "1.5.0",
            "_model_name": "FloatProgressModel",
            "_view_count": null,
            "_view_module": "@jupyter-widgets/controls",
            "_view_module_version": "1.5.0",
            "_view_name": "ProgressView",
            "bar_style": "success",
            "description": "",
            "description_tooltip": null,
            "layout": "IPY_MODEL_0539d802f1a140d9a258aad93caf28d3",
            "max": 2,
            "min": 0,
            "orientation": "horizontal",
            "style": "IPY_MODEL_138e42a869bb4dbe85ea98427d186a01",
            "value": 2
          }
        },
        "97337e0cee6543ca8087b879ddc60f9b": {
          "model_module": "@jupyter-widgets/controls",
          "model_name": "HTMLModel",
          "model_module_version": "1.5.0",
          "state": {
            "_dom_classes": [],
            "_model_module": "@jupyter-widgets/controls",
            "_model_module_version": "1.5.0",
            "_model_name": "HTMLModel",
            "_view_count": null,
            "_view_module": "@jupyter-widgets/controls",
            "_view_module_version": "1.5.0",
            "_view_name": "HTMLView",
            "description": "",
            "description_tooltip": null,
            "layout": "IPY_MODEL_3d22607efc7949e18e8e8e8da6d6cca1",
            "placeholder": "​",
            "style": "IPY_MODEL_1b34d27539e048d29872dbdf72bffe50",
            "value": " 2/2 [00:03&lt;00:00,  1.88s/it]"
          }
        },
        "bd30238d8b9844f4a46f10ee34881911": {
          "model_module": "@jupyter-widgets/base",
          "model_name": "LayoutModel",
          "model_module_version": "1.2.0",
          "state": {
            "_model_module": "@jupyter-widgets/base",
            "_model_module_version": "1.2.0",
            "_model_name": "LayoutModel",
            "_view_count": null,
            "_view_module": "@jupyter-widgets/base",
            "_view_module_version": "1.2.0",
            "_view_name": "LayoutView",
            "align_content": null,
            "align_items": null,
            "align_self": null,
            "border": null,
            "bottom": null,
            "display": null,
            "flex": null,
            "flex_flow": null,
            "grid_area": null,
            "grid_auto_columns": null,
            "grid_auto_flow": null,
            "grid_auto_rows": null,
            "grid_column": null,
            "grid_gap": null,
            "grid_row": null,
            "grid_template_areas": null,
            "grid_template_columns": null,
            "grid_template_rows": null,
            "height": null,
            "justify_content": null,
            "justify_items": null,
            "left": null,
            "margin": null,
            "max_height": null,
            "max_width": null,
            "min_height": null,
            "min_width": null,
            "object_fit": null,
            "object_position": null,
            "order": null,
            "overflow": null,
            "overflow_x": null,
            "overflow_y": null,
            "padding": null,
            "right": null,
            "top": null,
            "visibility": null,
            "width": null
          }
        },
        "e321334ba9d2484fb0dfe47ac700a5ab": {
          "model_module": "@jupyter-widgets/base",
          "model_name": "LayoutModel",
          "model_module_version": "1.2.0",
          "state": {
            "_model_module": "@jupyter-widgets/base",
            "_model_module_version": "1.2.0",
            "_model_name": "LayoutModel",
            "_view_count": null,
            "_view_module": "@jupyter-widgets/base",
            "_view_module_version": "1.2.0",
            "_view_name": "LayoutView",
            "align_content": null,
            "align_items": null,
            "align_self": null,
            "border": null,
            "bottom": null,
            "display": null,
            "flex": null,
            "flex_flow": null,
            "grid_area": null,
            "grid_auto_columns": null,
            "grid_auto_flow": null,
            "grid_auto_rows": null,
            "grid_column": null,
            "grid_gap": null,
            "grid_row": null,
            "grid_template_areas": null,
            "grid_template_columns": null,
            "grid_template_rows": null,
            "height": null,
            "justify_content": null,
            "justify_items": null,
            "left": null,
            "margin": null,
            "max_height": null,
            "max_width": null,
            "min_height": null,
            "min_width": null,
            "object_fit": null,
            "object_position": null,
            "order": null,
            "overflow": null,
            "overflow_x": null,
            "overflow_y": null,
            "padding": null,
            "right": null,
            "top": null,
            "visibility": null,
            "width": null
          }
        },
        "e7b8340f3560479584645d7e86d2d568": {
          "model_module": "@jupyter-widgets/controls",
          "model_name": "DescriptionStyleModel",
          "model_module_version": "1.5.0",
          "state": {
            "_model_module": "@jupyter-widgets/controls",
            "_model_module_version": "1.5.0",
            "_model_name": "DescriptionStyleModel",
            "_view_count": null,
            "_view_module": "@jupyter-widgets/base",
            "_view_module_version": "1.2.0",
            "_view_name": "StyleView",
            "description_width": ""
          }
        },
        "0539d802f1a140d9a258aad93caf28d3": {
          "model_module": "@jupyter-widgets/base",
          "model_name": "LayoutModel",
          "model_module_version": "1.2.0",
          "state": {
            "_model_module": "@jupyter-widgets/base",
            "_model_module_version": "1.2.0",
            "_model_name": "LayoutModel",
            "_view_count": null,
            "_view_module": "@jupyter-widgets/base",
            "_view_module_version": "1.2.0",
            "_view_name": "LayoutView",
            "align_content": null,
            "align_items": null,
            "align_self": null,
            "border": null,
            "bottom": null,
            "display": null,
            "flex": null,
            "flex_flow": null,
            "grid_area": null,
            "grid_auto_columns": null,
            "grid_auto_flow": null,
            "grid_auto_rows": null,
            "grid_column": null,
            "grid_gap": null,
            "grid_row": null,
            "grid_template_areas": null,
            "grid_template_columns": null,
            "grid_template_rows": null,
            "height": null,
            "justify_content": null,
            "justify_items": null,
            "left": null,
            "margin": null,
            "max_height": null,
            "max_width": null,
            "min_height": null,
            "min_width": null,
            "object_fit": null,
            "object_position": null,
            "order": null,
            "overflow": null,
            "overflow_x": null,
            "overflow_y": null,
            "padding": null,
            "right": null,
            "top": null,
            "visibility": null,
            "width": null
          }
        },
        "138e42a869bb4dbe85ea98427d186a01": {
          "model_module": "@jupyter-widgets/controls",
          "model_name": "ProgressStyleModel",
          "model_module_version": "1.5.0",
          "state": {
            "_model_module": "@jupyter-widgets/controls",
            "_model_module_version": "1.5.0",
            "_model_name": "ProgressStyleModel",
            "_view_count": null,
            "_view_module": "@jupyter-widgets/base",
            "_view_module_version": "1.2.0",
            "_view_name": "StyleView",
            "bar_color": null,
            "description_width": ""
          }
        },
        "3d22607efc7949e18e8e8e8da6d6cca1": {
          "model_module": "@jupyter-widgets/base",
          "model_name": "LayoutModel",
          "model_module_version": "1.2.0",
          "state": {
            "_model_module": "@jupyter-widgets/base",
            "_model_module_version": "1.2.0",
            "_model_name": "LayoutModel",
            "_view_count": null,
            "_view_module": "@jupyter-widgets/base",
            "_view_module_version": "1.2.0",
            "_view_name": "LayoutView",
            "align_content": null,
            "align_items": null,
            "align_self": null,
            "border": null,
            "bottom": null,
            "display": null,
            "flex": null,
            "flex_flow": null,
            "grid_area": null,
            "grid_auto_columns": null,
            "grid_auto_flow": null,
            "grid_auto_rows": null,
            "grid_column": null,
            "grid_gap": null,
            "grid_row": null,
            "grid_template_areas": null,
            "grid_template_columns": null,
            "grid_template_rows": null,
            "height": null,
            "justify_content": null,
            "justify_items": null,
            "left": null,
            "margin": null,
            "max_height": null,
            "max_width": null,
            "min_height": null,
            "min_width": null,
            "object_fit": null,
            "object_position": null,
            "order": null,
            "overflow": null,
            "overflow_x": null,
            "overflow_y": null,
            "padding": null,
            "right": null,
            "top": null,
            "visibility": null,
            "width": null
          }
        },
        "1b34d27539e048d29872dbdf72bffe50": {
          "model_module": "@jupyter-widgets/controls",
          "model_name": "DescriptionStyleModel",
          "model_module_version": "1.5.0",
          "state": {
            "_model_module": "@jupyter-widgets/controls",
            "_model_module_version": "1.5.0",
            "_model_name": "DescriptionStyleModel",
            "_view_count": null,
            "_view_module": "@jupyter-widgets/base",
            "_view_module_version": "1.2.0",
            "_view_name": "StyleView",
            "description_width": ""
          }
        }
      }
    }
  },
  "nbformat": 4,
  "nbformat_minor": 0
}