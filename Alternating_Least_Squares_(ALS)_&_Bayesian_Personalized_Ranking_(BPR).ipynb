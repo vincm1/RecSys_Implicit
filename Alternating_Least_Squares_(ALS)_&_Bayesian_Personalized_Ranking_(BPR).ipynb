{
  "cells": [
    {
      "cell_type": "markdown",
      "metadata": {
        "id": "view-in-github",
        "colab_type": "text"
      },
      "source": [
        "<a href=\"https://colab.research.google.com/github/vincm1/RecSys_Implicit/blob/master/Alternating_Least_Squares_(ALS)_%26_Bayesian_Personalized_Ranking_(BPR).ipynb\" target=\"_parent\"><img src=\"https://colab.research.google.com/assets/colab-badge.svg\" alt=\"Open In Colab\"/></a>"
      ]
    },
    {
      "cell_type": "code",
      "execution_count": 8,
      "metadata": {
        "colab": {
          "base_uri": "https://localhost:8080/"
        },
        "id": "ZdcIm5ccE1AT",
        "outputId": "adeb2fb5-d69e-4c29-c70d-fec91fe2b07f"
      },
      "outputs": [
        {
          "output_type": "stream",
          "name": "stdout",
          "text": [
            "Requirement already satisfied: implicit in /usr/local/lib/python3.10/dist-packages (0.7.0)\n",
            "Requirement already satisfied: numpy in /usr/local/lib/python3.10/dist-packages (from implicit) (1.22.4)\n",
            "Requirement already satisfied: scipy>=0.16 in /usr/local/lib/python3.10/dist-packages (from implicit) (1.10.1)\n",
            "Requirement already satisfied: tqdm>=4.27 in /usr/local/lib/python3.10/dist-packages (from implicit) (4.65.0)\n"
          ]
        }
      ],
      "source": [
        "!pip install --upgrade implicit"
      ]
    },
    {
      "cell_type": "code",
      "execution_count": 7,
      "metadata": {
        "id": "grLA84wbEiAr"
      },
      "outputs": [],
      "source": [
        "import zipfile\n",
        "import time\n",
        "import pickle\n",
        "import numpy as np\n",
        "import seaborn as sns\n",
        "import matplotlib.pyplot as plt\n",
        "import pandas as pd\n",
        "\n",
        "import scipy.sparse as sparse\n",
        "\n",
        "from datetime import datetime, timedelta\n"
      ]
    },
    {
      "cell_type": "markdown",
      "metadata": {
        "id": "6NkqcqysfCKB"
      },
      "source": [
        "# Loading DataFrames\n",
        "\n"
      ]
    },
    {
      "cell_type": "code",
      "execution_count": 6,
      "metadata": {
        "colab": {
          "base_uri": "https://localhost:8080/"
        },
        "id": "0zVYs3LAEgGZ",
        "outputId": "c07b57c7-ca78-49e3-b9dd-f1cd38efb6d3"
      },
      "outputs": [
        {
          "output_type": "stream",
          "name": "stderr",
          "text": [
            "<ipython-input-6-6f4658781373>:2: DtypeWarning: Columns (2,4) have mixed types. Specify dtype option on import or set low_memory=False.\n",
            "  df = pd.read_csv(df_zip.open('Bericht 1.csv'), delimiter=\";\")\n"
          ]
        }
      ],
      "source": [
        "df_zip = zipfile.ZipFile('/content/drive/MyDrive/RecSys/Orders_Nov22_Jun23.zip')\n",
        "df = pd.read_csv(df_zip.open('Bericht 1.csv'), delimiter=\";\")"
      ]
    },
    {
      "cell_type": "code",
      "execution_count": 4,
      "metadata": {
        "colab": {
          "base_uri": "https://localhost:8080/",
          "height": 163
        },
        "id": "-91G3xiVL4PZ",
        "outputId": "1b97d70c-e3e0-4b28-cb75-310c22f1376b"
      },
      "outputs": [
        {
          "output_type": "error",
          "ename": "NameError",
          "evalue": "ignored",
          "traceback": [
            "\u001b[0;31m---------------------------------------------------------------------------\u001b[0m",
            "\u001b[0;31mNameError\u001b[0m                                 Traceback (most recent call last)",
            "\u001b[0;32m<ipython-input-4-9e112543b788>\u001b[0m in \u001b[0;36m<cell line: 1>\u001b[0;34m()\u001b[0m\n\u001b[0;32m----> 1\u001b[0;31m \u001b[0mlen\u001b[0m\u001b[0;34m(\u001b[0m\u001b[0mdf\u001b[0m\u001b[0;34m)\u001b[0m\u001b[0;34m\u001b[0m\u001b[0;34m\u001b[0m\u001b[0m\n\u001b[0m",
            "\u001b[0;31mNameError\u001b[0m: name 'df' is not defined"
          ]
        }
      ],
      "source": [
        "len(df)"
      ]
    },
    {
      "cell_type": "code",
      "execution_count": 5,
      "metadata": {
        "colab": {
          "base_uri": "https://localhost:8080/",
          "height": 163
        },
        "id": "RwegL3ZVfUMI",
        "outputId": "40311c1d-5a10-4754-f745-9f9d019276f4"
      },
      "outputs": [
        {
          "output_type": "error",
          "ename": "NameError",
          "evalue": "ignored",
          "traceback": [
            "\u001b[0;31m---------------------------------------------------------------------------\u001b[0m",
            "\u001b[0;31mNameError\u001b[0m                                 Traceback (most recent call last)",
            "\u001b[0;32m<ipython-input-5-dfd2a9b66af3>\u001b[0m in \u001b[0;36m<cell line: 1>\u001b[0;34m()\u001b[0m\n\u001b[0;32m----> 1\u001b[0;31m \u001b[0mdf\u001b[0m\u001b[0;34m.\u001b[0m\u001b[0mhead\u001b[0m\u001b[0;34m(\u001b[0m\u001b[0;36m2\u001b[0m\u001b[0;34m)\u001b[0m\u001b[0;34m\u001b[0m\u001b[0;34m\u001b[0m\u001b[0m\n\u001b[0m",
            "\u001b[0;31mNameError\u001b[0m: name 'df' is not defined"
          ]
        }
      ],
      "source": [
        "df.head(2)"
      ]
    },
    {
      "cell_type": "markdown",
      "metadata": {
        "id": "jw0KcoTNf9td"
      },
      "source": [
        "# Data Preprocessing"
      ]
    },
    {
      "cell_type": "code",
      "execution_count": null,
      "metadata": {
        "id": "fqrtmWFSLHhj"
      },
      "outputs": [],
      "source": [
        "# converting the customerid to string\n",
        "df[\"BranchCustomerNbr\"] = df[\"BranchCustomerNbr\"].astype(str)"
      ]
    },
    {
      "cell_type": "code",
      "execution_count": null,
      "metadata": {
        "id": "gYopMllOLIgd"
      },
      "outputs": [],
      "source": [
        "# converting the skuid to string\n",
        "df[\"Sku\"] = df[\"Sku\"].astype(str)"
      ]
    },
    {
      "cell_type": "code",
      "execution_count": null,
      "metadata": {
        "id": "aIXvd-8LMHfB"
      },
      "outputs": [],
      "source": [
        "# lines with zero shipment qty\n",
        "len(df[df[\"Qty Shipped\"] == 0])"
      ]
    },
    {
      "cell_type": "code",
      "execution_count": null,
      "metadata": {
        "id": "tZGNfaoYfjKD"
      },
      "outputs": [],
      "source": [
        "df[df[\"Qty Shipped\"] == 0].head(50)"
      ]
    },
    {
      "cell_type": "code",
      "execution_count": null,
      "metadata": {
        "id": "M3LbaZ9MH2bu"
      },
      "outputs": [],
      "source": [
        "# dropping retours (orders with negative Qty shipped) and zero Qty shipped orders\n",
        "df = df[df[\"Qty Shipped\"]> 0]"
      ]
    },
    {
      "cell_type": "code",
      "execution_count": null,
      "metadata": {
        "id": "Y5D17B6bLqLE"
      },
      "outputs": [],
      "source": [
        "# dropping backlog invoices\n",
        "df = df[df[\"Entry Date\"] >= '2022-10-01 00:00:00']"
      ]
    },
    {
      "cell_type": "code",
      "execution_count": null,
      "metadata": {
        "id": "ZB1YMbpJL6zv"
      },
      "outputs": [],
      "source": [
        "len(df)"
      ]
    },
    {
      "cell_type": "code",
      "execution_count": null,
      "metadata": {
        "id": "eMIdCDNKIDfd"
      },
      "outputs": [],
      "source": [
        "# implementing a purchase frequency counter helper\n",
        "df.loc[:, \"purchase\"] = 1"
      ]
    },
    {
      "cell_type": "markdown",
      "metadata": {
        "id": "xCZUKvDGgKX8"
      },
      "source": [
        "## User and sku unqiue list"
      ]
    },
    {
      "cell_type": "code",
      "execution_count": null,
      "metadata": {
        "id": "hkI3F1ZMgOEV"
      },
      "outputs": [],
      "source": [
        "# Create a numeric user_id and artist_id column\n",
        "df['BranchCustomerNbr'] = df['BranchCustomerNbr'].astype(\"category\")\n",
        "df['Sku'] = df['Sku'].astype(\"category\")\n",
        "df['bcn_id'] = df['BranchCustomerNbr'].cat.codes\n",
        "df['sku_id'] = df['Sku'].cat.codes"
      ]
    },
    {
      "cell_type": "code",
      "execution_count": null,
      "metadata": {
        "id": "7Z6g08c0IIii"
      },
      "outputs": [],
      "source": [
        "df_1 = df[[\"bcn_id\",\"sku_id\",\"Qty Shipped\", \"purchase\"]]"
      ]
    },
    {
      "cell_type": "code",
      "execution_count": null,
      "metadata": {
        "id": "Ux8FeAKkI_mP"
      },
      "outputs": [],
      "source": [
        "df_1.info()"
      ]
    },
    {
      "cell_type": "code",
      "execution_count": null,
      "metadata": {
        "id": "2c1t8tbDKO2m"
      },
      "outputs": [],
      "source": [
        "df_1.head(3)"
      ]
    },
    {
      "cell_type": "code",
      "execution_count": null,
      "metadata": {
        "id": "u4LHTPjWKwks"
      },
      "outputs": [],
      "source": [
        "grouped_df = df.groupby([\"bcn_id\", \"sku_id\"]).agg({\n",
        "    \"Qty Shipped\": \"sum\",\n",
        "    \"purchase\": \"sum\"\n",
        "}).reset_index()"
      ]
    },
    {
      "cell_type": "code",
      "source": [
        "grouped_df_binary = grouped_df[[\"bcn_id\", \"sku_id\", \"purchase\"]]\n",
        "grouped_df_binary[\"purchase\"] = 1\n",
        "grouped_df_binary"
      ],
      "metadata": {
        "id": "b253nXCn7dqa"
      },
      "execution_count": null,
      "outputs": []
    },
    {
      "cell_type": "code",
      "execution_count": null,
      "metadata": {
        "id": "wD2fdyCbKyUt"
      },
      "outputs": [],
      "source": [
        "grouped_df.sort_values(by=\"bcn_id\",ascending=True)"
      ]
    },
    {
      "cell_type": "code",
      "source": [
        "skus = df[[\"sku_id\", \"Sku\" , \"Product Descr1\", \"Product Descr2\", \"ProductGroupDescription\"]].drop_duplicates()\n",
        "skus"
      ],
      "metadata": {
        "id": "hTdcgI0ZkkWi"
      },
      "execution_count": null,
      "outputs": []
    },
    {
      "cell_type": "markdown",
      "metadata": {
        "id": "oLlrBv-ehScX"
      },
      "source": [
        "## Create sparse user x item and item x user matrices"
      ]
    },
    {
      "cell_type": "code",
      "execution_count": null,
      "metadata": {
        "id": "MXfFxD7DQUjn"
      },
      "outputs": [],
      "source": [
        "sparse_item_user = sparse.csr_matrix((grouped_df['purchase'].astype(float), (grouped_df['sku_id'], grouped_df['bcn_id'])))\n",
        "sparse_user_item = sparse.csr_matrix((grouped_df['purchase'].astype(float), (grouped_df['bcn_id'], grouped_df['sku_id'])))"
      ]
    },
    {
      "cell_type": "code",
      "source": [
        "sparse_item_user_binary = sparse.csr_matrix((grouped_df_binary['purchase'].astype(float), (grouped_df_binary['sku_id'], grouped_df_binary['bcn_id'])))\n",
        "sparse_user_item_binary = sparse.csr_matrix((grouped_df_binary['purchase'].astype(float), (grouped_df_binary['bcn_id'], grouped_df_binary['sku_id'])))"
      ],
      "metadata": {
        "id": "OkboNPD577-g"
      },
      "execution_count": null,
      "outputs": []
    },
    {
      "cell_type": "markdown",
      "metadata": {
        "id": "sc5VhVtEQ4OJ"
      },
      "source": [
        "# **ALS Model**"
      ]
    },
    {
      "cell_type": "code",
      "execution_count": null,
      "metadata": {
        "id": "wFLeLOYQWGU3"
      },
      "outputs": [],
      "source": [
        "import implicit\n",
        "from implicit.als import AlternatingLeastSquares\n",
        "from implicit.evaluation import leave_k_out_split, precision_at_k, mean_average_precision_at_k, ndcg_at_k, AUC_at_k\n",
        "from sklearn.model_selection import GridSearchCV"
      ]
    },
    {
      "cell_type": "markdown",
      "metadata": {
        "id": "lAktvGOmiOaZ"
      },
      "source": [
        "## LOOCV\n",
        "\n",
        "with K=1 so 1 item per user gets dropped out"
      ]
    },
    {
      "cell_type": "code",
      "execution_count": null,
      "metadata": {
        "id": "yac4cBbhSt_I"
      },
      "outputs": [],
      "source": [
        "x = leave_k_out_split(sparse_item_user, K=1)\n",
        "sparse_item_user_train = x[0]\n",
        "sparse_item_user_test = x[1]"
      ]
    },
    {
      "cell_type": "code",
      "execution_count": null,
      "metadata": {
        "id": "lk6tS_wPe6u4"
      },
      "outputs": [],
      "source": [
        "y = leave_k_out_split(sparse_user_item, K=1)\n",
        "sparse_user_item_train = y[0]\n",
        "sparse_user_item_test = y[1]"
      ]
    },
    {
      "cell_type": "code",
      "source": [
        "y_binary = leave_k_out_split(sparse_user_item_binary, K=1)\n",
        "sparse_user_item_train_binary = y_binary[0]\n",
        "sparse_user_item_test_binary = y_binary[1]"
      ],
      "metadata": {
        "id": "Wi5l_RWR8oal"
      },
      "execution_count": null,
      "outputs": []
    },
    {
      "cell_type": "markdown",
      "metadata": {
        "id": "yCduMSsqimU2"
      },
      "source": [
        "## ALS Model param tuning"
      ]
    },
    {
      "cell_type": "code",
      "execution_count": null,
      "metadata": {
        "id": "_Vj7KMB6k0uB"
      },
      "outputs": [],
      "source": [
        "#test if model works on data\n",
        "%%time\n",
        "model = implicit.als.AlternatingLeastSquares(factors=10, iterations=2)\n",
        "model.fit(sparse_user_item_train)"
      ]
    },
    {
      "cell_type": "markdown",
      "metadata": {
        "id": "NOFqUFJilbP4"
      },
      "source": [
        "ALS hyperparameters are:\n",
        "\n",
        "\n",
        "*   factors: The number of latent factors to compute\n",
        "*   regularization: The regularization factor to use\n",
        "*   alpha: The weight to give to positive examples\n",
        "*   iterations: The number of ALS iterations to use when fitting data\n",
        "\n",
        "\n",
        "\n"
      ]
    },
    {
      "cell_type": "code",
      "execution_count": null,
      "metadata": {
        "id": "Te93-6SLlNKq"
      },
      "outputs": [],
      "source": [
        "def validate(sparse_user_item_train, sparse_user_item_test, factors=200, alpha=40, iterations=20, regularization=0.01, show_progress=True):\n",
        "    \"\"\" Train an ALS model with <<factors>> (embeddings dimension)\n",
        "    for <<iterations>> over matrices and validate with MAP@10\n",
        "    \"\"\"\n",
        "\n",
        "    model = implicit.als.AlternatingLeastSquares(factors=factors,\n",
        "                                                 alpha=alpha,\n",
        "                                                 iterations=iterations,\n",
        "                                                 regularization=regularization)\n",
        "\n",
        "    model.fit(sparse_user_item_train, show_progress=show_progress)\n",
        "\n",
        "    # The MAPK by implicit doesn't allow to calculate allowing repeated items, which is the case.\n",
        "    # TODO: change MAP@10 to a library that allows repeated items in prediction\n",
        "    map10 = mean_average_precision_at_k(model, sparse_user_item_train, sparse_user_item_test, K=10, show_progress=show_progress, num_threads=4)\n",
        "    print(f\"Factors: {factors:>3} - Confidence: {alpha:>9} - Regularization: {regularization:4.3f} - Iterations: {iterations:>2} ==> MAP@10: {map10:6.5f}\")\n",
        "    return map10"
      ]
    },
    {
      "cell_type": "code",
      "execution_count": null,
      "metadata": {
        "id": "OPRc6oMiRSme"
      },
      "outputs": [],
      "source": [
        "# %%time\n",
        "# best_map10 = 0\n",
        "# for factors in [10, 50, 100, 150, 200]:\n",
        "#   for alpha in [10, 20, 30, 40]:\n",
        "#     for iterations in [10, 15, 20]:\n",
        "#       for regularization in [0.01, 0.05, 0.1]:\n",
        "#           map10 = validate(sparse_user_item_train, sparse_user_item_test, factors, alpha, iterations, regularization, show_progress=False)\n",
        "#           if map10 > best_map10:\n",
        "#             best_map10 = map10\n",
        "#             best_params = {'factors': factors, 'confidence': alpha, 'iterations': iterations, 'regularization': regularization}\n",
        "#             print(f\"Best MAP@10 found. Updating: {best_params}\")"
      ]
    },
    {
      "cell_type": "code",
      "execution_count": null,
      "metadata": {
        "id": "VlZh1iuIcClC"
      },
      "outputs": [],
      "source": [
        "from sklearn.base import BaseEstimator\n",
        "from sklearn.model_selection import GridSearchCV\n",
        "\n",
        "\n",
        "class WrappedALS(BaseEstimator):\n",
        "    def __init__(self, factors=100, regularization=0.01, iterations=20, alpha=40):\n",
        "        self.factors = factors\n",
        "        self.regularization = regularization\n",
        "        self.iterations = iterations\n",
        "        self.alpha = alpha\n",
        "        self.als_model = AlternatingLeastSquares(\n",
        "            factors=self.factors,\n",
        "            regularization=self.regularization,\n",
        "            iterations=self.iterations,\n",
        "            calculate_training_loss=True,\n",
        "        )\n",
        "\n",
        "    def fit(self, X, y=None):\n",
        "        self.als_model.fit(X)\n",
        "        return self\n",
        "\n",
        "    def predict(self, X):\n",
        "        return self.als_model.user_factors.dot(self.als_model.item_factors.T)\n",
        "\n",
        "    def score(self, X, y=None):\n",
        "        map_at_k = mean_average_precision_at_k(self.als_model, X, X.T, K=10)\n",
        "        return map_at_k\n",
        "\n",
        "# Define the hyperparameter ranges\n",
        "param_grid = {\n",
        "    'factors': [10, 50, 100, 150, 200],\n",
        "    'alpha': [40],\n",
        "    'iterations': [10, 20],\n",
        "    'regularization': [0.01, 0.05]\n",
        "}\n",
        "\n",
        "# Initialize WrappedALS model\n",
        "wrapped_als_model = WrappedALS()\n",
        "\n",
        "# Initialize GridSearchCV\n",
        "grid_search = GridSearchCV(wrapped_als_model, param_grid, cv=3, verbose=1, n_jobs=-1)\n",
        "\n",
        "# Fit the GridSearchCV object to the data\n",
        "grid_search.fit(sparse_user_item_train)\n",
        "\n",
        "# Get the best ALS model and its hyperparameters\n",
        "best_als_model = grid_search.best_estimator_\n",
        "best_params = grid_search.best_params_\n",
        "\n",
        "print(\"Best Hyperparameters:\")\n",
        "print(best_params)\n",
        "\n",
        "print(\"-----------------------------------------------------------------------------------------\")\n",
        "print(\"Best model MAP@10:\")\n",
        "best_model = AlternatingLeastSquares(**best_params)\n",
        "map_10_best = mean_average_precision_at_k(best_model, sparse_user_item_train, sparse_user_item_test, K=10)\n",
        "print(map_10_best)"
      ]
    },
    {
      "cell_type": "code",
      "execution_count": null,
      "metadata": {
        "id": "yhIa3C74i0BT"
      },
      "outputs": [],
      "source": [
        "model_1 = implicit.als.AlternatingLeastSquares(factors=100,\n",
        "                                                 alpha=40,\n",
        "                                                 iterations=20,\n",
        "                                                 regularization=0.01)\n",
        "model_1.fit(sparse_user_item_train)\n",
        "map10 = mean_average_precision_at_k(model_1,sparse_user_item_train, sparse_user_item_test, K=10)\n",
        "print(map10)"
      ]
    },
    {
      "cell_type": "code",
      "execution_count": null,
      "metadata": {
        "id": "BI3xKQDVkURQ"
      },
      "outputs": [],
      "source": [
        "model_2 = implicit.als.AlternatingLeastSquares(factors=10,\n",
        "                                                 alpha=40,\n",
        "                                                 iterations=10,\n",
        "                                                 regularization=0.01)\n",
        "model_2.fit(sparse_user_item_train)\n",
        "map10_2 = mean_average_precision_at_k(model_2,sparse_user_item_train, sparse_user_item_test, K=10)\n",
        "print(map10_2)"
      ]
    },
    {
      "cell_type": "code",
      "source": [
        "model_3 = implicit.als.AlternatingLeastSquares(factors=50,\n",
        "                                                 alpha=40,\n",
        "                                                 iterations=20,\n",
        "                                                 regularization=0.01)\n",
        "model_3.fit(sparse_user_item_train)\n",
        "map10_3 = mean_average_precision_at_k(model_3,sparse_user_item_train, sparse_user_item_test, K=10)\n",
        "print(map10_2)"
      ],
      "metadata": {
        "id": "6Y4I8lOFS87y"
      },
      "execution_count": null,
      "outputs": []
    },
    {
      "cell_type": "code",
      "source": [
        "model_4 = implicit.als.AlternatingLeastSquares(factors=200,\n",
        "                                                 alpha=40,\n",
        "                                                 iterations=20,\n",
        "                                                 regularization=0.01)\n",
        "model_4.fit(sparse_user_item_train)\n",
        "map10_4 = mean_average_precision_at_k(model_4,sparse_user_item_train, sparse_user_item_test, K=10)\n",
        "print(map10_2)"
      ],
      "metadata": {
        "id": "Ff4wC2lETBhV"
      },
      "execution_count": null,
      "outputs": []
    },
    {
      "cell_type": "code",
      "source": [
        "model_1 = implicit.als.AlternatingLeastSquares(factors=190,\n",
        "                                                 alpha=40,\n",
        "                                                 iterations=20,\n",
        "                                                 regularization=0.01)\n",
        "model_1.fit(sparse_user_item_train)\n",
        "map10 = mean_average_precision_at_k(model_1,sparse_user_item_train, sparse_user_item_test, K=10, num_threads=10)\n",
        "print(map10)"
      ],
      "metadata": {
        "id": "vVk5T5_FVG6O"
      },
      "execution_count": null,
      "outputs": []
    },
    {
      "cell_type": "code",
      "source": [
        "model_1 = implicit.als.AlternatingLeastSquares(factors=190,\n",
        "                                                 alpha=15,\n",
        "                                                 iterations=10,\n",
        "                                                 regularization=0.05)\n",
        "model_1.fit(sparse_user_item_train)\n",
        "map10 = mean_average_precision_at_k(model_1,sparse_user_item_train, sparse_user_item_test, K=10, num_threads=10)\n",
        "print(map10)"
      ],
      "metadata": {
        "id": "nMpYMx1wabAI"
      },
      "execution_count": null,
      "outputs": []
    },
    {
      "cell_type": "markdown",
      "metadata": {
        "id": "5KF0KoBKWYRV"
      },
      "source": [
        "## ALS Best Model Performance"
      ]
    },
    {
      "cell_type": "code",
      "execution_count": null,
      "metadata": {
        "id": "n0_V39sEWXrT"
      },
      "outputs": [],
      "source": [
        "precision_als = precision_at_k(model_1, sparse_user_item_train, sparse_user_item_test, K=10, num_threads=10)\n",
        "precision_als"
      ]
    },
    {
      "cell_type": "code",
      "execution_count": null,
      "metadata": {
        "id": "irp5pUiojPLr"
      },
      "outputs": [],
      "source": [
        "ndcg = ndcg_at_k(model_1, sparse_user_item_train, sparse_user_item_test, show_progress=True, K=10, num_threads=10)\n",
        "ndcg"
      ]
    },
    {
      "cell_type": "markdown",
      "metadata": {
        "id": "z4J68JMGixOZ"
      },
      "source": [
        "## ALS Model Recommendations"
      ]
    },
    {
      "cell_type": "code",
      "execution_count": null,
      "metadata": {
        "id": "7qOwrHijSMoj"
      },
      "outputs": [],
      "source": [
        " # Assuming you want recommendations for user with ID 10\n",
        "user_id = 5000\n",
        "# Get the row of the user from the sparse_user_item matrix\n",
        "user_row = sparse_user_item[user_id]\n",
        "# Reshape the user_row to have 1 row per user\n",
        "user_items = np.reshape(user_row, (1, -1))\n",
        "\n",
        "# Now you can call the recommend function\n",
        "recommended = model_1.recommend(user_id, user_items, N=10, filter_already_liked_items=True)\n",
        "rec_tab = pd.DataFrame(recommended)\n",
        "rec_tab = rec_tab.T.rename(columns={0:\"sku_id\", 1:\"conf\"})\n",
        "rec_tab = rec_tab.merge(skus, on=\"sku_id\", how=\"left\")\n",
        "rec_tab"
      ]
    },
    {
      "cell_type": "code",
      "execution_count": null,
      "metadata": {
        "id": "ZYSoZiIeRYq1"
      },
      "outputs": [],
      "source": [
        "#Get similar items\n",
        "item_id = 7\n",
        "n_similar = 10\n",
        "similar = model.similar_items(item_id, n_similar)\n",
        "print(similar)"
      ]
    },
    {
      "cell_type": "markdown",
      "metadata": {
        "id": "LxqvV7post2P"
      },
      "source": [
        "# BPR Model"
      ]
    },
    {
      "cell_type": "code",
      "source": [
        "!pip install lightfm"
      ],
      "metadata": {
        "id": "y2EuzT3otQaU"
      },
      "execution_count": null,
      "outputs": []
    },
    {
      "cell_type": "code",
      "source": [
        "from implicit.bpr import BayesianPersonalizedRanking as BPR\n",
        "from lightfm import LightFM\n",
        "from lightfm.evaluation import precision_at_k, auc_score"
      ],
      "metadata": {
        "id": "kEQXcYYhXwRJ"
      },
      "execution_count": null,
      "outputs": []
    },
    {
      "cell_type": "code",
      "source": [
        "bpr_model = BPR(factors=200,\n",
        "                learning_rate=0.01,\n",
        "                iterations=20,\n",
        "                verify_negative_samples=True)"
      ],
      "metadata": {
        "id": "D2YA64TmYARn"
      },
      "execution_count": null,
      "outputs": []
    },
    {
      "cell_type": "code",
      "source": [
        "bpr_model.fit(sparse_user_item_train_binary, show_progress=True)"
      ],
      "metadata": {
        "id": "lmdgG3Thm87-"
      },
      "execution_count": null,
      "outputs": []
    },
    {
      "cell_type": "code",
      "source": [
        "mean_average_precision_at_k(bpr_model, sparse_user_item_train_binary, sparse_user_item_test_binary, K=10)"
      ],
      "metadata": {
        "id": "_pRf6wA5nOmR"
      },
      "execution_count": null,
      "outputs": []
    },
    {
      "cell_type": "code",
      "source": [
        "lightfm_bpr_model = LightFM(learning_rate=0.05, loss='bpr', no_components=100)\n",
        "lightfm_bpr_model.fit(sparse_user_item_train_binary, epochs=10)"
      ],
      "metadata": {
        "id": "cmK6SdRwtq9-"
      },
      "execution_count": null,
      "outputs": []
    },
    {
      "cell_type": "code",
      "source": [
        "train_precision = precision_at_k(lightfm_bpr_model, sparse_user_item_train_binary, k=10).mean()\n",
        "test_precision = precision_at_k(lightfm_bpr_model, sparse_user_item_test_binary, k=10).mean()"
      ],
      "metadata": {
        "id": "hVbrZRpxt4dF"
      },
      "execution_count": null,
      "outputs": []
    },
    {
      "cell_type": "code",
      "source": [
        "print(train_precision)"
      ],
      "metadata": {
        "id": "eyI6U2kkvAH5"
      },
      "execution_count": null,
      "outputs": []
    },
    {
      "cell_type": "markdown",
      "metadata": {
        "id": "f3AaWOd5tBaF"
      },
      "source": [
        "## BPR Model param tuning"
      ]
    }
  ],
  "metadata": {
    "colab": {
      "toc_visible": true,
      "provenance": [],
      "mount_file_id": "15O8mMpLYlRgpXtTwlzZkUv64TxCmS9_8",
      "authorship_tag": "ABX9TyOQPu2nT/CnB7Yeh7FOp1tY",
      "include_colab_link": true
    },
    "kernelspec": {
      "display_name": "Python 3",
      "name": "python3"
    },
    "language_info": {
      "name": "python"
    }
  },
  "nbformat": 4,
  "nbformat_minor": 0
}